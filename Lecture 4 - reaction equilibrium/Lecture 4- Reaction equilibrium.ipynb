{
 "cells": [
  {
   "cell_type": "markdown",
   "metadata": {},
   "source": [
    "# Lecture 4 - Reaction Equilibrium"
   ]
  },
  {
   "cell_type": "markdown",
   "metadata": {},
   "source": [
    "## Objectives\n",
    "<br/>\n",
    "\n",
    "By the end of this lecture you should be able to:\n",
    "\n",
    "* Analyze equilibrium reaction equations\n",
    "* Explain the effect of temperature on reaction rates"
   ]
  },
  {
   "cell_type": "markdown",
   "metadata": {},
   "source": [
    "## Equilibrium reactions \n",
    "\n",
    "\n",
    "## <p style><font color='green'>This paragraph is taken from libretexts, the wording are minorly modified , bold is added after</font>\n",
    "    \n",
    "When **the concentrations of reactants and products have become constant**, the system is said to have reached a point of equilibrium. The equilibrium state is **dynamic**. At equilibrium, the reactions are **not stopped**, but rather **the rates of opposing reactions have become equal** such that concentrations of chemical species do not change."
   ]
  },
  {
   "cell_type": "markdown",
   "metadata": {},
   "source": [
    "Laboratory kinetic studies may be performed on reactions far from equilibrium where products are in low concentration and the reverse reactions are not important (this is what we considered previously).\n",
    "\n",
    "$$CO_{(g)} + H_{2}O_{(g)} → CO_{2(g)} + H_{2(g)}$$\n",
    "\n",
    "Closer to equilibrium however we must take these reverse reactions into account.\n",
    "\n",
    "$$CO_{(g)} + H_{2}O_{(g)} ⇌ CO_{2(g)} + H_{2(g)}$$"
   ]
  },
  {
   "cell_type": "markdown",
   "metadata": {},
   "source": [
    "## Equilibrium constants"
   ]
  },
  {
   "cell_type": "markdown",
   "metadata": {},
   "source": [
    "## <font color='green'>This session has been changed by discussion. We might want to change lecture powerpoint as well</font>\n",
    "\n",
    "Consider a system with the following reaction:\n",
    "$$A⇌B$$\n",
    "\n",
    "Let's say the system is composed of 2 first-order reactions:\n",
    "\n",
    "Forward reaction: $A→B$, where the reaction rate is expressed by: $r=k_{r}×[A]$\n",
    "\n",
    "Reverse reaction: $B→A$, where the reaction rate is expressed by: $r'=k'_{r}×[B]$\n",
    "\n",
    "Net rate of change in $[A]$ considering both reactions is: $\\frac{d[A]}{dt}=r'-r=k'_{r}×[B]-k_{r}×[A]$\n",
    "\n",
    "If the initial concentration of A is $[A]_{0}$ and no B is present, the at all times $[A]+[B]=[A]_{0}$, using this in the equation above:\n",
    "\n",
    "$$\\frac{d[A]}{dt}=k'_{r}[B]-k_{r}[A]=k'_{r}([A]_{0}-[A])-k_{r}[A]$$\n",
    "\n",
    "$$\\frac{d[A]}{dt}=k'_{r}[A]_{0}-(k_{r}+k'_{r})[A]$$\n",
    "\n",
    "This is what is known as an ordinary differential equation, as $[A]$ is both a differential and a separate term. You may not know how to solve these equations and do not need to know this for this course. However, if we were to solve this ordinary differential equation, we would get the following:\n",
    "\n",
    "$$[A]=\\frac{k'_{r}+k_{r}e^{-(k'_{r}+k{r})t}}{k'_{r}+k_{r}}[A]_{0}$$\n"
   ]
  },
  {
   "cell_type": "markdown",
   "metadata": {},
   "source": [
    "Using the expression for $[A]$ above, $[B]=[A]_{0}-[A]$, taking arbitary values of $k_{r}=0.693$ and $k'_{r}=0.262$, the following graph is produced:\n",
    "\n",
    "<p style=\"text-align:center;\">\n",
    "<img src=\"lecture 4-images/Capture-concentration change 2 first orders.PNG\" width=600>\n",
    "</p>\n",
    "As you can see from the graph, over time the concentrations change less. After a long time they should reach a state of equilibrium. The length of time to reach equilibrium (or close to it) will depend on the reaction rates."
   ]
  },
  {
   "cell_type": "markdown",
   "metadata": {},
   "source": [
    "**Definition of the equilibrium constant:**\n",
    "<font color='red'>$$K or K_{eq}=\\prod_{i} a_{i,eq}^{vi}$$</font>\n",
    "\n",
    "TODO: Any way to get better spacing between K and Keq?\n",
    "\n",
    "Unpack the notation:\n",
    "\n",
    ">$K$ or $K_{eq}$ is the equilibrium constant \n",
    ">\n",
    ">$\\prod_{i}$ is the product notation (similar to $\\sum_{i}$, but terms are multiplied rather than added)\n",
    ">\n",
    ">$a_{i,eq}$ is the activity of compound $i$ at equilibrium, for now we will assume concentration divided by a unit concentration term. This will give us the concentration of the substace in a dimensionless form,   eg. $\\frac{[A]}{c^\\theta}$, where $[A]$ and ${c^\\theta}$ are in units of mol/L, and $c^\\theta$ has magnitude of 1.\n",
    ">\n",
    ">$vi$ is the stoichiometric coefficient of compound i we saw previously. It is positive for products and negative for reactants."
   ]
  },
  {
   "cell_type": "markdown",
   "metadata": {},
   "source": [
    "<br/>\n",
    "<br/>\n",
    "\n",
    "As $t→\\infty$ we approach equilibrium and we get that:\n",
    "\n",
    "$$[A]_{eq}=\\frac{k'_{r}+k_{r}e^{-(k'_{r}+k{r})t}}{k'_{r}+k_{r}}[A]_{0}=\\frac{k'_{r}}{k'_{r}+k_{r}}[A]_{0}$$\n",
    "and\n",
    "$$[B]_{eq}=[A]_{0}-[A]_{eq}=\\frac{k_{r}}{k'_{r}+k_{r}}[A]_{0}$$\n",
    "The equilibrium constant is defined as:\n",
    "<font color='red'>$$K=\\frac{[B]_{eq}/c^\\theta}{[A]_{eq}/c^\\theta}=\\frac{[B]_{eq}}{[A]_{eq}}=\\frac{k_{r}}{k'_{r}}$$</font>\n",
    "\n",
    "At equilibrium the rates of forward and reverse reactions should be thesame (meaning no change in overall concentrations), so it makes sense that when we rearrange this we get:\n",
    "<font color='red'>$$k'_{r}[B]_{eq}=k_{r}[A]_{eq}$$</font>"
   ]
  },
  {
   "cell_type": "markdown",
   "metadata": {},
   "source": [
    "<br/>\n",
    "<br/>\n",
    "\n",
    "**Consider another system with the following reaction:**\n",
    "$$A+B⇌C$$\n",
    "\n",
    "Forward reaction: $A+B→C$, where the forward reaction rate is expressed by: $r=k_{r}[A][B]$\n",
    "\n",
    "Reverse reaction: $C→A+B$, where the reverse reaction rate is expressed by: $r'=k'_{r}[C]$\n",
    "\n",
    "Here, in equilibrium we have:\n",
    "\n",
    "$$r=r'=k_{r}[A]_{eq}[B]_{eq}=k'_{r}[C]_{eq}$$\n",
    "\n",
    "The equilibrium constant is defined as dimensionless, so here is where the $c^\\theta$ terms make a difference. So the equilibrium constant can be espressed as:\n",
    "\n",
    "<font color='red'>$$K=\\frac{[C]_{eq}/c^\\theta}{[A]_{eq}/c^\\theta×[B]_{eq}/c^\\theta}=(\\frac{[C]}{[A][B]})_{eq}=\\frac{k_{r}}{k'_{r}}c^\\theta$$</font>\n",
    "\n",
    "Recall that $k_{r}$ and $k'_{r}$ here will have different units, so the $𝑐^\\theta$ term ensures that these become dimensionless when one is divided by the other.\n"
   ]
  },
  {
   "cell_type": "markdown",
   "metadata": {},
   "source": [
    "### Example\n",
    "\n",
    "## <p style><font color='green'>The first 3 example questions and answers are taken and slightly modified from libretexts.The explaination for the second question is written myself because I don't think their explaination is right. The explaination for the third question is written by myself since it is not provided</font>\n",
    "    \n",
    "For the balanced chemical reaction below, write an equation for the equilibrium constant(K).\n",
    "    \n",
    "TODO: was temperature dependency introduced yet? The solution for the True or False may be confusing if not, perhaps move to after Arrhenius?\n",
    "\n",
    "$$2H_{2(g)}+N_{2(g)} ⇌N_{2}H_{4(g)}$$\n"
   ]
  },
  {
   "cell_type": "markdown",
   "metadata": {},
   "source": [
    "<details>\n",
    "  <summary><font color='blue'>Click here to see the solution!</font></summary>\n",
    "<div style=\"background-color:rgba(0, 0, 0, 0.05)\"> \n",
    "    \n",
    " **Solution**\n",
    "<br/>\n",
    "    \n",
    "$$K=\\frac{[N_{2}H_{4}]}{[H_{2}]^2[N_{2}]}$$\n",
    "    \n",
    "</div> \n",
    "</details>\n"
   ]
  },
  {
   "cell_type": "markdown",
   "metadata": {},
   "source": [
    "True or False: A reaction is in a state of equilibrium when the equilibrium constant K is equal to 0."
   ]
  },
  {
   "cell_type": "markdown",
   "metadata": {},
   "source": [
    "<details>\n",
    "  <summary><font color='blue'>Click here to see the solution!</font></summary>\n",
    "<div style=\"background-color:rgba(0, 0, 0, 0.05)\"> \n",
    "    \n",
    " **Solution**\n",
    "<br/>\n",
    "    \n",
    "**False**- because for each specific reaction, the equilibrium constant only depends on temperature. The reaction is at equilibrium when the value of $\\prod_{i} a_{i}^{vi}$ is equal to $K_{eq}$ (notice $a_{i}$ instead of $a_{i,eq}$, because we don't know if the system is at equilibrium when we calculate this). Also experimentally, we can say that the system is at equilibrium when the concentrations of each component are not changing.\n",
    "    \n",
    "</div> \n",
    "</details>"
   ]
  },
  {
   "cell_type": "markdown",
   "metadata": {},
   "source": [
    "TODO: Should this not be after Arrhenius equation, as we need to know that?\n",
    "\n",
    "Which of the following does **not** affect the concentration of each component at equilibrium for a reaction system?\n",
    "\n",
    "a. Adding products\n",
    "\n",
    "b. Increasing the temperature\n",
    "\n",
    "c. Using a catalyst\n",
    "\n",
    "d. Decreasing volume\n",
    "\n",
    "**Hint:** An understanding of Le Châtelier's principle can be helpful for this question, but you can also analyze this question using the definition of $K_{eq}$\n"
   ]
  },
  {
   "cell_type": "markdown",
   "metadata": {},
   "source": [
    "## <p style><font color='green'>this definition is taken from https://courses.lumenlearning.com/introchem/chapter/le-chateliers-principle/, there is a copyright license at the bottom of its page</font>\n",
    "    \n",
    "<details>\n",
    "  <summary><font color='blue'>Click here for the definition of Le Châtelier's principle!</font></summary>\n",
    "<div style=\"background-color:rgba(0, 0, 0, 0.05)\"> \n",
    "<br/>\n",
    "    \n",
    "**Le Chatelier’s principle** is an observation about chemical equilibria of reactions. It states that changes in the temperature, pressure, volume, or concentration of a system will result in **predictable and opposing changes** in the system in order to achieve a new equilibrium state.\n",
    " \n",
    "    \n",
    "    \n",
    "</div> \n",
    "</details>"
   ]
  },
  {
   "cell_type": "markdown",
   "metadata": {},
   "source": [
    "<details>\n",
    "  <summary><font color='blue'>Click here to see the solution!</font></summary>\n",
    "<div style=\"background-color:rgba(0, 0, 0, 0.05)\"> \n",
    "    \n",
    " **Solution**\n",
    "<br/>\n",
    "    \n",
    "**Answer: c**\n",
    "<br/>\n",
    "    \n",
    "Using a catalyst decreases the energy barrier for the reaction to happen (activation energy), but does not affect the equilibrium constant.\n",
    "<br/>\n",
    "   \n",
    "Both a and d will cause a shifting of the equilibrium due to Le Chatelier’s principle. For a, the reaction will shift to the reverse, meaning that the reverse reaction will happen more often so more reactants will be formed and more products will be consumed. For d, the system will shift to the side that produces a larger number of gaseous molecules to increase the volume. There may be a case where gas volume stays the same no matter with products or reactants, but this is not known.\n",
    "<br/>\n",
    "\n",
    "If you analyze a and d using $K_{eq}$, the equilibrium constant will not change, but the concentration of the components will change, and the system will approach the same equilibrium constant after the change.\n",
    "<br/>\n",
    "    \n",
    "b - The equilibrium constant will change when temperature changes, shifting reactant and product concentrations.\n",
    "    \n",
    "</div> \n",
    "</details>"
   ]
  },
  {
   "cell_type": "markdown",
   "metadata": {},
   "source": [
    "Consider the following reaction system:\n",
    "\n",
    "$$A⇌B+C$$\n",
    "\n",
    "From initial rate and equilibrium experiments we know the following: $[A]_{eq}$ = 0.5 mol/L, $[B]_{eq}$ = 0.1 mol/L, $[C]_{eq}$ =0.2 mol/L, $k_{r}$ = 0.1 $min^{-1}$.\n",
    "\n",
    "What are the values of the equilibrium constant and reverse reaction constant? \n",
    "\n",
    "<p style=\"text-align:center;\">$K or K_{eq}=\\prod_{i} a_{i,eq}^{vi}$, at equilibrium $r=r'$</p>\n",
    "\n",
    "TODO: any way to split K and Keq here?"
   ]
  },
  {
   "cell_type": "markdown",
   "metadata": {},
   "source": [
    "<details>\n",
    "  <summary><font color='blue'>Click here to see the solution!</font></summary>\n",
    "<div style=\"background-color:rgba(0, 0, 0, 0.05)\"> \n",
    "    \n",
    " **Solution**\n",
    "<br/>\n",
    "    \n",
    "Start with expressing K in forms of concentrations and $k_{r}$s:\n",
    "<br/>\n",
    "\n",
    "\\begin{align*}\n",
    "K  & =\\frac{[B]_{eq}/c^\\theta*[C]_{eq}/c^\\theta}{[A]_{eq}/c^\\theta}\\\\\n",
    "& = (\\frac{[B][C]}{[A]})_{eq}\\frac{1}{c^\\theta}\\\\         \n",
    "& =  \\frac{k_{r}}{k'_{r}*c^\\theta} \n",
    "\\end{align*}    \n",
    " \n",
    "Calculate K from the expression with concentrations:\n",
    " \n",
    "\\begin{align*}\n",
    "K & = (\\frac{[B][C]}{[A]})_{eq}\\frac{1}{c^\\theta}\\\\ \n",
    "& = (\\frac{0.1\\frac{mol}{L}*0.2\\frac{mol}{L}}{0.5\\frac{mol}{L}})_{eq}\\frac{1}{c^\\theta}\\\\ \n",
    "& = 0.04\n",
    "\\end{align*}     \n",
    "    \n",
    "Subsitude the K value into the expression with $k_{r}$:\n",
    "<br/>\n",
    "    \n",
    "\\begin{align*}\n",
    "K & =  \\frac{k_{r}}{k'_{r}*c^\\theta}\\\\ \n",
    "k'_{r}& = \\frac{k_{r}}{K*c^\\theta}\\\\ \n",
    "& = \\frac{0.1min^{-1}}{0.04*1\\frac{mol}{L}}\\\\\n",
    "& = 2.5 \\frac{L}{mol*min}    \n",
    "\\end{align*}     \n",
    "\n",
    "Back substitute $k_{r}$ into the rate equations to check this:\n",
    "<br/>\n",
    "    \n",
    "$$r=k_{r}[A]_{eq}=0.1min^{-1}*0.5\\frac{mol}{L}=0.05\\frac{mol}{L*min}$$  \n",
    "    \n",
    "$$r'=k'_{r}[B]_{eq}[C]_{eq}=2.5 \\frac{L}{mol*min}*0.1\\frac{mol}{L}*0.2\\frac{mol}{L}=0.05\\frac{mol}{L*min}$$ \n",
    "    \n",
    "Forward and reverse reaction rates are the same at $0.05\\frac{mol}{L*min}$  , as we would expect at equilibrium.   \n",
    "    \n",
    "\n",
    "</div> \n",
    "</details>\n"
   ]
  },
  {
   "cell_type": "markdown",
   "metadata": {},
   "source": [
    "## Arrhenius equation"
   ]
  },
  {
   "cell_type": "markdown",
   "metadata": {},
   "source": [
    "The Arrhenius Equation describes the relationship between the reaction rate and temperature.\n",
    "\n",
    "<font color='red'>$$ln(k_{r})=ln(A)-\\frac{E_{a}}{RT}$$</font>\n",
    "\n",
    "Where\n",
    "> $A$ in units of $time^{-1}$ (eg.$s^{-1}$,$min^{-1}$...) is called the frequency factor or pre-exponential factor. It describes the frequency that molecules collide with a correct orientation to possibly make a  chemical reaction.\n",
    ">\n",
    "> $E_{a}$ is the activation energy in units of energy per amount of molecules (eg.J/mol, kJ/mol...)\n",
    ">\n",
    "> $R$ is the ideal gas constant in the appropriate units (eg. 8.314$\\frac{J}{mol·K}$)\n",
    ">\n",
    "> $T$ needs to be expressed in absolute units (eg. K)"
   ]
  },
  {
   "cell_type": "markdown",
   "metadata": {},
   "source": [
    "The Arrhenius Equation is in a linear form if we graph $ln(k_{r})$ as y and $\\frac{1}{T}$ as x:\n",
    "\n",
    "<font color='red'>$$ln(k_{r})=-\\frac{E_{a}}{R}×\\frac{1}{T}+ln(A)$$</font>\n",
    "\n",
    "Where \n",
    "\n",
    "> The slope of the graph is equal to $-\\frac{E_{a}}{R}$\n",
    ">\n",
    "> The y intercept is equal to $ln(A)$"
   ]
  },
  {
   "cell_type": "markdown",
   "metadata": {},
   "source": [
    "Once $E_{a}$ is known for a reaction, the rate of reaction can be predicted at a given temperature if it is known at another:\n",
    "\n",
    "<p style=\"text-align:center;\">$ln(k_{r1})=ln(A)-\\frac{E_{a}}{RT_{1}}$ and $ln(k_{r2})=ln(A)-\\frac{E_{a}}{RT_{2}}$</p>\n",
    "\n",
    "Subtract the first from the second to get: \n",
    "\n",
    "$$ln(k_{r2})-ln(k_{r1})=-\\frac{E_{a}}{RT_{2}}+\\frac{E_{a}}{RT_{1}}$$\n",
    "\n",
    "This simplifies to: \n",
    "\n",
    "<font color='red'>$$ln(\\frac{k_{r2}}{k_{r1}})=\\frac{E_{a}}{R}(\\frac{1}{T_{1}}-\\frac{1}{T_{2}})$$</font>"
   ]
  },
  {
   "cell_type": "markdown",
   "metadata": {},
   "source": [
    "### Example\n",
    "\n",
    "Say a certain biological reaction has an activation energy of 50 kJ/mol, how much faster will this reaction be at body temperature (37°C) vs room temperature (25°C)?\n",
    "\n",
    "Note R = 8.314$\\frac{J}{mol·K}$"
   ]
  },
  {
   "cell_type": "markdown",
   "metadata": {},
   "source": [
    "<details>\n",
    "  <summary><font color='blue'>Click here to see the solution!</font></summary>\n",
    "<div style=\"background-color:rgba(0, 0, 0, 0.05)\"> \n",
    "    \n",
    " **Solution**\n",
    "<br/>\n",
    "    \n",
    "* Be careful with the unit consistency. Use absolute units for temperatures.\n",
    "    \n",
    "$$ln(\\frac{k_{r2}}{k_{r1}})=\\frac{50*10^3J/mol}{8.314J/(K·mol)}(\\frac{1}{298K}-\\frac{1}{310K})=0.781$$\n",
    "    \n",
    "$$\\frac{k_{r2}}{k_{r1}}=e^{0.781}=2.18$$\n",
    "\n",
    "So with this 12°C temperature increase, the reaction rate would increase 2.18 times. A rule of thumb is that reaction rates double every 10°C, but we know this depends on the activation energy.\n",
    "    \n",
    "</div> \n",
    "</details>\n"
   ]
  },
  {
   "cell_type": "markdown",
   "metadata": {},
   "source": [
    "Malipulating the previous Arrhenius equation, we can isolate $k_{r}$ by taking the exponent of each side to get:\n",
    "\n",
    "<p style><font color='red',size=4>$$k_{r}=Ae^{(-\\frac{E_{a}}{RT})}$$</font></p>\n",
    "\n",
    "If Ea is 0, all collisions result in a reaction, then \n",
    "$$k_{r}=Ae^{(-\\frac{E_{a}}{RT})}=Ae^0=A$$\n",
    "Meaning the rate constant when each collision is successful is equal to the frequency factor.\n",
    "\n",
    "When Ea>0, then only a subset of reactions are successful represented by $e^{(-\\frac{E_{a}}{RT})}$\n"
   ]
  },
  {
   "cell_type": "markdown",
   "metadata": {},
   "source": [
    "<p style=\"text-align:center;\">\n",
    "<img src=\"lecture 4-images/Capture-activation energy with catalyst.PNG\" width=400>\n",
    "</p>"
   ]
  },
  {
   "cell_type": "markdown",
   "metadata": {},
   "source": [
    "## Activation energy\n",
    "\n",
    "Activation energy($E_{a}$) represents the energy needed for reactant to collide and get to a state such that their bonds can rearrange to be able to form products."
   ]
  },
  {
   "cell_type": "markdown",
   "metadata": {},
   "source": [
    "$$ln(\\frac{k_{r2}}{k_{r1}})=\\frac{E_{a}}{R}(\\frac{1}{T_{1}}-\\frac{1}{T_{2}})$$\n",
    "\n",
    "* A high $E_{a}$ signified the rate strongly depends on temperature\n",
    "* Zero $E_{a}$ indicates the rate is independent of temperature\n",
    "* Negative $E_{a}$ means the rate decreases with temperature (this is very rare)\n"
   ]
  },
  {
   "cell_type": "markdown",
   "metadata": {},
   "source": [
    "## <font color='green'>This session and image are taken from libretexts; text has been modified</font>\n",
    "Graph (a) illustrates the general situation in which the products have a lower potential energy than the reactants, so the overall reaction releases energy; that is, it is energetically downhill, and ΔE < 0.  \n",
    "\n",
    "In contrast, graph (b) illustrates the case in which the products have a higher potential energy than the reactants, so the overall reaction requires an input of energy; that is, it is energetically uphill, and ΔE > 0. \n",
    "\n",
    "Although the energy changes that result from a reaction can be positive, negative, or even zero, in most cases an energy barrier must be overcome before a reaction can occur. This means that the activation energy is almost always positive.\n",
    "\n",
    "<p style=\"text-align:center;\">\n",
    "<img src=\"lecture 4-images/Capture-activation energy.PNG\" width=700>\n",
    "</p>"
   ]
  },
  {
   "cell_type": "markdown",
   "metadata": {},
   "source": [
    "### Example\n",
    "\n",
    "Enzymes are biological catalysts. Suppose an enzyme reduces the activation energy and frequency factor of a reaction by a factor of 10. How many more reactions are there that are successful if the activation energy goes from 80 kJ/mol to 8 kJ/mol at 298 K?\n",
    "\n",
    "TODO: Perhaps question and solution can be reworded to show change in frequency factor's effect vs change in activation energy effect more clearly, maybe just changing these one by one.\n"
   ]
  },
  {
   "cell_type": "markdown",
   "metadata": {},
   "source": [
    "<details>\n",
    "  <summary><font color='blue'>Click here to see the solution!</font></summary>\n",
    "<div style=\"background-color:rgba(0, 0, 0, 0.05)\"> \n",
    "    \n",
    " **Solution**\n",
    "<br/>\n",
    "<p style><font size=4>    \n",
    "\\begin{align*}\n",
    "\\frac{k'(catalyzed)}{k(uncatalyzed)} & =\\frac{A'e^{(-\\frac{E_{a}'}{RT})}}{Ae^{(-\\frac{E_{a}}{RT})}}\\\\\n",
    "& = \\frac{A'}{A}×e^{\\frac{-E_{a}'+E_{a}}{RT}}\\\\         \n",
    "& = \\frac{1}{10}×e^{\\frac{(-8+80)kJ/mol}{8.314J/(molK)298K}}\\\\\n",
    "& = 4.2×10^{12}\n",
    "\\end{align*} \n",
    "    </font>\n",
    "    </p>    \n",
    "A decrease in $E_{a}$ has a drastic effect on reaction rate.\n",
    "</div> \n",
    "</details>"
   ]
  },
  {
   "cell_type": "markdown",
   "metadata": {},
   "source": [
    "## <font color='green'>This example is taken from libretexts. The question is copied. The steps of solution is written by myself as it is not provided on the site</font>\n",
    "\n",
    "## <font color='green'>The sample answer is Ea  = 114 kJ/mol and k at 700K = $1.86 × 10^{4} M^{-1}s^{-1}$, did I make any mistakes or it's just rounding error?</font>\n",
    "\n",
    "## <font color='green'>Do I need to put units for any steps in between? I'm not very certain about the units</font> \n",
    "TODO: See updates and comments on units. I think difference is error perhaps in graphing (which is fine).\n",
    "\n",
    "### Example\n",
    "\n",
    "The equation for the decomposition of $NO_{2}$ to $NO$ and $O_{2}$ is second order in $NO_{2}$:\n",
    "\n",
    "$$2NO_{2(g)}→2NO_{(g)}+O_{2(g)}$$\n",
    "\n",
    "Data for the reaction rate as a function of temperature are listed in the following table. Calculate  Ea  for the reaction and the rate constant at 700 K.\n",
    "\n",
    "|   T(K)  |   k$(M^{-1}s^{-1})$ |\n",
    "| :---:  |  :--:  | \n",
    "|     592     |    522    |\n",
    "|     603     |    755    |\n",
    "|     627     |    1700    |\n",
    "|     652     |    4020    |\n",
    "|     656     |    5030    |"
   ]
  },
  {
   "cell_type": "markdown",
   "metadata": {},
   "source": [
    "<details>\n",
    "  <summary><font color='blue'>Click here to see the solution!</font></summary>\n",
    "<div style=\"background-color:rgba(0, 0, 0, 0.05)\"> \n",
    "    \n",
    " **Solution**\n",
    "<br/>\n",
    "\n",
    "**Step 1:** Plot the Arrhenius Equation in the linear form: $ln(k_{r})=-\\frac{E_{a}}{R}*\\frac{1}{T}+ln(A)$    \n",
    "<p style=\"text-align:center;\">\n",
    "<img src=\"lecture 4-images/Capture - arrhenius linear example.PNG\" width=500>\n",
    "</p>\n",
    "<br/>    \n",
    "    \n",
    "**Step 2:** Calculate the activation energy ($E_{a}$) and the frequency factor ($A$) from the slope and intercept\n",
    "<br/>\n",
    "    \n",
    "\\begin{align*}\n",
    "E_{a} & = -slope × R\\\\\n",
    "& = -(-13572 K)×8.314 J/(molK)\\\\         \n",
    "& = 112838 J/mol\\\\\n",
    "& = 112.8 kJ/mol\n",
    "\\end{align*} \n",
    "<br/>\n",
    "    \n",
    "\\begin{align*}\n",
    "A & = e^{y-intercept}\\\\\n",
    "& = e^{29.145}\\\\         \n",
    "& = 4.545×10^{12} M^{-1}s^{-1}\n",
    "\\end{align*} \n",
    "<br/>\n",
    "Note that the units of A are the same as kr, when we take logarithms though we tend to then remove the units as we usually consider products of logarithmic. The important thing to remember is if we use A to solve for kr (as we will do below, we need to include the relevant units).\n",
    "\n",
    "**Step 3:** Calculate the rate constant ($k_{r}$) using the $E_{a}$, $A$ and given temperature   \n",
    "\\begin{align*}\n",
    "k_{r} & =Ae^{(-\\frac{E_{a}}{RT})} \\\\\n",
    "& = 4.545×10^{12}e^{(-\\frac{112838 J/mol}{8.314 J/(molK)×700 K})} \\\\\n",
    "& = 17265 M^{-1}s^{-1}\\\\         \n",
    "& = 1.73 × 10^{4} M^{-1}s^{-1}\n",
    "\\end{align*} \n",
    "    \n",
    "</div> \n",
    "</details>"
   ]
  },
  {
   "cell_type": "code",
   "execution_count": null,
   "metadata": {},
   "outputs": [],
   "source": []
  }
 ],
 "metadata": {
  "kernelspec": {
   "display_name": "Python 3",
   "language": "python",
   "name": "python3"
  },
  "language_info": {
   "codemirror_mode": {
    "name": "ipython",
    "version": 3
   },
   "file_extension": ".py",
   "mimetype": "text/x-python",
   "name": "python",
   "nbconvert_exporter": "python",
   "pygments_lexer": "ipython3",
   "version": "3.7.6"
  }
 },
 "nbformat": 4,
 "nbformat_minor": 4
}
