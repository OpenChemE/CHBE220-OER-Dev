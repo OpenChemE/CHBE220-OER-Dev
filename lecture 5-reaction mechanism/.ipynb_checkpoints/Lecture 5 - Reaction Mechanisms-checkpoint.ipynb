{
 "cells": [
  {
   "cell_type": "markdown",
   "metadata": {},
   "source": [
    "# Lecture 5 - Reaction Mechanisms"
   ]
  },
  {
   "cell_type": "markdown",
   "metadata": {},
   "source": [
    "## Objectives\n",
    "<br/>\n",
    "\n",
    "By the end of this lecture you should be able to:\n",
    "\n",
    "* Analyze elementary reactions, reaction molecularity \n",
    "\n",
    "* Select the rate-determining step given  the consecutive reactions and overall rate law of the reaction\n",
    "\n",
    "* Derive the rate law of a reaction given the consecutive reactions\n",
    "\n",
    "* Derive the rate law under pre-equilibria conditions \n",
    "\n",
    "* Understand kinetic and thermodynamic control"
   ]
  },
  {
   "cell_type": "markdown",
   "metadata": {},
   "source": [
    "## Elementary Reactions\n",
    "\n",
    "## <p style><font color='green'>The green texts are taken from libretexts, wording is minorly changed, bold is added after</font>\n",
    "    \n",
    "<font color='green'>The sequence of events that occur at the molecular level during a reaction is the **mechanism of the reaction**. It describes how individual atoms, ions, or molecules interact to form particular products. The **stepwise changes** are collectively called the reaction mechanism. </font> **Each step of the reaction** is called an **elementary reaction**.<font color='green'>The sum of the elementary reactions in the mechanism must give the balanced chemical equation for the overall reaction.</font>\n",
    "    \n",
    "## <p style><font color='purple'>The purple texts are taken fromhttps://opentextbc.ca/chemistry/chapter/12-6-reaction-mechanisms/ It is under a Creative Commons Attribution 4.0 International License. The original reaction has states in it (I deleted), no other modifications</font>\n",
    "    \n",
    "<font color='purple'>    \n",
    "The decomposition of ozone, for example, appears to follow a mechanism with two steps: \n",
    "<br/>    \n",
    "    $$O_{3}→O_{2}+O$$  \n",
    "    $$O+O_{3}→2O_{2}$$\n",
    " \n",
    "Elmentary reactions add up to the overall reaction:  $$2O_{3(g)}→3O_{2(g)}$$  \n",
    "    </font>\n",
    "    \n",
    "With the elementary reactions we do not specify phases, and the formula represents specific processes occurring with individual molecules or atoms.    \n",
    "\n",
    "<font color='purple'>Notice that the oxygen atom produced in the first step of this mechanism is consumed in the second step and therefore does not appear as a product in the overall reaction. Species that are produced in one step and consumed in a subsequent step are called **intermediates**. </font>"
   ]
  },
  {
   "cell_type": "markdown",
   "metadata": {},
   "source": [
    "## Molecularity\n",
    "    \n",
    "The **molecularity** is the number of molecules or atoms coming together to react in an elementary reaction.\n",
    "* **Uni**molecular reaction – Only **one** molecule is involved, examples might include an isomerization or decomposition\n",
    "\n",
    "    e.g. isomerization of cyclopropane to propene <img src=\"lecture 5-images/Capture-Cyclopropane to propene.PNG\" width=300>\n",
    "    e.g. decomposition of cyclobutane <img src=\"lecture 5-images/Capture-decomposition of cyclobutane.PNG\" width=300>\n",
    "    \n",
    "* **Bi**molecular reaction – **two** molecules collide, interact and undergo some kind of change. It can be two of the same or different molecules.\n",
    "\n",
    "    e.g. Hydrogen attacking a bromine molecule $$H+Br_{2}→HBr+Br$$\n",
    "   </p>"
   ]
  },
  {
   "cell_type": "markdown",
   "metadata": {},
   "source": [
    ">### Reaction order vs. Molecularity\n",
    ">\n",
    ">**Reaction order** –empirical quantity obtained from experimentally determined rate law.\n",
    ">\n",
    ">**Molecularity** –elementary reaction proposed as an individual step in a mechanism\n",
    ">\n",
    ">## <p style><font color='green'>The green texts are copied from libretexts</font>\n",
    "><font color='green'>The order of the elementary reaction is the same as its molecularity. In contrast, the rate law cannot be determined from the balanced chemical equation for the overall reaction (unless it is a single step mechanism and is therefore also an elementary step).</font></p>"
   ]
  },
  {
   "cell_type": "markdown",
   "metadata": {},
   "source": [
    "## Rate laws for elementary reactions\n",
    "\n",
    "### Unimolecular\n",
    "\n",
    "<p style=\"text-align:center;\">$A→P$(can be several products):     <font color='red',size=4>$-\\frac{d[A]}{dt}=k_{r}*[A]$</font></p>\n",
    "\n",
    "### Bimolecular\n",
    "\n",
    "<p style=\"text-align:center;\">$A+B→P$(can be several products):     <font color='red',size=4>$-\\frac{d[A]}{dt}=k_{r}*[A]*[B]$</font></p>\n",
    "<p style=\"text-align:center;\">$A+A→P$(can be several products):     <font color='red',size=4>$-\\frac{d[A]}{dt}=k_{r}*[A]^2$ </font></p>\n",
    "\n",
    "Generally these depend on concentration of reactants. However these rate laws must be tested against experimental data."
   ]
  },
  {
   "cell_type": "markdown",
   "metadata": {},
   "source": [
    "## Consecutive elementary reactions\n",
    "\n",
    "Some reactions proceed through the formation of an intermediate (I). One example of this with irreversible reactions is:\n",
    "\n",
    "$$A→I→P$$\n",
    "\n",
    "The intermediate($I$) occurs in the reaction steps but does not appear in the overall reaction: $A→P$"
   ]
  },
  {
   "cell_type": "markdown",
   "metadata": {},
   "source": [
    "### Example\n",
    "\n",
    "Given the consecutive elementary reaction:\n",
    "<p style><font size=4>$$A\\xrightarrow{\\text{ka}}I\\xrightarrow{\\text{kb}}P$$ </font>\n",
    "\n",
    "The rate of change for [A] is:<font size=3> $\\frac{d[A]}{dt}=-k_{a}*[A]$ </font>\n",
    "\n",
    "What are the equations for the rates of change for the other two species, $I$ and $P$, in terms of their concentrations and the reaction rate constants?\n",
    "</p>"
   ]
  },
  {
   "cell_type": "markdown",
   "metadata": {},
   "source": [
    "<details>\n",
    "  <summary><font color='blue'>Click here to see the solution!</font></summary>\n",
    "<div style=\"background-color:rgba(0, 0, 0, 0.05)\"> \n",
    "    \n",
    "**Solution**\n",
    "<br/>\n",
    "    \n",
    "the intermediate I is produced by the reaction that converts A to I and consumed by the reaction that produces P:  \n",
    "    \n",
    "$$\\frac{d[I]}{dt}=k_{a}*[A]-k_{b}*[I]$$\n",
    "<br/>\n",
    "P is produced by the reaction that converts I to P:     \n",
    "$$\\frac{d[P]}{dt}=k_{b}*[I]$$\n",
    "\n",
    "   \n",
    "    \n",
    "</div>  \n",
    "    \n",
    "</details>"
   ]
  },
  {
   "cell_type": "markdown",
   "metadata": {},
   "source": [
    "Taking arbitary values of $k_{a}$=1 and $k_{b}$=0.1, we can plot the concentration vs. time for the all the components:\n",
    "<p style=\"text-align:center;\">\n",
    "<img src=\"lecture 5-images/Capture-concentration change intermediate.PNG\" width=700>\n",
    "</p>\n"
   ]
  },
  {
   "cell_type": "markdown",
   "metadata": {},
   "source": [
    "## Steady-state approximation\n",
    "\n",
    "<p style><font size=4>$$A\\xrightarrow{\\text{ka}}I\\xrightarrow{\\text{kb}}P$$ </font>\n",
    "    \n",
    "This approximation assumes intermediate, I, is in a low constant concentration,ie:\n",
    "    $$\\frac{d[I]}{dt}=0$$\n",
    "    \n",
    "Generally the approximation is more accurate when $k_{b}>>k_{a}$ ($k_{b}$ is much greater than $k_{a}$)\n",
    "    \n",
    "> $k_{b}$ much greater than $k_{a}$ means that the reaction converts intermediate to product much faster than converting reactant to intermediate, then all the intermediate molecules will quickly be consumed after being produced. The intermediate molecule will stay at a relatively low concentration.\n",
    "\n",
    "As we saw before: $\\frac{d[A]}{dt}=-k_{a}[A]$   leads to   $[A]=[A]_{0}e^{-k_{a}t}$   \n",
    "    \n",
    "Now: $\\frac{d[I]}{dt}=k_{a}[A]-k_{b}[I]≈0$   so  $[I]=\\frac{k_{a}}{k_{b}}[A]$ \n",
    "    \n",
    "For product: $\\frac{d[P]}{dt}=k_{b}[I]≈k_{a}[A]$  so  $[P]=[A]_{0}(1-e^{-k_{a}t})$  \n",
    "   "
   ]
  },
  {
   "cell_type": "markdown",
   "metadata": {},
   "source": [
    "<details>\n",
    "  <summary><font color='blue'>Click to show the detailed proof. This is not required for the course, but might be usedful for understanding.</font></summary>\n",
    "<div style=\"background-color:rgba(0, 0, 0, 0.05)\"> \n",
    "<br/>\n",
    "    \n",
    "**For reactant:**\n",
    " $$\\frac{d[A]}{dt}=-k_{a}[A]$$\n",
    "  \n",
    "$[A]$ is a function of time. A function's derivative is a mulitple of itself, the function would be in an exponential form (will learn more of this in MATH 256 next term)\n",
    "<br/>\n",
    "\n",
    "$[A]=constant*e^{-k_{a}t}$, to find the constant, we know that [A] is equal to $[A]_{0}$ at time 0. Subsitute t=0, the exponential term is equal to 1. We are left with $[A]_{0}=constant$. Therefore:\n",
    "    $$[A]=[A]_{0}*e^{-k_{a}t}$$\n",
    "<br/>\n",
    "    \n",
    "**For intermediate:**\n",
    "<br/>\n",
    "    \n",
    "<p style=\"text-align:center;\">$\\frac{d[I]}{dt}=k_{a}[A]-k_{b}[I]≈0$   so  $[I]=\\frac{k_{a}}{k_{b}}[A]$ (use the second equivalence of the equation, no calculus needed)</p>\n",
    "<br/>\n",
    "    \n",
    "**For product:**\n",
    "<br/>  \n",
    "       \n",
    "$$\\frac{d[P]}{dt}=k_{b}[I]≈k_{a}[A]$$\n",
    "\n",
    "\\begin{align*}\n",
    "\\frac{d[P]}{dt} & = k_{a}[A]  \\\\\n",
    "\\frac{d[P]}{dt} & = k_{a}*[A]_{0}*e^{-k_{a}t}\\\\\n",
    "[P] & = \\int k_{a}*[A]_{0}*e^{-k_{a}t}\\\\\n",
    "[P] & = -[A]_{0}*e^{-k_{a}t} + constant\n",
    "\\end{align*}\n",
    "\n",
    "To find the constant, we know that initially there is no product in the system. At t=0, [P]=0. Subsitute t=0, the exponential term is equal to 1. We are left with $0=-[A]_{0}+constant$, so $constant=[A]_{0}$, Therefore:\n",
    "    $$[P]= -[A]_{0}*e^{-k_{a}t} + [A]_{0}=[A]_{0}(1-e^{-k_{a}t})$$\n",
    "    \n",
    "</div>  \n",
    "    \n",
    "</details>\n"
   ]
  },
  {
   "cell_type": "markdown",
   "metadata": {},
   "source": [
    "Taking arbitary values of $k_{a}$=1 and $k_{b}$=10, we can plot the concentration vs. time for the all the components:\n",
    "<p style=\"text-align:center;\">\n",
    "<img src=\"lecture 5-images/Capture-concentration change steady-state approximation.PNG\" width=700>\n",
    "</p>"
   ]
  },
  {
   "cell_type": "markdown",
   "metadata": {},
   "source": [
    "## <p style><font color='green'>This example is taken from libretexts https://chem.libretexts.org/Bookshelves/Physical_and_Theoretical_Chemistry_Textbook_Maps/Supplemental_Modules_(Physical_and_Theoretical_Chemistry)/Kinetics/Reaction_Mechanisms/Steady-State_Approximation , the last sentense of the question is added by myself, the solution is rewritten because theirs skips too much</font>"
   ]
  },
  {
   "cell_type": "markdown",
   "metadata": {},
   "source": [
    "### Example\n",
    "\n",
    "Use the steady-state approximation to derive the rate law for this reaction\n",
    "$$2N_{2}O_{5(g)}→4NO_{2(g)}+O_{2(g)}$$\n",
    " \n",
    "assuming it follows the following three-step mechanism:\n",
    "<p style=\"text-align:center;\">\n",
    "<img src=\"lecture 5-images/Capture-equilibrium example 2.PNG\" width=400>\n",
    "</p>\n",
    "\n",
    "The final expression of the rate law should only contain $[N_{2}O_{5}]$ and the rate constants of the elementary steps."
   ]
  },
  {
   "cell_type": "markdown",
   "metadata": {},
   "source": [
    "<details>\n",
    "  <summary><font color='blue'>Click here to see the solution!</font></summary>\n",
    "<div style=\"background-color:rgba(0, 0, 0, 0.05)\"> \n",
    "    \n",
    "**Solution**\n",
    "<br/>\n",
    "    \n",
    "**Step 1:** Find the intermediates and express their rate of formation. Let their rate of formation equals to 0 due to steady-state approximation.  \n",
    "$$\\frac{d[NO]}{dt}=k_{2}[NO_{3}][NO_{2}]-k_{3}[NO_{3}][NO]=0\\;\\;\\;\\;\\;(1)$$\n",
    "$$\\frac{d[NO_{3}]}{dt}=k_{f}[N_{2}O_{5}]-k_{b}[NO_{2}][NO_{3}]-k_{2}[NO_{3}][NO_{2}]-k_{3}[NO_{3}][NO]=0\\;\\;\\;\\;\\;(2)$$    \n",
    "    \n",
    "**Step 2:** Express the overall rate law. The easiest way is to express $\\frac{d[O_{2}]}{dt}$ because it is a product that has stoichiometric coefficient of 1.\n",
    "    $$\\frac{d[O_{2}]}{dt}=k_{2}[NO_{3}][NO_{2}]$$\n",
    "\n",
    "**Step 3:** From the expression of $\\frac{d[O_{2}]}{dt}$, we can see that to find the overall rate law, we just need to find $[NO_{3}][NO_{2}]$ by mulipulating (1) and (2).\n",
    "<br/>\n",
    "    \n",
    "From (1): $$k_{2}[NO_{3}][NO_{2}]=k_{3}[NO_{3}][NO]$$\n",
    "    \n",
    "Substitute into (2):    \n",
    "\\begin{align*}\n",
    "k_{f}[N_{2}O_{5}]-k_{b}[NO_{2}][NO_{3}]-k_{2}[NO_{3}][NO_{2}]-k_{2}[NO_{3}][NO_{2}] & = 0\\\\\n",
    "k_{b}[NO_{2}][NO_{3}]+2k_{2}[NO_{3}][NO_{2}] & =  k_{f}[N_{2}O_{5}]\\\\         \n",
    "[NO_{3}][NO_{2}] & =\\frac{k_{f}[N_{2}O_{5}]}{k_{b}+2k_{2}} \n",
    "\\end{align*} \n",
    "    \n",
    "**Step 4:** So the overall rate law is the $[NO_{3}][NO_{2}]$ we just found multiplied by $k_{2}$\n",
    "    $$r=\\frac{d[O_{2}]}{dt}=\\frac{k_{2}k_{f}[N_{2}O_{5}]}{k_{b}+2k_{2}}$$\n",
    "    \n",
    "</div>   \n",
    "</details>"
   ]
  },
  {
   "cell_type": "markdown",
   "metadata": {},
   "source": [
    "## <p style><font color='green'>This example is taken from https://www.esf.edu/chemistry/dibble/fch361/info/H2Br2PSSA.pdf, the question statements and solution are rewritten</font>\n",
    "    \n",
    "### Example\n",
    "\n",
    "Suppose we have a system with the reaction:\n",
    "$$H_{2}+Br_{2}→2H\\!Br$$\n",
    "\n",
    "The elementary reactions are:\n",
    "<p style=\"text-align:center;\">\n",
    "<img src=\"lecture 5-images/Capture-HBr example question.PNG\" width=300>\n",
    "</p>\n",
    "\n",
    "We can prove that\n",
    "$$\\frac{d[HBr]}{dt}=\\frac{k_{a}[Br_{2}]^{3/2}[H_{2}]}{[Br_{2}]+k_{b}[H\\!Br]}$$\n",
    "Determine the values of $k_{a}$ and $k_{b}$."
   ]
  },
  {
   "cell_type": "markdown",
   "metadata": {},
   "source": [
    "<details>\n",
    "  <summary><font color='blue'>Click here to see the solution!</font></summary>\n",
    "<div style=\"background-color:rgba(0, 0, 0, 0.05)\"> \n",
    "    \n",
    "**Solution**\n",
    "<br/>\n",
    "\n",
    "**Step 1:** Start from expressing the rate of change of the intermediates $Br$ and $H$, and let them equal to 0:\n",
    "$$\\frac{d[Br]}{dt}=2k_{1}[Br_{2}]-k_{2}[Br][H_{2}]+k_{3}[H][Br_{2}]+k_{4}[H][H\\!Br]-2k_{5}[Br]^2=0\\;\\;\\;\\;(1)$$ \n",
    "$$\\frac{d[H]}{dt}=k_{2}[Br][H_{2}]-k_{3}[H][Br_{2}]-k_{4}[H][H\\!Br]=0\\;\\;\\;\\;(2)$$    \n",
    "**Step 2:** Express $\\frac{d[HBr]}{dt}$:    \n",
    "$$\\frac{d[H\\!Br]}{dt}=k_{2}[Br][H_{2}]+k_{3}[H][Br_{2}]-k_{4}[H][H\\!Br]$$  \n",
    "We can see that to get the espression in the question statement, we need to replace $[H]$ and $[Br]$, then simplify.\n",
    "<br/>\n",
    "    \n",
    "**Step 3:** Add (1) and (2), we can see 3 of the terms cancel:\n",
    "\\begin{align*}\n",
    "2k_{1}[Br_{2}]-2k_{5}[Br]^2 & = 0\\\\\n",
    "2k_{1}[Br_{2}] & = 2k_{5}[Br]^2\\\\         \n",
    "(\\frac{k_{1}}{k_{5}})^{1/2}[Br_{2}]^{1/2} & =[Br]\n",
    "\\end{align*} \n",
    "\n",
    "**Step 4:** Determine $[H]$ using equation (2) by subsituting $[Br]$:    \n",
    "\\begin{align*}\n",
    "k_{2}[Br][H_{2}]-k_{3}[H][Br_{2}]-k_{4}[H][H\\!Br] & = 0\\\\\n",
    "(k_{3}[Br_{2}]+k_{4}[H\\!Br])[H] & = k_{2}[Br][H_{2}]\\\\   \n",
    "[H] & =\\frac{k_{2}[Br][H_{2}]}{k_{3}[Br_{2}]+k_{4}[H\\!Br]}\\\\         \n",
    "[H] & = \\frac{k_{2}(\\frac{k_{1}}{k_{5}})^{1/2}[Br_{2}]^{1/2}[H_{2}]}{k_{3}[Br_{2}]+k_{4}[H\\!Br]}\n",
    "\\end{align*} \n",
    "\n",
    "**Step 4:** Substitute $[H]$ and $[Br]$ into $\\frac{d[H\\!Br]}{dt}$, then simplify   \n",
    "\\begin{align*}\n",
    "\\frac{d[HBr]}{dt} & = k_{2}[Br][H_{2}]+k_{3}[H][Br_{2}]-k_{4}[H][H\\!Br]\\\\\n",
    " & = k_{2}(\\frac{k_{1}}{k_{5}})^{1/2}[Br_{2}]^{1/2}[H_{2}] +k_{3} \\frac{k_{2}(\\frac{k_{1}}{k_{5}})^{1/2}[Br_{2}]^{1/2}[H_{2}]}{k_{3}[Br_{2}]+k_{4}[H\\!Br]} [Br_{2}]-k_{4}\\frac{k_{2}(\\frac{k_{1}}{k_{5}})^{1/2}[Br_{2}]^{1/2}[H_{2}]}{k_{3}[Br_{2}]+k_{4}[H\\!Br]}[H\\!Br]\\\\   \n",
    " & =k_{2}(\\frac{k_{1}}{k_{5}})^{1/2}[Br_{2}]^{1/2}[H_{2}] *[1+\\frac{k_{3}[Br2]}{k_{3}[Br_{2}]+k_{4}[H\\!Br]}-\\frac{k_{4}[HBr]}{k_{3}[Br_{2}]+k_{4}[H\\!Br]}]\\\\         \n",
    "& = k_{2}(\\frac{k_{1}}{k_{5}})^{1/2}[Br_{2}]^{1/2}[H_{2}] * [\\frac{k_{3}[Br_{2}]+k_{4}[H\\!Br]+k_{3}[Br_{2}]-k_{4}[H\\!Br]}{k_{3}[Br_{2}]+k_{4}[H\\!Br]}]\\\\\n",
    "& =    k_{2}(\\frac{k_{1}}{k_{5}})^{1/2}[Br_{2}]^{1/2}[H_{2}] * \\frac{2k_{3}[Br_{2}]}{k_{3}[Br_{2}]+k_{4}[H\\!Br]}\\\\\n",
    "& =   k_{2}(\\frac{k_{1}}{k_{5}})^{1/2}[Br_{2}]^{1/2}[H_{2}] * \\frac{2[Br_{2}]}{[Br_{2}]+\\frac{k_{4}}{k_{3}}[H\\!Br]}\\\\\n",
    "&=   \\frac{2k_{2}(\\frac{k_{1}}{k_{5}})^{1/2}[Br_{2}]^{3/2}[H_{2}]}{[Br_{2}]+\\frac{k_{4}}{k_{3}}[H\\!Br]}\n",
    "\\end{align*} \n",
    "    \n",
    "Therefore, the values of $k_{a}$ and $k_{b}$ are:\n",
    "    $$k_{a}=2k_{2}(\\frac{k_{1}}{k_{5}})^{1/2}$$\n",
    "    $$k_{b}=\\frac{k_{4}}{k_{3}}$$\n",
    "    \n",
    "</div>   \n",
    "</details>"
   ]
  },
  {
   "cell_type": "markdown",
   "metadata": {},
   "source": [
    "## Rate-determining step\n",
    "\n",
    "## <p style><font color='green'>The green texts and the image below are taken from https://opentextbc.ca/introductorychemistry/chapter/reaction-mechanisms-2/It is under a Creative Commons Attribution 4.0 International License.</font>\n",
    "    \n",
    "\n",
    "Rate determining step is the step that determines the overall rate of reaction in a series of reactions. <font color='green'>The slowest </font> forward reaction step (in other words, a reverse reaction in a equilibrium reaction cannot be the rate-determining step) <font color='green'>is referred to as the rate-determining step, as it limits the rate of the entire reaction. </font>\n",
    "    \n",
    "<br />\n",
    "   \n",
    "<font color='green'>\n",
    "An analogy that illustrates this concept is an hourglass having two different sized openings. The rate of the sand falling to the bottom-most chamber is determined by the smaller of the two openings. Similarly, the rate law of the overall reaction is determined from its rate-determining slowest step.</font>"
   ]
  },
  {
   "cell_type": "markdown",
   "metadata": {},
   "source": [
    "<p style=\"text-align:center;\">\n",
    "<img src=\"lecture 5-images/Capture-rate determining step illustration.PNG\" width=300>\n",
    "</p>"
   ]
  },
  {
   "cell_type": "markdown",
   "metadata": {},
   "source": [
    "## Pre-equilibria\n",
    "\n",
    "Say we have the following forward and reverse reaction:\n",
    "<p style=\"text-align:center;\">\n",
    "<img src=\"lecture 5-images/equilibrium reaction.PNG\" width=200>\n",
    "</p>"
   ]
  },
  {
   "cell_type": "markdown",
   "metadata": {},
   "source": [
    "Consider a case where an equilibrium is established due to $k_{a}’ >> k_{b}$:\n",
    "\n",
    "> The equilibrium constant remains the same\n",
    "> \n",
    ">Thre reaction of $I→P$ would decrease $[I]$, due to Le Châtelier's principle, the equilibrium reaction will shift to produce more $I$\n",
    ">\n",
    ">Because $k_{a}'>>k_{b}$, the decrease of $[I]$ due to the reaction $I→P$ is negligable\n",
    ">\n",
    ">Therefore, we can approximate $[I]$ with only the equilibrium part of the reaction\n",
    "\n",
    "<font color='red'>$$K=(\\frac{[I]}{[A][B]})_{eq}c^\\theta=\\frac{k_{a}}{k'_{a}}c^\\theta$$ </font>\n",
    "\n",
    "> **Review:** From lecture 4: reaction equilibrium:\n",
    ">\n",
    "> The forward reaction: $A+B\\xrightarrow{\\text{ka}}I$, reaction rate $r=k_{a}[A][B]$\n",
    ">\n",
    "> The reverse reaction: $I\\xrightarrow{\\text{k'a}}A+B$, reaction rate $r'=k_{a}'[I]$\n",
    ">\n",
    "> At equilibrium: \\begin{align*}\n",
    "r  & =r'\\\\\n",
    "k_{a}[A][B] & = k_{a}'[I]\\\\         \n",
    "\\frac{k_{a}}{k_{a}'}& =  \\frac{[I]}{[A][B]} \n",
    "\\end{align*} \n",
    "\n",
    "So\n",
    "    <font color='red'>$$I=\\frac{K}{c^\\theta}[A][B]=\\frac{k_{a}}{k_{a}'}[A][B]$$ </font>\n"
   ]
  },
  {
   "cell_type": "markdown",
   "metadata": {},
   "source": [
    "Using the equation for $[I]$ based on this equilibrium, we can develop an equation for the rate of formation of $P$:\n",
    "\n",
    "<font color='red'>$$\\frac{d[P]}{dt}=k_{b}[I]=k_{b}\\frac{k_{a}}{k_{a}'}[A][B]=k_{r}[A][B]$$ </font>\n",
    "\n",
    "Where $k_{r}=k_{b}\\frac{k_{a}}{k_{a}'}$. The final step of $I→P$ is rate determining, as i, whereas the steps before control the amount of intermediate."
   ]
  },
  {
   "cell_type": "markdown",
   "metadata": {},
   "source": [
    "Although each rate constant may increase with temperature, this may not be true of the overall rate constant $k_{r}$:\n",
    "\n",
    "<p style> <font size = 4>$$k_{r}=\\frac{A_{a}e^{-\\frac{Ea,a}{RT}}A_{b}e^{-\\frac{Ea,b}{RT}}}{A_{a}'e^{-\\frac{Ea,a'}{RT}}}=\\frac{A_{a}A_{b}}{A_{a}'}e^{-\\frac{(Ea,a+Ea,b-Ea,a')}{RT}}$$ </font> </p>\n",
    "\n",
    "> **Review:** from lecture 4: \n",
    ">\n",
    "> For each step of the reaction: $k_{r}=Ae^{(-\\frac{E_{a}}{RT})}$, where $A$ is the frequency factor and $E_{a}$ is the activation energy\n",
    "\n",
    "The effective activation energy is: $E_{a}=E_{a}+E_{b}-E_{a}'$ and this may be positive or negative depending on $E_{a}$ of individual steps."
   ]
  },
  {
   "cell_type": "markdown",
   "metadata": {},
   "source": [
    "## <p style><font color='green'>This example is taken from https://openstax.org/books/chemistry-2e/pages/12-6-reaction-mechanisms, the last sentence in the question is added myself, the solution is rewritten</font>\n",
    "    \n",
    "### Example\n",
    "    \n",
    "The two-step mechanism below has been proposed for a reaction between nitrogen monoxide and molecular chlorine:  \n",
    "<p style=\"text-align:center;\">\n",
    "<img src=\"lecture 5-images/Capture-equilibrium reaction example.PNG\" width=500>\n",
    "</p>\n",
    "\n",
    "Use this mechanism to derive the equation and predicted rate law for the overall reaction.\n",
    "\n",
    "The rate law should be expressed in terms of $[NO]$, $[Cl_{2}]$ and the rate constants of the elementary reactions."
   ]
  },
  {
   "cell_type": "markdown",
   "metadata": {},
   "source": [
    "<details>\n",
    "  <summary><font color='blue'>Click here to see the solution!</font></summary>\n",
    "<div style=\"background-color:rgba(0, 0, 0, 0.05)\"> \n",
    "    \n",
    "**Solution**\n",
    "<br/>\n",
    "    \n",
    "**Step 1:**The overall reaction is the sum of the 2 elementary reactions:\n",
    "    $$2NO_{(g)}+Cl_{2(g)}→2NOCl_{(g)}$$\n",
    "\n",
    "    \n",
    "**Step 2:** Write each reaction separately and express the rate law for each reaction (including the reverse reaction in the equilibrium):\n",
    "<br/>\n",
    "    \n",
    "\\begin{align*}\n",
    "NO_{(g)}+Cl_{2(g)}→NOCl_{2(g)},\\;\\;\\;  & r_{1}=k_{a}[NO][Cl_{2}]\\\\\n",
    "NOCl_{2(g)}→NO_{(g)}+Cl_{2(g)},\\;\\;\\; & r_{-1}=k_{a}'[NOCl_{2}]\\\\         \n",
    "NOCl_{2}+NO→2NOCl,\\;\\;\\; & r_{2}=k_{b}[NOCl_{2}][NO] \n",
    "\\end{align*}  \n",
    "\n",
    "**Step 3:** Use the equilibrium reaction to express the concentration of intermedia ($[NOCl_{2}]$):\n",
    "    $$[NOCl_{2}]=\\frac{k_{a}}{k_{a}'}[NO][Cl_{2}]$$\n",
    "    \n",
    "**Step 4:** Express the overall reaction rate using the step 2 reaction, then subsitute in $[NOCl_{2}]$:\n",
    "    $$overall\\;rate=\\frac{1}{2}\\frac{d[NOCl]}{dt}=\\frac{2k_{b}[NO][NOCl_{2}]}{2}=k_{b}[NO][NOCl_{2}]=\\frac{k_{b}k_{a}}{k_{a}'}[NO]^2[Cl_{2}]$$\n",
    "    \n",
    "</div>   \n",
    "</details>"
   ]
  },
  {
   "cell_type": "markdown",
   "metadata": {},
   "source": [
    "## <p style><font color='green'>This example is taken from https://opentextbc.ca/chemistry/chapter/12-6-reaction-mechanisms/#footnote-794-1, the wordings in the questions haven been rewrited due to copyright, and the data in the chart has been changed(multiplied the initial concentrations by 2). Explaination for the answer is written myself</font>\n",
    "\n",
    "### Example\n",
    "\n",
    "**This example contains materials from lecture 3**\n",
    "\n",
    "Suppose we have a system with the following reaction:\n",
    "<br/>\n",
    "\n",
    "$$2NO_{(g)}+2H_{2(g)}→N_{2(g)}+2H_{2}O{(g)}$$\n",
    "\n",
    "Initial reaction rates are measured under different initial concentrations of reactants, as shown in the chart below:\n",
    "\n",
    "| Experiment |  Initial concentration of $$[NO]$$(mol/L) | Initial concentration of $$[H_{2}]$$(mol/L) |initial rate of $N_{2}$ formation (mol/L min)|\n",
    "| :---:  |  :--:  | :--: | :--: |\n",
    "|     1     |    0.0120   |  0.0020  |$$1.44×10^{-3}$$  |\n",
    "|     2     |    0.0120   |  0.0040  |$$2.88×10^{-3}$$  |\n",
    "|     3     |    0.0020   |  0.0120  |$$2.40×10^{-4}$$  |\n",
    "|     4     |    0.0040   |  0.0120  |$$9.60×10^{-4}$$  |\n",
    "\n",
    "(a) Calculate the order of reactions corresponding to both of the reactants, $NO$ and $H_{2}$.\n",
    "\n",
    "(b) Express the overall rate law in terms of $[NO]$, $[H_{2}]$ and an arbitary rate constant $k$.\n",
    "\n",
    "(c) Calculate the overall rate constant (the $k$ in in answer for b), be sure to state the units.\n",
    "\n",
    "(d) In experiment 1, calculate the concentration of $NO$ remaining when 0.0010 mol/L of $H_{2}$ had been consumed.\n",
    "\n",
    "(e) The consecutive steps of the reaction is shown below:\n",
    "    \n",
    "Step 1:  $NO+NO ⇌N_{2}O_{2}$\n",
    "\n",
    "Step 2:  $N_{2}O_{2}+H_{2}⇌H_{2}O + N_{2}O$\n",
    "\n",
    "Step 3:  $N_{2}O + H_{2}⇌N_{2}+H_{2}O$\n",
    "\n",
    "Select the rate-determining step based on the experimental data in the chart above. State your reasoning for the choice.  \n"
   ]
  },
  {
   "cell_type": "markdown",
   "metadata": {},
   "source": [
    "<details>\n",
    "  <summary><font color='blue'>Click here to see the solution!</font></summary>\n",
    "<div style=\"background-color:rgba(0, 0, 0, 0.05)\"> \n",
    "    \n",
    "**Solution**\n",
    "<br/>\n",
    "    \n",
    "**(a)** The reaction is second order in $[NO]$ and first order in $[H_{2}]$. \n",
    "<br/>\n",
    "    \n",
    "Comparing experiments 3 and 4, the initial rate increases by a factor of 4 when $[NO]$ doubles. Comparing experiments 1 and 2, the initial rate doubles when $H_{2}$ doubles. For the trails we used to determine the order of a certain reactant, the other reactant is present in an excess amount to ensure the decrease of concentration in the other reactant will not affect the inital rate by a significant amount.\n",
    "<br/>\n",
    "    \n",
    "**(b)** $rate=k[NO]^2[H_{2}]$\n",
    "    \n",
    "**(c)** Use concentration and initial rate from any experiment (answer uses experiment 1) \n",
    "\\begin{align*}\n",
    "k[NO]^2[H_{2}] & = rate  \\\\\n",
    "k & = \\frac{rate}{[NO]^2[H_{2}]}\\\\\n",
    "k & = \\frac{1.44×10^{-3}\\frac{mol}{L min}}{(0.0120\\frac{mol}{L})^2(0.0020\\frac{mol}{L})}\\\\\n",
    "k & = 5000 mol^{-2}L^{-2}min^{-1}\n",
    "\\end{align*}    \n",
    "    \n",
    "**(d)** reaction extent $$\\xi=\\frac{0.0010mol/L}{2}=0.0005mol/L$$\n",
    "        amount of $NO$ consumed: $$2*\\xi=2*0.0005mol/L=0.0010mol/L$$\n",
    "        amount of $NO$ remaining: $$0.0120mol/L-0.0010mol/L=0.0110mol/L$$\n",
    "    \n",
    "**(e)** **Step 2** is rate-determining\n",
    "<br/>\n",
    "\n",
    "The rate law of step 2 can be written as $k[N_{2}O_{2}][H_{2}]$. If Step 1 happens much faster than Step 2 (which means Step 1 is not rate-determining), we can find $[N_{2}O_{2}]$ using Step 1 of reaction: $\\frac{k_{1}}{k_{-1}}[NO]^2$. Subsitude $[N_{2}O_{2}]$ into the rate law of step 2, we can see both of the reactants are in the corresponding order of the experimentally-determined rate law. If Step 3 is rate-determining, it will add another $[H_{2}]$ term into the overall rate law, which is against the result of the experiment.\n",
    "\n",
    "    \n",
    "</div>   \n",
    "</details>"
   ]
  },
  {
   "cell_type": "markdown",
   "metadata": {},
   "source": [
    "## Kinetic and Thermodynamic control of reactions\n"
   ]
  },
  {
   "cell_type": "markdown",
   "metadata": {},
   "source": [
    "Reactants can sometimes give rise to a variety of products. Eg, consider the further nitration of nitrobenzene:\n",
    "\n",
    "<p style=\"text-align:center;\">\n",
    "<img src=\"lecture 5-images/Capture-nitration of nitrobenzene.PNG\" width=600>\n",
    "</p>"
   ]
  },
  {
   "cell_type": "markdown",
   "metadata": {},
   "source": [
    "Relative portion of the products before reaching equilibrium is given by the ratio of the rates of production.\n",
    "\n",
    "<p style=\"text-align:center;\">$A+B→P_{1}$ where $r_{P1}=k_{r1}[A][B]$</p>\n",
    "\n",
    "<p style=\"text-align:center;\">$A+B→P_{2}$ where $r_{P2}=k_{r2}[A][B]$</p>\n",
    "\n",
    "Here, before equilibrium: <font color='red'>$$\\frac{[P_{2}]}{[P_{1}]}=\\frac{k_{r,2}}{k_{r,1}}$$</font>\n",
    "\n",
    "This is called **kinetic control** which is dictated by reaction rates.\n",
    "As opposed to **thermodynamic control** which is dictated by reaction equilibrium (after a long time):\n"
   ]
  },
  {
   "cell_type": "markdown",
   "metadata": {},
   "source": [
    "Say if we have the system:\n",
    "\n",
    "<p style=\"text-align:center;\">\n",
    "<img src=\"lecture 5-images/Capture-Kinetic and thermodynamic.PNG\" width=200>\n",
    "</p>"
   ]
  },
  {
   "cell_type": "markdown",
   "metadata": {},
   "source": [
    "## <font color='red'>The notation for ke1 and ke2 is flipped. The ones in lecture slides should be flipped as well</font>\n",
    "\n",
    "###  If $k_{e1},k_{e2}<<k_{r1},k_{r2}$,\n",
    "\n",
    "\n",
    "Then at any time before the equilibrium reaction start severely affecting product concentration:\n",
    ">Before [A],[B] use up, the reactions that convert A,B to products happen much faster than the equilibrium between the products, so we can simplify the reactions by ignoring the equilibrium. After one of [A],[B] uses up, the reaction that converts A,B to products can no longer happen, then the equilibrium between $P_{1}$ and $P_{2}$ will slowly take control of the reaction.\n",
    "\n",
    "The reaction simplifies to:<p style=\"text-align:center;\">\n",
    "<img src=\"lecture 5-images/Capture-kinetic simplify.PNG\" width=170>\n",
    "</p>\n",
    "<font color='red'>$$\\frac{[P_{1}]}{[P_{2}]}=\\frac{k_{r1}}{k_{r2}}$$</font>\n",
    "\n",
    "The reaction is **kinetically controlled** : the amount of products depends on the **rates of reaction**.\n"
   ]
  },
  {
   "cell_type": "markdown",
   "metadata": {},
   "source": [
    "Proving $\\frac{[P_{1}]}{[P_{2}]}={k_{r1}}{k_{r2}}$:\n",
    "$$r_{P1}=k_{r1}[A][B]=\\frac{d[P1]}{dt}$$\n",
    "$$r_{P2}=k_{r2}[A][B]=\\frac{d[P2]}{dt}$$\n",
    "\n",
    "We know that both $P_{1}$, $P_{2}$ start at a concentration of 0, and we can express the rate of growth for $P_{1}$, $P_{2}$ at any time before [A][B] reaches 0, then the ratio of growth rate is equal to the ratio of $[P_{1}]$, $[P_{2}]$.\n",
    "$$\\frac{[P1]}{[P2]}=\\frac{\\frac{d[P_{1}]}{dt}}{\\frac{d[P_{2}]}{dt}}$$\n",
    "\n",
    "Take a time before [A][B] reaches 0:\n",
    "$$\\frac{[P1]}{[P2]}=\\frac{\\frac{d[P_{1}]}{dt}}{\\frac{d[P_{2}]}{dt}}=\\frac{k_{r1}[A][B]}{k_{r2}[A][B]}=\\frac{k_{r1}}{k_{r2}}$$\n",
    "\n",
    "\n"
   ]
  },
  {
   "cell_type": "markdown",
   "metadata": {},
   "source": [
    "<br/>\n",
    "<br/>\n",
    "\n",
    "### If $k_{e1},k_{e2}>>k_{r1},k_{r2}$,\n",
    "\n",
    "Then at any given time, this reaction simplifies to:<p style=\"text-align:center;\">\n",
    "<img src=\"lecture 5-images/Capture-thermodynamic simplify.PNG\" width=150>\n",
    "</p>\n",
    "<font color='red'>$$\\frac{[P_{1}]}{[P_{2}]}=\\frac{k_{e1}}{k_{e2}}$$</font>\n",
    "\n",
    "The reaction is **thermodynamically controlled** : the amount of products depends on the **equilibrium state**."
   ]
  },
  {
   "cell_type": "markdown",
   "metadata": {},
   "source": [
    "Proving $\\frac{[P_{1}]}{[P_{2}]}=\\frac{k_{e1}}{k_{e2}}$:\n",
    "At equilibrium:\n",
    "\n",
    "Forward reaction rate: $\\frac{d[P2]}{dt}=k_{e2}[P1]$\n",
    "\n",
    "Reverse reaction rate: $\\frac{d[P1]}{dt}=k_{e1}[P2]$\n",
    "\n",
    "At equilibrium, the forward and reverse reaction rates are equal:\n",
    "\n",
    "\\begin{align*}\n",
    "k_{e2}[P1] & = k_{e1}[P2]\\\\\n",
    "\\frac{[P_{1}]}{[P_{2}]} & = \\frac{k_{e1}}{k_{e2}}\n",
    "\\end{align*} "
   ]
  }
 ],
 "metadata": {
  "kernelspec": {
   "display_name": "Python 3",
   "language": "python",
   "name": "python3"
  },
  "language_info": {
   "codemirror_mode": {
    "name": "ipython",
    "version": 3
   },
   "file_extension": ".py",
   "mimetype": "text/x-python",
   "name": "python",
   "nbconvert_exporter": "python",
   "pygments_lexer": "ipython3",
   "version": "3.7.6"
  }
 },
 "nbformat": 4,
 "nbformat_minor": 4
}
