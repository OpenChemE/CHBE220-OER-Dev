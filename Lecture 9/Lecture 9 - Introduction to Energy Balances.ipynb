{
 "cells": [
  {
   "cell_type": "markdown",
   "metadata": {},
   "source": [
    "# Lecture 9 - Introduction to Energy Balances"
   ]
  },
  {
   "cell_type": "markdown",
   "metadata": {},
   "source": [
    "## Objectives\n",
    "\n",
    "### Identify:\n",
    "relevant terms for energy balances for open and closed systems\n",
    "\n",
    "### Use:\n",
    "thermodynamic data tables to identify ethalpy, internal energy, and other themodynamic properties using system temperatures and pressures\n",
    "\n",
    "### Solve:\n",
    "energy balance problems using thermodynamic data\n"
   ]
  },
  {
   "cell_type": "markdown",
   "metadata": {},
   "source": [
    "## Forms of Energy\n",
    "\n",
    "Energy can be defined for closed or flowing systems, where $\\dot{}$ describes flowing systems "
   ]
  },
  {
   "cell_type": "markdown",
   "metadata": {},
   "source": [
    "### Kinetic Energy - $E_{k}$\n",
    "Kinetic Energy can be described as translational or rotational energy\n",
    "\n",
    "$$ E_{k} = \\frac{1}{2} mu^{2} $$\n",
    "\n",
    "$$ \\dot{E}_{k} = \\frac{1}{2} \\dot{m} u^{2} $$\n",
    "\n",
    "where:\n",
    "> $m$ is mass\n",
    ">\n",
    "> $u$ is velocity relative to a reference"
   ]
  },
  {
   "cell_type": "markdown",
   "metadata": {},
   "source": [
    "### Potential Energy - $E_{p}$\n",
    "Potential energy can be described as energy present due to position, such as gravitational position or magnetic position\n",
    "\n",
    "$$ E_{p} = m g z $$\n",
    "\n",
    "$$ \\dot{E}_{p} = \\dot{m} g z $$\n",
    "\n",
    "$$ \\Delta E_{p} = E_{p2} - E_{p1} = m g (z_{2} - z_{1}) $$\n",
    "\n",
    "where:\n",
    "> $m$ is mass\n",
    ">\n",
    "> $g$ is the gravitational acceleration (approximately 9.8 m/s^{2})\n",
    ">\n",
    "> $z$ is the height about the point of reference\n"
   ]
  },
  {
   "cell_type": "markdown",
   "metadata": {},
   "source": [
    "### Internal Energy - $U$\n",
    "Internal energy can be described as all other energy present in a system, including motion, and molecular interaction"
   ]
  },
  {
   "cell_type": "markdown",
   "metadata": {},
   "source": [
    "## Energy Transfer in Closed Systems"
   ]
  },
  {
   "cell_type": "markdown",
   "metadata": {},
   "source": [
    "### Closed Systems:\n",
    "Closed systems are defined as systems with no mass transfer across the system's boundaries\n",
    "\n",
    "### Heat - $Q$\n",
    "* Heat is the energy flow due to temperature difference\n",
    "* Heat flows from higher temperatures to lower temperatures\n",
    "* Heat is positive when it is transferred from the surroundings to the system\n",
    "\n",
    "### Work - $W$\n",
    "* Work is energy resulting from driving forces (not temperature) such as force, torque, or voltage\n",
    "* Work is typically positive when work is done by the surroundings on the system"
   ]
  },
  {
   "cell_type": "markdown",
   "metadata": {},
   "source": [
    "### Example\n",
    "\n",
    "Consider a system that consists of a stirred tank reactor where an exothermic reaction is taking place, where an external motor is mixing the contents in the reactors. What are the signs of $Q$ and $W$ for this system? "
   ]
  },
  {
   "cell_type": "markdown",
   "metadata": {},
   "source": [
    "<details>\n",
    "  <summary><font color='blue'>Click here to see the answer!</font></summary>\n",
    "    \n",
    "\n",
    "### Solution\n",
    "\n",
    " For an exothermic reaction, heat is produced by the system. Therefore, $Q$ is **negative**.\n",
    " For an external motor that is mixing the contents in the reactor, work is being done by the surroundings on the system. Therefore, $W$ is **positive**.\n",
    "    \n",
    "</details>"
   ]
  },
  {
   "cell_type": "markdown",
   "metadata": {},
   "source": [
    "### Energy Balances on Closed Systems\n",
    "Energy in closed systems follows the Law of Conservation of Energy\n",
    "\n",
    "$$ Accumulation = Input - Output $$\n",
    "\n",
    "$$ E_{system,final} - E_{system,initial} = E_{system,net} $$\n",
    "\n",
    "> The initial energy in the system can be defined as:\n",
    ">$$ U_{i} + E_{ki} + E_{pi} $$\n",
    ">\n",
    "> The final energy in the system can be defined as:\n",
    ">$$ U_{f} + E_{kf} + E_{pf} $$\n",
    ">\n",
    "> The energy transfer of the system can be defined as:\n",
    ">$$ Q + W $$\n",
    ">\n",
    "> This yields the following closed system energy balance, defined as \n",
    "**the First Law of Thermodynamics**:\n",
    ">\n",
    ">$$ (U_{f} - U_{i}) + (E_{kf} - E_{ki}) + (E_{pf} - E_{pi}) = Q + W $$\n",
    ">\n",
    ">$$ \\Delta U + \\Delta E_{k} + \\Delta E_{p} = Q + W $$\n",
    ">\n",
    ">> Assumptions made by the First Law of Thermodynamics\n",
    ">> * If no acceleration and no change in height exist in the system, the >>kinetic and potential energies can be ommitted from the balance\n",
    ">> * Internal energy depends on chemical composition, state (solid, liquid, or gas) and temperature; Pressure's effect is negligible. \n",
    ">> * If the system has the same temperature as its surroundings or is adiabatic, the heat term can be ommitted from the balance\n",
    ">> * If there are no moving parts, electrical currents, or radiation in the system, the work term can be omitted from the balance\n"
   ]
  },
  {
   "cell_type": "markdown",
   "metadata": {},
   "source": [
    "## Work in Open Systems\n",
    "\n",
    "### Open Systems:\n",
    "Open systems are defined as systems where mass (and energy) crosses the system's boundaries\n",
    "\n",
    "Two types of work are typically observed in these systems:\n",
    "\n",
    "* ### Shaft Work - $W_{s}$ or $\\dot{W}_{s}$\n",
    "Shaft work is work done on process fluid by a moving part, such as a pump rotor or a stirrer\n",
    "\n",
    "* ### Flow Work - $W_{fl}$ or $\\dot{W}_{fl}$\n",
    "Flow work is work done on process fluid at (inlet minus outlet)\n",
    "\n",
    "$$ \\dot{W}_{fl} = \\dot{W}_{fl-in} - \\dot{W}_{fl-out} = P_{in}\\dot{V}_{in} - P_{out}\\dot{V}_{out} $$"
   ]
  },
  {
   "cell_type": "markdown",
   "metadata": {},
   "source": [
    "## Steady-State Open-System Energy Balance\n",
    "\n",
    "### Energy Conservation for a Steady-State System\n",
    "\n",
    "For stream 'j' in a system:\n",
    "\n",
    "$$ \\Sigma_{in} \\dot{E}_{j} + \\dot{Q} + \\dot{W} = \\Sigma_{out} \\dot{E}_{j} $$\n",
    "\n",
    "Rearranging the energy terms, we get:\n",
    "\n",
    "$$ \\dot{Q} + \\dot{W} = \\Sigma_{out} \\dot{E}_{j} - \\Sigma_{in} \\dot{E}_{j} $$\n",
    "\n",
    "Recall the three forms of energy:\n",
    "\n",
    "$$ \\dot{E}_{j} = \\dot{U}_{j} + \\dot{E}_{k,j} + \\dot{E}_{p,j} $$\n",
    "\n"
   ]
  },
  {
   "cell_type": "markdown",
   "metadata": {},
   "source": [
    "<p style=\"text-align:center;\">\n",
    "<img src=\"Energy Flow in System.JPG\" width=400>\n",
    "</p>"
   ]
  },
  {
   "cell_type": "markdown",
   "metadata": {},
   "source": [
    "> Each energy flow term can be further separated into: $ \\dot{U}_{j} = \\dot{m} * \\hat{U}_{j} $\n",
    ">\n",
    ">  **Specific Property** $\"\\hat{ }\"$  : This denotes an intensive property obtained by dividing an extensive property by a total amount of flow rate\n",
    "> $$ \\hat{V} = \\frac{V}{n} $$\n",
    "$$or$$ \n",
    "$$ \\hat{U}=\\frac{\\dot{U}}{\\dot{m}} $$\n",
    "\n",
    "Combining all these terms:\n",
    "\n",
    "$$ \\dot{Q} + \\dot{W} = \\Sigma_{out} \\dot{m}_{j} * (\\hat{U}_{j} + \\hat{E}_{k,j} + \\hat{E}_{p,j}) - \\Sigma_{in} \\dot{m}_{j} * (\\hat{U}_{j} + \\hat{E}_{k,j} + \\hat{E}_{p,j}) $$\n",
    "\n",
    "Recall the work terms expansion:\n",
    "\n",
    "$$ \\dot{W} = \\dot{W}_{fl} + \\dot{W}_s $$\n",
    "\n",
    "> where flow work is dependant on system pressure and volume\n",
    "> $$ \\dot{W}_{fl} = \\Sigma_{in} \\dot{m}_{j} P_{j} \\hat{V}_{j} - \\Sigma_{out} \\dot{m}_{j} P_{j} \\hat{V}_{j} $$\n",
    "\n",
    "Now we have:\n",
    "\n",
    "$$ \\dot{Q} + \\dot{W}_{s} = \\Sigma_{out} \\dot{m}_{j} * (\\hat{U}_{j} + P_{j} \\hat{V}_{j} + \\hat{E}_{k,j} + \\hat{E}_{p,j}) - \\Sigma_{in} \\dot{m}_{j}*(\\hat{U}_{j} + P_{j}\\hat{V}_{j} + \\hat{E}_{k,j} + \\hat{E}_{p,j}) $$\n",
    "\n",
    "\n",
    "Enthalpy is defined as: $\\hat{H} = \\hat{U} + P\\hat{V} $\n",
    "> where $\\hat{U}$ is the internal energy and $P\\hat{V}$ is the flow work\n",
    "\n",
    "The following terms are defined:\n",
    "* $\\Delta\\dot{H} = \\Sigma_{out}\\dot{m}_{j}*\\hat{H}_{j} - \\Sigma_{in}\\dot{m}_{j}*\\hat{H}_{j} $\n",
    "* $\\Delta\\dot{E}_{k} = \\Sigma_{out}\\dot{m}_{j}*\\hat{E}_{k,j} - \\Sigma_{in}\\dot{m}_{j}*\\hat{E}_{k,j} $\n",
    "* $\\Delta\\dot{E}_{p} = \\Sigma_{out}\\dot{m}_{j}*\\hat{E}_{p,j} - \\Sigma_{in}\\dot{m}_{j}*\\hat{E}_{p,j} $\n",
    "\n",
    "\n",
    "\n",
    "Finally, an open system steady-state energy balance is defined:\n",
    "\n",
    "$$ \\dot{Q} + \\dot{W}_{s} = \\Delta\\dot{H} + \\Delta\\dot{E}_{k} + \\Delta\\dot{E}_{p} $$"
   ]
  },
  {
   "cell_type": "markdown",
   "metadata": {},
   "source": [
    "## Reference States\n",
    "\n",
    "**Reference State:** a substance at some pressure, temperature and state of aggregation (solid, liquid, gas; pure or mixture). \n",
    "\n",
    "It is much easier to estimate the energy of a system as a change from a reference state rather than the absolute energy.\n",
    "\n"
   ]
  },
  {
   "cell_type": "markdown",
   "metadata": {},
   "source": [
    "\n",
    "\n",
    "### Example\n",
    "\n",
    "Consider a reactor where $CO$ reacts with $H_{2}O$ to produce $H_{2}$ and $CO_{2}$. The reactor has an inlet stream of $CO$ entering at $100^{\\circ} C$. The reactor operates at $500^{\\circ}C$. Based on the enthalpy values listed below, how much heat (in Joules) needed to be added to increase the temperature of each mole of $CO$ flowing to the reactor to $500 ^{\\circ}C$?\n",
    "\n",
    "|Entry #| $T (^{\\circ}C)$ | $\\hat{H}_{CO} (\\frac{J}{mol})$ |\n",
    "| :---: | :---: | :---: |\n",
    "| 1    |   0   |   0   |\n",
    "| 2    |   100   |   2919   |\n",
    "| 3    |   500   |   15,060 |\n",
    "\n",
    "<details>\n",
    "  <summary><font color='blue'>Click here to see the solution!</font></summary>\n",
    "<div style=\"background-color:rgba(0, 0, 0, 0.05)\"> \n",
    "    \n",
    "### Solution\n",
    "<br/>\n",
    "    \n",
    "$\\Delta\\hat{H} = \\hat{H}_{500^{\\circ}C} - \\hat{H}_{100^{\\circ}C}$\n",
    "<br/>    \n",
    "$\\Delta\\hat{H} = \\hat{H}_{3} - \\hat{H}_{2}$\n",
    "<br/>    \n",
    "$\\Delta\\hat{H} = (15,060 - 2,919) J/mol$ \n",
    "<br/>    \n",
    "   \n",
    "**$$\\Delta\\hat{H} = 12,141 J/mol$$**    \n",
    "<br/>\n",
    "    "
   ]
  },
  {
   "cell_type": "markdown",
   "metadata": {},
   "source": [
    "## Steam Tables\n",
    "\n",
    "Since water is a commonly used resource in processes for heating and cooling, detailed information on its state properties at different temperatures and pressures is available.\n",
    "\n",
    "For example, the steam table below provides $\\hat{U}$, $\\hat{H}$, and $\\hat{V}$ at multiple sets of temperature and pressure:\n",
    "\n",
    "<p style=\"text-align:center;\">\n",
    "<img src=\"SteamTable.JPG\" width=550>\n",
    "</p>\n",
    "\n",
    "Figure from: Introductory Chemical Engineering Thermodynamics, 2/E by J. Richard Elliott, and Carl T. Lira Copyright © 2012 by Prentice Hall\n",
    "\n",
    "* Note that steam tables can be found on [NIST](https://webbook.nist.gov/chemistry/fluid/)"
   ]
  },
  {
   "cell_type": "markdown",
   "metadata": {},
   "source": [
    "### Example\n",
    "\n",
    "Consider a reboiler$*$ that is used to evaporate toluene at $190^{\\circ}C$ with a heat duty of 3,000,000 kJ/h. Assuming perfect heat transfer, which steam pressure could be used for this system and at what flow rate? $*$ A reboiler is a device used to transfer heat at the bottom of a distillation column. \n",
    "\n",
    "\n",
    "| Utility | Inlet Temperature $^{\\circ}C$ | Outlet Temperature $^{\\circ}C$ | Pressure |\n",
    "| :---: | :---: | :---: | :---: |\n",
    "| Low-pressure steam | 125 | 124 | 33 psia (0.22 MPa) |\n",
    "| Medium-pressure steam | 175 | 174 | 127 psia (0.875 MPa) |\n",
    "| High-pressure steam | 250 | 249 | 575 psia (3.97 MPa) |\n",
    "\n",
    "\n",
    "\n",
    "\n",
    "<details>\n",
    "  <summary><font color='blue'>Click here to see the solution!</font></summary>\n",
    "<div style=\"background-color:rgba(0, 0, 0, 0.05)\"> \n",
    "    \n",
    "### Solution\n",
    "<br/>\n",
    "\n",
    "**Step 1:** Decide on which utility gives has enough driving force.\n",
    "<br/>\n",
    "    Since our toluene is at $190^{\\circ}C$, both the low and medium pressure steams are not at a high enough temperature. Therefore **high-pressure steam** is chosen.\n",
    "<br/>\n",
    "    \n",
    "**Step 2:** Use the steam table at $250^{\\circ}C$ and $3.97$ $MPa$ for energy values.\n",
    "<br/>\n",
    "<img src=\"SteamExample.JPG\" width=550>\n",
    "</p>\n",
    "<br/>\n",
    "$$\\Delta\\hat{H}_{vap} = 1715 kJ/kg$$\n",
    "<br/>\n",
    "\n",
    "**Step 3:** Calculate the flowrate needed using the heat and steam enthalpy values.\n",
    "<br/>\n",
    "$$\\dot{m} = \\frac{\\dot{Q}}{\\Delta\\hat{H}_{vap}}$$\n",
    "<br/>\n",
    "$$\\dot{m} = \\frac{30,000,000 kJ/h}{1715 kJ/kg}$$\n",
    "<br/>\n",
    "$$\\dot{m} = 1750 kg/hr$$\n",
    "    \n",
    "\n",
    "\n",
    "    "
   ]
  },
  {
   "cell_type": "markdown",
   "metadata": {},
   "source": [
    "### Example\n",
    "For the reboiler system described in the example above, what would the change in energy be super saturated steam that enters at $255^{\\circ}C$?\n",
    "\n",
    "<details>\n",
    "  <summary><font color='blue'>Click here to see the solution!</font></summary>\n",
    "<div style=\"background-color:rgba(0, 0, 0, 0.05)\"> \n",
    "\n",
    "**Solution**\n",
    "<br/>\n",
    "\n",
    "**Step 1:** Use steam tables at $250^{\\circ}C$ and 3.97 MPa for $\\Delta\\hat{H}_{vap}$ value.    \n",
    "<br/>\n",
    "$\\Delta\\hat{H}_{vap} = 1715 kJ/kg$   \n",
    "<br/>    \n",
    "**Step 2:** For the change in steam temperature, find the values for steam at $250^{\\circ}C$ and $300^{\\circ}C$ \n",
    "<br/>    \n",
    "<img src=\"SteamEx2.JPG\" width=400>\n",
    "</p>\n",
    "<br/>\n",
    "\n",
    "**Step 3:** Calculate the change in energy from the steam temperature difference.\n",
    "<br/>\n",
    "$$\\Delta\\hat{H}_{\\Delta T} ≅ \\frac{2961.7 kJ/kg-2800.8 kJ/kg}{50^{\\circ}/5^{\\circ}}$$\n",
    "<br/>\n",
    "$$\\Delta\\hat{H}_{\\Delta T} ≅ 16 kJ/kg$$\n",
    "\n",
    "\n",
    "*Note that $\\Delta\\hat{H}_{vap}$ >> $\\Delta\\hat{H}_{\\Delta T}$, therefore $\\Delta\\hat{H}_{\\Delta T}$ is often discarded from heat exchanger design.\n"
   ]
  }
 ],
 "metadata": {
  "kernelspec": {
   "display_name": "Python 3",
   "language": "python",
   "name": "python3"
  },
  "language_info": {
   "codemirror_mode": {
    "name": "ipython",
    "version": 3
   },
   "file_extension": ".py",
   "mimetype": "text/x-python",
   "name": "python",
   "nbconvert_exporter": "python",
   "pygments_lexer": "ipython3",
   "version": "3.7.6"
  }
 },
 "nbformat": 4,
 "nbformat_minor": 4
}
