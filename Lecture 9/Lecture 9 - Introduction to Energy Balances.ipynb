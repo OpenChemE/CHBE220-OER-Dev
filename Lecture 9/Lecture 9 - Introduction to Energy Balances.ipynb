{
 "cells": [
  {
   "cell_type": "markdown",
   "metadata": {},
   "source": [
    "# Lecture 9 - Introduction to Energy Balances"
   ]
  },
  {
   "cell_type": "markdown",
   "metadata": {},
   "source": [
    "## Objectives\n",
    "\n",
    "### Identify:\n",
    "relevant terms for energy balances for open and closed systems\n",
    "\n",
    "### Use:\n",
    "thermodynamic data tables to identify ethalpy, internal energy, and other themodynamic properties using system temperatures and pressures\n",
    "\n",
    "### Solve:\n",
    "energy balance problems using thermodynamic data\n"
   ]
  },
  {
   "cell_type": "markdown",
   "metadata": {},
   "source": [
    "## Forms of Energy\n",
    "\n",
    "Energy can be defined for closed or flowing systems, where $\\dot{}$ describes flowing systems "
   ]
  },
  {
   "cell_type": "markdown",
   "metadata": {},
   "source": [
    "### Kinetic Energy - $E_{k}$\n",
    "Kinetic Energy can be described as translational or rotational energy\n",
    "\n",
    "$$ E_{k} = \\frac{1}{2} mu^{2} $$\n",
    "\n",
    "$$ \\dot{E}_{k} = \\frac{1}{2} \\dot{m} u^{2} $$\n",
    "\n",
    "where:\n",
    "> $m$ is mass\n",
    ">\n",
    "> $u$ is velocity relative to a reference"
   ]
  },
  {
   "cell_type": "markdown",
   "metadata": {},
   "source": [
    "### Potential Energy - $E_{p}$\n",
    "Potential energy can be described as energy present due to position, such as gravitational position or magnetic position\n",
    "\n",
    "$$ E_{p} = m g z $$\n",
    "\n",
    "$$ \\dot{E}_{p} = \\dot{m} g z $$\n",
    "\n",
    "$$ \\Delta E_{p} = E_{p2} - E_{p1} = m g (z_{2} - z_{1}) $$\n",
    "\n",
    "where:\n",
    "> $m$ is mass\n",
    ">\n",
    "> $g$ is the gravitational acceleration (approximately 9.8 m/s^{2})\n",
    ">\n",
    "> $z$ is the height about the point of reference\n"
   ]
  },
  {
   "cell_type": "markdown",
   "metadata": {},
   "source": [
    "### Internal Energy - $U$\n",
    "Internal energy can be described as all other energy present in a system, including motion, and molecular interaction"
   ]
  },
  {
   "cell_type": "markdown",
   "metadata": {},
   "source": [
    "## Energy Transfer in Closed Systems"
   ]
  },
  {
   "cell_type": "markdown",
   "metadata": {},
   "source": [
    "### Closed Systems:\n",
    "Closed systems are defined as systems with no mass transfer across the system's boundaries\n",
    "\n",
    "### Heat - $Q$\n",
    "* Heat is the energy flow due to temperature difference\n",
    "* Heat flows from higher temperatures to lower temperatures\n",
    "* Heat is positive when it is transferred from the surroundings to the system\n",
    "\n",
    "### Work - $W$\n",
    "* Work is energy resulting from driving forces (not temperature) such as force, torque, or voltage\n",
    "* Work is typically positive when work is done by the surroundings on the system"
   ]
  },
  {
   "cell_type": "markdown",
   "metadata": {},
   "source": [
    "### Example\n",
    "\n",
    "Consider a system that consists of a stirred tank reactor where an exothermic reaction is taking place, where an external motor is mixing the contents in the reactors. What are the signs of $Q$ and $W$ for this system? "
   ]
  },
  {
   "cell_type": "markdown",
   "metadata": {},
   "source": [
    "<details>\n",
    "  <summary><font color='blue'>Click here to see the answer!</font></summary>\n",
    "    \n",
    "\n",
    "### Solution\n",
    "\n",
    " For an exothermic reaction, heat is produced by the system. Therefore, $Q$ is **negative**.\n",
    " For an external motor that is mixing the contents in the reactor, work is being done by the surroundings on the system. Therefore, $W$ is **positive**.\n",
    "    \n",
    "</details>\n",
    "</div>\n",
    "</details>"
   ]
  },
  {
   "cell_type": "markdown",
   "metadata": {},
   "source": [
    "### Energy Balances on Closed Systems\n",
    "Energy in closed systems follows the Law of Conservation of Energy\n",
    "\n",
    "\n",
    "$$ Accumulation = Input - Output $$\n",
    "<br/>\n",
    "$$ E_{system,final} - E_{system,initial} = E_{system,net} $$\n",
    "\n",
    "\n",
    "> The initial energy in the system can be defined as:\n",
    ">$$ U_{i} + E_{ki} + E_{pi} $$\n",
    ">\n",
    "> The final energy in the system can be defined as:\n",
    ">$$ U_{f} + E_{kf} + E_{pf} $$\n",
    ">\n",
    "> The energy transfer of the system can be defined as:\n",
    ">$$ Q + W $$\n",
    ">\n",
    "> This yields the following closed system energy balance, defined as \n",
    "**the First Law of Thermodynamics**:\n",
    ">\n",
    ">$$ (U_{f} - U_{i}) + (E_{kf} - E_{ki}) + (E_{pf} - E_{pi}) = Q + W $$\n",
    ">\n",
    ">$$ \\Delta U + \\Delta E_{k} + \\Delta E_{p} = Q + W $$\n",
    ">\n",
    ">> Assumptions made by the First Law of Thermodynamics\n",
    ">> * If no acceleration and no change in height exist in the system, the >>kinetic and potential energies can be ommitted from the balance\n",
    ">> * Internal energy depends on chemical composition, state (solid, liquid, or gas) and temperature; Pressure's effect is negligible. \n",
    ">> * If the system has the same temperature as its surroundings or is adiabatic, the heat term can be ommitted from the balance\n",
    ">> * If there are no moving parts, electrical currents, or radiation in the system, the work term can be omitted from the balance\n"
   ]
  },
  {
   "cell_type": "markdown",
   "metadata": {},
   "source": [
    "## Work in Open Systems\n",
    "\n",
    "### Open Systems:\n",
    "Open systems are defined as systems where mass (and energy) crosses the system's boundaries\n",
    "\n",
    "Two types of work are typically observed in these systems:\n",
    "\n",
    "* **Shaft Work - $W_{s}$ or $\\dot{W}_{s}$**\n",
    "Shaft work is work done on process fluid by a moving part, such as a pump rotor or a stirrer\n",
    "\n",
    "* **Flow Work - $W_{fl}$ or $\\dot{W}_{fl}$**\n",
    "Flow work is work done on process fluid at (inlet minus outlet)\n",
    "\n",
    "$$ \\dot{W}_{fl} = \\dot{W}_{fl-in} - \\dot{W}_{fl-out} = P_{in}\\dot{V}_{in} - P_{out}\\dot{V}_{out} $$"
   ]
  },
  {
   "cell_type": "markdown",
   "metadata": {},
   "source": [
    "## Steady-State Open-System Energy Balance\n",
    "\n",
    "### Energy Conservation for a Steady-State System\n",
    "\n",
    "For stream 'j' in a system:\n",
    "\n",
    "$$ \\Sigma_{in} \\dot{E}_{j} + \\dot{Q} + \\dot{W} = \\Sigma_{out} \\dot{E}_{j} $$\n",
    "\n",
    "Rearranging the energy terms, we get:\n",
    "\n",
    "$$ \\dot{Q} + \\dot{W} = \\Sigma_{out} \\dot{E}_{j} - \\Sigma_{in} \\dot{E}_{j} $$\n",
    "\n",
    "Recall the three forms of energy:\n",
    "\n",
    "$$ \\dot{E}_{j} = \\dot{U}_{j} + \\dot{E}_{k,j} + \\dot{E}_{p,j} $$\n",
    "\n"
   ]
  },
  {
   "cell_type": "markdown",
   "metadata": {},
   "source": [
    "<p style=\"text-align:center;\">\n",
    "<img src=\"Energy Flow in System.JPG\" width=400>\n",
    "</p>"
   ]
  },
  {
   "cell_type": "markdown",
   "metadata": {},
   "source": [
    "> Each energy flow term can be further separated into: $ \\dot{U}_{j} = \\dot{m} * \\hat{U}_{j} $\n",
    ">\n",
    ">  **Specific Property** $\"\\hat{ }\"$  : This denotes an intensive property obtained by dividing an extensive property by a total amount of flow rate\n",
    "> $$ \\hat{V} = \\frac{V}{n} $$\n",
    "$$or$$ \n",
    "$$ \\hat{U}=\\frac{\\dot{U}}{\\dot{m}} $$\n",
    "\n",
    "Combining all these terms:\n",
    "\n",
    "$$ \\dot{Q} + \\dot{W} = \\Sigma_{out} \\dot{m}_{j} * (\\hat{U}_{j} + \\hat{E}_{k,j} + \\hat{E}_{p,j}) - \\Sigma_{in} \\dot{m}_{j} * (\\hat{U}_{j} + \\hat{E}_{k,j} + \\hat{E}_{p,j}) $$\n",
    "\n",
    "Recall the work terms expansion:\n",
    "\n",
    "$$ \\dot{W} = \\dot{W}_{fl} + \\dot{W}_s $$\n",
    "\n",
    "> where flow work is dependant on system pressure and volume\n",
    "> $$ \\dot{W}_{fl} = \\Sigma_{in} \\dot{m}_{j} P_{j} \\hat{V}_{j} - \\Sigma_{out} \\dot{m}_{j} P_{j} \\hat{V}_{j} $$\n",
    "\n",
    "Now we have:\n",
    "\n",
    "$$ \\dot{Q} + \\dot{W}_{s} = \\Sigma_{out} \\dot{m}_{j} * (\\hat{U}_{j} + P_{j} \\hat{V}_{j} + \\hat{E}_{k,j} + \\hat{E}_{p,j}) - \\Sigma_{in} \\dot{m}_{j}*(\\hat{U}_{j} + P_{j}\\hat{V}_{j} + \\hat{E}_{k,j} + \\hat{E}_{p,j}) $$\n",
    "\n",
    "\n",
    "Enthalpy is defined as: $\\hat{H} = \\hat{U} + P\\hat{V} $\n",
    "> where $\\hat{U}$ is the internal energy and $P\\hat{V}$ is the flow work\n",
    "\n",
    "The following terms are defined:\n",
    "* $\\Delta\\dot{H} = \\Sigma_{out}\\dot{m}_{j}*\\hat{H}_{j} - \\Sigma_{in}\\dot{m}_{j}*\\hat{H}_{j} $\n",
    "* $\\Delta\\dot{E}_{k} = \\Sigma_{out}\\dot{m}_{j}*\\hat{E}_{k,j} - \\Sigma_{in}\\dot{m}_{j}*\\hat{E}_{k,j} $\n",
    "* $\\Delta\\dot{E}_{p} = \\Sigma_{out}\\dot{m}_{j}*\\hat{E}_{p,j} - \\Sigma_{in}\\dot{m}_{j}*\\hat{E}_{p,j} $\n",
    "\n",
    "\n",
    "\n",
    "Finally, an open system steady-state energy balance is defined:\n",
    "\n",
    "$$ \\dot{Q} + \\dot{W}_{s} = \\Delta\\dot{H} + \\Delta\\dot{E}_{k} + \\Delta\\dot{E}_{p} $$"
   ]
  },
  {
   "cell_type": "markdown",
   "metadata": {},
   "source": [
    "### Example\n",
    "\n",
    "Prior to entering a furnace, air is heated from $25^{\\circ}C$ to $150^{\\circ}C$ and the change in specific enthalpy for this process is 3640 J/mol. The flow rate of air at the outlet of the heater is 1.5 m/min and the air pressure at this point is 150 kPa absolute. \n",
    "\n",
    "Calculate the heat needed for the process in kW. Assume the ideal gas behavior and that kinetic and potential energy changes from the heater inlet to the outlet are negligible.\n",
    "\n",
    "<details>\n",
    "  <summary><font color='blue'>Click here to see the solution!</font></summary>\n",
    "<div style=\"background-color:rgba(0, 0, 0, 0.05)\"> \n",
    "    \n",
    "### Solution\n",
    "<br/>\n",
    "\n",
    "**Step 1**: Calculate the molar flowrate using the ideal gas law.    \n",
    "$$\\dot{n} = \\frac{1.5m^{3}}{min}*\\frac{273K}{150+273K}*\\frac{150kPa}{101.3kPa}*\\frac{1mol}{22.4L}*\\frac{10^{3}L}{1m^{3}}$$\n",
    "<br/>\n",
    "$$\\dot{n}=64.0\\frac{mol}{min}$$\n",
    "<br/>\n",
    "\n",
    "**Step 2**: Calculate the heat using the specific enthalpy. Since the potential and kinetic energy changes are zero, the following calculations are made\n",
    "$$\\dot{Q}=\\Delta\\dot{H}$$\n",
    "<br/>\n",
    "$$\\Delta\\dot{H} = \\dot{n}\\Delta\\hat{H}$$\n",
    "<br/>\n",
    "$$\\dot{Q}= \\dot{n}\\Delta\\hat{H}$$\n",
    "<br/>\n",
    "$$\\dot{Q}=\\frac{64.0 mol}{min}*\\frac{1min}{60s}*\\frac{3640J}{mol}*\\frac{kW}{10^{3} J/s}$$\n",
    "<br/>\n",
    "$$\\dot{Q}=3.88kW$$    \n",
    "\n",
    "</div>\n",
    "</details>\n"
   ]
  },
  {
   "cell_type": "markdown",
   "metadata": {},
   "source": [
    "## Reference States\n",
    "\n",
    "**Reference State:** a substance at some pressure, temperature and state of aggregation (solid, liquid, gas; pure or mixture). \n",
    "\n",
    "It is much easier to estimate the energy of a system as a change from a reference state rather than the absolute energy.\n",
    "\n"
   ]
  },
  {
   "cell_type": "markdown",
   "metadata": {},
   "source": [
    "\n",
    "\n",
    "### Example\n",
    "\n",
    "Water is used to cool a liquid in a heatexchanger. Water enters the heat exchanger at $10^{\\circ}C$ and exits at $100^{\\circ}C$. Using the table below, find the change in enthalpy of water in its liquid state.\n",
    "\n",
    "|Entry # | $T (^{\\circ}C)$ | $\\hat{H}_{L} (\\frac{kJ}{kg})$ |\n",
    "| :---: | :---: | :---: |\n",
    "| 1   |   5   |   21.02  |\n",
    "| 2   |   10  |   42.02  |\n",
    "| 3   |   100 |   419.17 |\n",
    "\n",
    "<details>\n",
    "  <summary><font color='blue'>Click here to see the solution!</font></summary>\n",
    "<div style=\"background-color:rgba(0, 0, 0, 0.05)\"> \n",
    "    \n",
    "### Solution\n",
    "<br/>\n",
    "\n",
    "**Step 1**: Determine which reference state you are going to use. In this case, we are using $10^{\\circ}C$ as the reference state.    \n",
    "<br/>\n",
    "$$\\Delta\\hat{H} = \\hat{H}_{100^{\\circ}C} - \\hat{H}_{10^{\\circ}C}$$\n",
    "<br/>    \n",
    "\n",
    "**Step 2**: Find the change in enthalpy by taking the difference of the system's specific enthalpies at different temperatures.\n",
    "  \n",
    "<br/> \n",
    "$$\\Delta\\hat{H} = \\hat{H}_{3} - \\hat{H}_{2}$$\n",
    "<br/>    \n",
    "$$\\Delta\\hat{H} = (419.17 - 42.02) kJ/kg$$ \n",
    "<br/>    \n",
    "   \n",
    "**$$\\Delta\\hat{H} = 377.15 kJ/kg$$**    \n",
    "<br/>\n",
    "\n",
    "</div>\n",
    "</details>"
   ]
  },
  {
   "cell_type": "markdown",
   "metadata": {},
   "source": [
    "## Steam Tables\n",
    "\n",
    "Since water is a commonly used resource in processes for heating and cooling, detailed information on its state properties at different temperatures and pressures is available.\n",
    "\n",
    "For example, the steam table below provides $\\hat{U}$, $\\hat{H}$, and $\\hat{V}$ at multiple sets of temperature and pressure:\n",
    "\n",
    "<p style=\"text-align:center;\">\n",
    "<img src=\"SteamTable.JPG\" width=550>\n",
    "</p>\n",
    "\n",
    "Figure from: Introductory Chemical Engineering Thermodynamics, 2/E by J. Richard Elliott, and Carl T. Lira Copyright © 2012 by Prentice Hall\n",
    "\n",
    "* Note that steam tables can be found on [NIST](https://webbook.nist.gov/chemistry/fluid/)"
   ]
  },
  {
   "cell_type": "markdown",
   "metadata": {},
   "source": [
    "### Example\n",
    "\n",
    "Superheated steam at 40 bar absolute and $500^{\\circ}C$ flowing at a rate of $200 kg/min$ is sent to an adiabatic turbine which exapnds to 5 bar. The turbine outputs $1250kW$. The expanded steam is then sent to a heat exchanger where isobaric heating occurs, resulting in the stream being reheated to its inital temperature. Assume no changes in kinetic energy.Write the energy balance for the turbine and determine the outlet stream temperature.  \n",
    "\n",
    "<details>\n",
    "  <summary><font color='blue'>Click here to see the solution!</font></summary>\n",
    "<div style=\"background-color:rgba(0, 0, 0, 0.05)\"> \n",
    "    \n",
    "### Solution\n",
    "<br/>\n",
    "\n",
    "**Step 1**: Determine the enthalpy values for water vapor at  $500^{\\circ}C$ and $40 bar$ and $5 bar$.  \n",
    "From the steam tables:\n",
    "* For water vapor at $500^{\\circ}C$ and $40 bar$, the specific enthalpy  is $3445 kJ/kg$\n",
    "* For water vapor at $500^{\\circ}C$ and $5 bar$, the specific enthalpy  is $3484 kJ/kg$\n",
    "<br/>\n",
    "\n",
    "**Step 2**: Write the energy balance. Since there are no changes in potential and kinetic energy and no heat transfer, the change in enthalpy will be equal to a negative shaft work.\n",
    "$$\\Delta\\dot{H}=-\\dot{W}_{s}$$\n",
    "<br/>\n",
    "$$\\Delta\\dot{H}=\\dot{m}*(\\hat{H}_{2}-\\hat{H}_{1})$$\n",
    "<br/>\n",
    "$$\\hat{H}_{2}=\\hat{H}_{1}-\\frac{\\dot{W}_{s}}{\\dot{m}}$$\n",
    "<br/>\n",
    "$$\\hat{H}_{2}=\\frac{3445kJ}{kg}-\\frac{1250kJ}{s}*\\frac{min}{200kg}*\\frac{60s}{1min}$$\n",
    "<br/>\n",
    "$$\\hat{H}_{2}=3070\\frac{kJ}{kg}$$\n",
    "<br/>\n",
    "    \n",
    "**Step 3**: Determine the temperature of the steam corresponding to $5bar$ and $3070 kJ/kg$.\n",
    "From the steam tables:\n",
    "$$T=302^{\\circ}C$$\n",
    "</div>\n",
    "</details>\n"
   ]
  }
 ],
 "metadata": {
  "kernelspec": {
   "display_name": "Python 3",
   "language": "python",
   "name": "python3"
  },
  "language_info": {
   "codemirror_mode": {
    "name": "ipython",
    "version": 3
   },
   "file_extension": ".py",
   "mimetype": "text/x-python",
   "name": "python",
   "nbconvert_exporter": "python",
   "pygments_lexer": "ipython3",
   "version": "3.7.6"
  }
 },
 "nbformat": 4,
 "nbformat_minor": 4
}
