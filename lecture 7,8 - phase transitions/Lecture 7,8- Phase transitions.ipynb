{
 "cells": [
  {
   "cell_type": "markdown",
   "metadata": {},
   "source": [
    "# Lecture 7,8 - Phase transitions"
   ]
  },
  {
   "cell_type": "markdown",
   "metadata": {},
   "source": [
    "## Objectives\n",
    "\n",
    "By the end of this lecture you should be able to:\n",
    "\n",
    "* Estimate the vapour pressure of pure compounds at a given temperature using Antoine's equation\n",
    "\n",
    "* Apply properties of ideal mixtures to describe vapour-liquid separations\n",
    "\n",
    "* Read Txy and Pxy diagrams for binary mixtures; finding bubbles points and dew points on the diagrams; calculating the mole fraction of substances in the vapour and liquid"
   ]
  },
  {
   "cell_type": "markdown",
   "metadata": {},
   "source": [
    "## Types of phase diagram\n",
    "\n",
    "We have seen phase diagrams with pressure and temperature on the axes from the previous chapters. This was one projection of a phase diagram, instead we could also have other intensive variables on the axes. As a result, a 3-dimensional phase diagram can be produced with pressure, temperature and molar volume on separate axises. Note that we could also use other intensive variables such as enthalpy or internal energy per mole, etc.\n",
    "\n",
    "<p style=\"text-align:center;\">\n",
    "<img src=\"lecture 7-images/phase diagram 3D.png\" width=400>\n",
    "Image obtained from <a href=\"https://commons.wikimedia.org/wiki/File:PVT_3D_diagram.png\">Wikimedia Commons</a>/ CC BY-SA 3.0\n",
    "</p>\n",
    "\n",
    "A link to a 3-D model of phase diagram to help visualizing: http://biomodel.uah.es/Jmol/plots/phase-diagrams/\n",
    "\n",
    "A phase diagram can be produced with the projection on any of the planes spanned by two of the axises in the 3-dimensional phase diagram above. For example, if we project it onto the Pressure-Volume (P-V) plane we get the image below. Note that volume here appears to be written as an extrinsic variable, but should rather be a specific volume (say in $\\frac{m^3}{kg}$). \n",
    "\n",
    "\n",
    "<p style=\"text-align:center;\">\n",
    "<img src=\"lecture 7-images/Capture-PV diagram general.PNG\" width=400>\n",
    "Image obtained from <a href=\"https://openstax.org/books/college-physics/pages/13-5-phase-changes\">College Physics</a> / CC BY 4.0\n",
    "    \n",
    "</p>"
   ]
  },
  {
   "cell_type": "markdown",
   "metadata": {},
   "source": [
    "The red lines represent the substance at constant temperatures (isotherms). The isotherms have steeper slopes in the liquid region and gentler slopes in the vapor region, which agrees with what we observed before that the volume of gases experience more significant changes due to pressure changes, but the volume of liquids are hardly affected by pressure. \n",
    "\n",
    "The segments of isotherms in the vapor-liquid equilibrium region are horizontal, which agrees with our previous observation that the pressure is constant during the boiling process for a pure substance at a given temperauture. This diagram provides information that allows us to calculate the ratio of vapor and liquid under vapour-liquid equilibrium conditions based on molar volume, which is not represented on the P-T diagram because it collapses to a point. The **vapor pressure** is represented by the y-coordinate of the horizontal segment. Note each vapour pressure will thus correspond to specific to a temperature (given by the isotherm).\n"
   ]
  },
  {
   "cell_type": "markdown",
   "metadata": {},
   "source": [
    "<p style=\"text-align:center;\">\n",
    "<img src=\"lecture 7-images/Capture-tv phase diagram.PNG\" width=500>\n",
    "Image obtained from <a href=\"https://www.ohio.edu/mechanical/thermo/intro/chapt.1_6/chapter2a.html\">Chapter 2: Pure substances</a> /CC BY-NC-SA 3.0 US    \n",
    "</p>"
   ]
  },
  {
   "cell_type": "markdown",
   "metadata": {},
   "source": [
    "If we project the 3-dimensional phase diagram onto the temperature-volume (T-V) plane, the phase diagram will be similar to the one shown above. Each curve on the diagram represents processes with constant pressure (isobars). Similar to the P-V diagram, the pressure curve is horizontal in the region of vapor-liquid equilibrium. The vapor pressure is constant for each curve while the boiling temperature can be found as the y-coordinates on the horzontal segments. These correspond directky to the temperature and vapour pressure lines we would see on the P-V diagram."
   ]
  },
  {
   "cell_type": "markdown",
   "metadata": {},
   "source": [
    "## Estimating vapor pressure\n",
    "\n",
    "<font color='green'> The texts in green are from an openstax textbook https://openstax.org/books/college-physics/pages/13-5-phase-changes </font>\n",
    "\n",
    "<font color='green'>Vapor pressure($p*$) is defined as the pressure at which **a gas coexists with its solid or liquid phase**. Vapor pressure is created by faster molecules that break away from the liquid or solid and enter the gas phase. The vapor pressure of a substance **depends on both the substance and its temperature**—an increase in temperature increases the vapor pressure.</font>\n",
    "\n",
    "One empirical method to estimate $p∗$ is the **Antoine equation**: \n",
    "\n",
    "<font color='red'>$$log_{10}(p*)=A-\\frac{B}{T+C}$$</font>\n",
    "where\n",
    ">A, B and C are constants depending on the type of substance\n",
    "\n",
    "**NOTE:** Sometimes different sources of data can use different units for temperature, or used $ln$ (base e) instead of $log_{10}$ (base 10)."
   ]
  },
  {
   "cell_type": "markdown",
   "metadata": {},
   "source": [
    "<div style=\"background-color:rgba(0, 0, 0, 0.05)\"> \n",
    "<br/>    \n",
    "    <strong>Finding Antoine equation parameters on NIST</strong>:\n",
    "    \n",
    "1. Search for “NIST Chemistry Webbook” or go to https://webbook.nist.gov/chemistry/\n",
    "\n",
    "2. Scroll down to search options and choose, name, formula or other desired search criteria\n",
    "    \n",
    "3. Enter search criteria (e.g. methanol, CH3OH…)\n",
    "    \n",
    "4. Leave other options as default and search for substance\n",
    "\n",
    "5. Select desired substance from the list provided if not brought to substance homepage immediately\n",
    "    \n",
    "6. On substance homepage scroll down to “Other data available” section and select “phase change data”. \n",
    "    \n",
    "7. Scroll through this section to find desired data"
   ]
  },
  {
   "cell_type": "markdown",
   "metadata": {},
   "source": [
    "<div style=\"background-color:rgba(75, 171, 215, 0.15)\"> \n",
    "<br/>\n",
    "\n",
    "<strong>Estimating Vapour Pressure for water</strong>   \n",
    "\n",
    "    \n",
    "TODO: Was there any issue with this screenshot? If there is, we can just write out the ranges and antoine parameters in a table and say this came from Nist, I think taking this small a portion of a work though is likely fine.\n",
    "<p style=\"text-align:center;\">\n",
    "<img src=\"lecture 7-images/Estimating vapour pressure of water.png\" width=700>\n",
    "</p>\n",
    "<br/>\n",
    "    \n",
    "Based on the data above, what is the vapour pressure of water at 100°C and 200°C?  \n",
    "\n",
    "For T=100°C: Because the temperature is given in the kelvin scale on the chart, we convert 100°C to 373K, which is closest to the range in the first row of data, so we will use that range.    \n",
    "<font size=3>\\begin{align*}\n",
    "log_{10}(p*) &=A-\\frac{B}{T+C}\\\\\n",
    "p*& = 10^{A-\\frac{B}{T+C}}\\\\         \n",
    "&= 10^{3.55959-\\frac{643.748}{373-198.043}}\\\\\n",
    "& = 0.76 bar  \n",
    "    \\end{align*} </font>\n",
    "    \n",
    "For T=200°C: We first convert the temperature to 473K, which is in the range for the first row of data.\n",
    "<font size=3>\\begin{align*}\n",
    "log_{10}(p*) &=A-\\frac{B}{T+C}\\\\\n",
    "p*& = 10^{A-\\frac{B}{T+C}}\\\\         \n",
    "&= 10^{3.55959-\\frac{643.748}{473-198.043}}\\\\\n",
    "& = 16.53 bar  \n",
    "    \\end{align*} </font>   \n",
    "    \n",
    "Consider the calculated result for vapor pressure at 100 °C, compare it with your knowledge of vapor pressure of water. Does it seem accurate?    "
   ]
  },
  {
   "cell_type": "markdown",
   "metadata": {},
   "source": [
    "We know the vapor pressure at 100 °C should be closer to 1 bar as water would boil at 100 °C at 1 atm, this shows the error that might be present in these correlations, especially when taking them outside of their T ranges. As shown below, the value calculated at T=200 °C is more accurate, likely because it is well within the range of temperatures provided for the A, B and C parameters (although there is still some error). Remember these correlations are generalizations, meaning it is rare they are 100% accurate. \n",
    "\n",
    "|   Temperature(K)  |   $p*$ calculated (bar) |  $p*$ actual(bar)  |  % difference |\n",
    "| :---:  |  :--:  |  :---:  |  :--:  | \n",
    "|     373     |    0.758798    |  1.013   | 25.09403 |\n",
    "|     473     |    16.53187    |  15.55   | 6.314304 | "
   ]
  },
  {
   "cell_type": "markdown",
   "metadata": {},
   "source": [
    "## Multicomponent vapor-liquid equilibrium\n",
    "\n",
    "In a closed container, vapor-liquid equilibrium can be acheived by the same number of molecules vaporizing and condensing at any given period of time (meaning no net change in the system). The temperature and pressure has to be kept constant if we are truly at equilibrium (again, no net change in any intensive variable).\n",
    "\n",
    "We usually denote:\n",
    "> $T$: overall temperature\n",
    ">\n",
    "> $P$: overall pressure\n",
    ">\n",
    "> $x_{i}$: the mole fraction of substance $i$ in the liquid phase\n",
    ">\n",
    "> $y_{i}$: the mole fraction of substance $i$ in the vapor phase"
   ]
  },
  {
   "cell_type": "markdown",
   "metadata": {},
   "source": [
    "## Estimating the molar fraction of component at vapor-liquid equilibrium"
   ]
  },
  {
   "cell_type": "markdown",
   "metadata": {},
   "source": [
    "### Roult's law\n",
    "\n",
    "Roult's law is used when <font color=\"red\">all components are in relatively significant quantities or they are chemically very similar (generally in terms of intermolecular interactions)</font>.\n",
    "\n",
    "<font color=\"red\">$$p_{i}=y_{i}×P=x_{i}×p^*_{i}(T)$$</font>\n",
    "\n",
    "> $pi^*(T)$ means that the vapor pressure is a function of temperature, which can be calculated using the Antoine Equation (there are other equations, but in this class we will stick with the Antoine equation).\n",
    "\n"
   ]
  },
  {
   "cell_type": "markdown",
   "metadata": {},
   "source": [
    "<div style=\"background-color:rgba(75, 171, 215, 0.15)\"> \n",
    "<br/>\n",
    "\n",
    "At 298 K, the vapor pressure of water is 3,138 Pa and the vapor pressure of ethanol is 7,817 Pa. Suppose we have a mixture of only water and ethanol in a closed container, at 298 K, what is the mole fraction of ethanol in the vapor phase ($y_{enthaol}$) at equilibrium if the liquid is 50 mol% water and 50 mol% ethanol?  \n",
    "    \n",
    "**Step 1:**First note here ethanol and water both have very polar OH groups, so we will consider their intermolecular interactions similar and apply Raoult's law. Rearrange the Roult's law to isolate $y_{i}$:\n",
    "\\begin{align*}\n",
    "y_{i}×P & =x_{i}×p^*_{i}(T)\\\\\n",
    "y_{i} & = \\frac{x_{i}×p^*_{i}(T)}{P}\n",
    "\\end{align*}\n",
    "\n",
    "Here we know both $x_i$, which was given to be 0.5 (50 mol%) for ethanol, and $p^*_{i}$ for ethanol, again given in the question prompt. But now we need to find pressure ($P$).\n",
    "    \n",
    "**Step 2:** To find $P$ we'll first apply the ideal gas law to the gas phase in this system. We know that for ideal gases the partial pressures ($p_{i}$) add up to the total system pressure ($P$). We can then use Roult's law to express partial pressures in terms of liquid mole fractions and vapor pressures (all of which we know in this case): \n",
    "\\begin{align*}\n",
    "P & =p_{water}+p_{ethanol}\\\\\n",
    "& = x_{water}×p^*_{water}+x_{ethanol}×p^*_{ethanol}\\\\\n",
    "& = 0.5×3138Pa + 0.5×7817Pa \\\\\n",
    "& = 5477.5 Pa    \n",
    "\\end{align*}  \n",
    "    \n",
    "**Step 3:** Subsitute $P$ into the expression for $y_{ethanol}$: \n",
    "    \\begin{align*}\n",
    "y_{ethanol} & = \\frac{x_{ethanol}×p^*_{ethanol}(298K)}{P} \\\\\n",
    " & =\\frac{0.5×7817Pa}{5477.5Pa} \\\\    \n",
    " & = 0.71   \n",
    "\\end{align*}\n",
    "    \n",
    "Finally we could ask ourselves, \"does this answer make sense?\". If we look up the normal boiling point termperature of water (100 °C ) and ethanol (78 °C), we see ethanol is more volatile (it boils at a lower temperature). So we would expect a greater mole fraction of it in the vapour phase than the liquid phase, which matches what we find with our calculations\n",
    "    \n",
    "</div>    "
   ]
  },
  {
   "cell_type": "markdown",
   "metadata": {},
   "source": [
    "### Henry's law\n",
    "\n",
    "Henry's law is used <font color=\"red\">to describe the concentration of a gas (or very volatile component) dissolved in a liquid</font>. This is typically used to describe components in a mixture that are near or above their critical temperature (think back to the difference between vapours ($T < T_c$) and gases ($T > T_c$). \n",
    "\n",
    "<font color=\"red\"> $$p_{i}=y_{i}×P=\\frac{x_{i}}{H_{i}(T)}$$</font>\n",
    "\n",
    "> $H_{i}(T)$ Henry's constant, usually given for a solvent in a given range of temperature.\n",
    "\n",
    "Henry's law is generally more valid when $x_{i}$ is close to 0 (very dilute solutions).\n",
    "\n",
    "TODO: perhaps we can add an example for this, maybe CO2 dissolved in water at say 25 °C and explain how CO2 is near its critical point and water is far below and will be mainly in the liquid phase."
   ]
  },
  {
   "cell_type": "markdown",
   "metadata": {},
   "source": [
    "## Txy and Pxy diagrams for binary mixtures"
   ]
  },
  {
   "cell_type": "markdown",
   "metadata": {},
   "source": [
    "An **ideal mixture** contains substances with similar molecular interactions (which usually means similar structures or functional groups).  (e.g. benzene and toluene, with both being non-polar and of a similar molecular size)\n",
    "<p style=\"text-align:center;\">\n",
    "<img src=\"lecture 7-images/Capture- benzene and toluene.PNG\" width=200>\n",
    "Image obtained from <a href=\"https://commons.wikimedia.org/wiki/File:Benzene_Toluene_and_ortho-,meta-,and_para-xylene.svg\">Wikimedia Commons</a>/CC0\n",
    "</p>\n",
    "\n",
    "\n",
    "A combination of two substances is called a **binary mixture**. For a binary mixture, there is no longer a set temperature and pressure for a boiling point. Instead there are a range of temperature or pressure values where the mixture is in vapour-liquid equilibrium. These are bounded by two points called the **bubble point** and **dew point**. We'll explain more about these points looking at some diagrams for these binary mixture systems.\n",
    "\n"
   ]
  },
  {
   "cell_type": "markdown",
   "metadata": {},
   "source": [
    "## Txy Diagram\n",
    "\n",
    "The following diagram is the Txy diagram at a contant pressure of 1 atm for a mixture of benzene and toluene. The y-axis (ordinate) reads the temperature value, and the x-axis (abscissa) corresponds to the mole fraction of benzene. We can use the x-axis to find the mole fraction of benzene in the liquid and vapor phase. \n",
    "\n",
    "Because this is a binary mixture, we can calculated the mole fraction of toluene as $1-x_{benzene}$ in the liquid phase and $1-y_{benzene}$ in the vapour phase. \n",
    "<p style=\"text-align:center;\">\n",
    "<img src=\"lecture 7-images/Capture-benzene toluene Txy.PNG\" width=400>\n",
    "Image originally created</p>"
   ]
  },
  {
   "cell_type": "markdown",
   "metadata": {},
   "source": [
    "\n",
    "The two curves arparate the digram into 3 regions:\n",
    "> liquid region: when the mixture of both components are in liquid phase, this is the lowest temperature region. This makes sense as liquid is a lower energy state than a gas, so we would expect it at lower temperatures.\n",
    ">\n",
    "> vapor region: when the mixture of both components are in liquid phase, this is the highest temperature region. Again higher temperature, more energy, more likely to be a gas.\n",
    ">\n",
    "> vapor-liquid equilibrium region: when the mixture splits into a liquid and a vapor, this is the region in the middle\n",
    "\n",
    "Given a mole fraction of benzene and temperature of this system, we can locate which of the three regions our system would be in. Note we have to ensure we are at the same pressure as the graph states when using these graphs.\n",
    "\n",
    "<p style=\"text-align:center;\">\n",
    "<img src=\"lecture 7-images/Capture-Txy diagram regions.PNG\" width=400>\n",
    "Image originally created</p>\n",
    "\n",
    "Two particular points we will analyze are when the mole fractions of benzene in the system is 1 or 0:\n",
    "> mole fractions of benzene = 1: $x_{i}=y_{i}=1$ , \"mixture\" is pure benzene. The system vaporizes/condenses at a contant temperature, which is the normal boiling point of benzene at 1 atm (~349 K in this case).\n",
    ">\n",
    "> mole fractions of benzene = 0: $x_{i}=y_{i}=0$ , \"mixture\" is pure toluene. The system vaporizes/condenses at a contant temperature, which is the normal boiling point of toluene at 1 atm (~383 K in this case)."
   ]
  },
  {
   "cell_type": "markdown",
   "metadata": {},
   "source": [
    "To show you how to read the diagram, we'll take a certain example: suppose we **start with a mixture of 0.5 mole fraction of liquid benzene in the system at 80°C and 1 atm**. \n",
    "\n",
    "<p style=\"text-align:center;\">\n",
    "<img src=\"lecture 7-images/Capture-Txy process-1.PNG\" width=400>\n",
    "Image originally created</p>\n",
    "\n",
    "Shown above is the point we can locate on the Txy diagram. We can see that the point is completely in the liquid region, which means the mixture is completely in the liquid phase.\n",
    " * In terms of phase change, the system of mixture behaves as a whole - the substance with a lower boiling point does not boil before the other, but the difference in boiling points is shown in the mole fraction of the components in each phase. "
   ]
  },
  {
   "cell_type": "markdown",
   "metadata": {},
   "source": [
    "Then, we raise the temperature (keeping the same pressure as defined by the diagram) until we **hit the first curve on the boundary of the liquid region**:\n",
    "\n",
    "This point is called the **<font color=\"red\">bubble point</font>** of this mixture. At this point we see the first bubble of vapor being formed in the liquid. The composition of this first vapor can be found at the point on the other curve at the same temperature:\n",
    "\n",
    "<p style=\"text-align:center;\">\n",
    "<img src=\"lecture 7-images/Capture-Txy process-2.PNG\" width=400>\n",
    "Image originally created</p>"
   ]
  },
  {
   "cell_type": "markdown",
   "metadata": {},
   "source": [
    "<div style=\"background-color:rgba(75, 171, 215, 0.15)\"> \n",
    "<br/>\n",
    "    We can also use the phase change data to calculate the composition of the first vapor. This is useful when the phase diagram is not provided:\n",
    "    <br/>\n",
    "    \n",
    "The phase change data can be obtained from the NIST website:\n",
    "\n",
    "| substance | A | B | C |\n",
    "| :---: | :--: | :--: | :--: |\n",
    "|     benzene    | 4.60362 | 1701.073 | 20.806 |\n",
    "|     toluene     | 4.07827 | 1343.943 | -53.773 |\n",
    "    \n",
    "Using **Roult's law**, we can calculate the molar composition of the vapor:\n",
    "\n",
    "<font color=\"red\">$$y_{i}×P=x_{i}×p_{i}^*(T)$$</font>\n",
    "\n",
    "where\n",
    "\n",
    " We are looking for the molar fraction of components in the vapour phase: $y_{benzene}$ and $y_{toluene}$.\n",
    "\n",
    " P is the pressure of the system, in this case it is kept constant at 1 atm=1.013bar\n",
    " \n",
    " At the bubble point, there is a very small amount of vapor being formed, therefore we assume the change in composition of the liquid is negligible. We can take $x_{benzene}=0.5$.\n",
    "\n",
    " $p_{i}^*$ can be cauculated using the **Antoine Equation**:\n",
    "<font color=\"red\">$$log_{10}(p^*)=A-\\frac{B}{T+C}$$</font>\n",
    "> However, we don't know the T for the bubble point (we are assuming the diagram is not given):\n",
    "\n",
    "When we don't know the bubble point temperature, we use a trial and error approach: We guess a temperature and use this to find $p_{i}^*$ for the substances involved. We then calculate the $y_{i}$ for both substances using Roult's law and the $x_{i}$ in the liquid phase. If we are at the right temperature (the bubble point temperature) this should result in the sum of $y_{i}$ being equal to 1 ($\\sum_{i} y_{i}=1$).\n",
    "    \n",
    "* If the guess results in $\\sum_{i} y_{i}<1$, that means the guess of temperature is **lower** than the bubble point. We should raise the temperature for the next trial so that the substances are more likely to vaporize.  \n",
    "\n",
    "* If the guess results in $\\sum_{i} y_{i}>1$, that means the guess of temperature is **higher** than the bubble point. We should lower the temperature for the next trial so that the substances are more likely to condense.          \n",
    "\n",
    "* You can use a software (e.g. \"solver\" in excel) to directly solve for the bubble point temperature.    \n",
    "\n",
    "A safe place to start is taking the average of the boiling points of the two substances, but the starting point does not affect the result. It may just affect the number of iterations needed before finding the actual bubble point temperature. \n",
    "\n",
    "From the NIST website, we can find that the boiling point of benzene at 1 atm ≈ 80°C and the boiling point of toluene at 1 atm ≈ 110°C, so we can take $T=95°C=368K$ for our initial guess:     \n",
    " \n",
    "**Step 1**: calculate $p^*$ for both substances using the Antione Equation:\n",
    "    \n",
    "\\begin{align*}\n",
    "log_{10}(p*) &=A-\\frac{B}{T+C}\\\\\n",
    "p*& = 10^{A-\\frac{B}{T+C}}\\\\         \n",
    "p*_{benzene}&= 10^{4.60362-\\frac{1701.073}{368+20.806}}= 1.692 bar \\\\\n",
    "p*_{toluene}&= 10^{4.07827-\\frac{1343.943}{368-53.773}}=0.633 bar   \n",
    "\\end{align*}    \n",
    "\n",
    "**Step 2**: Calculate the $y_{i}$ for both substances using Roult's law:    \n",
    "\\begin{align*}\n",
    "y_{i}×P & =x_{i}×p_{i}^*(T)\\\\\n",
    "y_{benzene}& =\\frac{x_{benzene}×p_{benzene}^*(T)}{P}\\\\         \n",
    "&= \\frac{0.50×1.692bar}{1.013bar}\\\\\n",
    "& = 0.835\n",
    "    \\end{align*}  \n",
    "    \n",
    "\\begin{align*}\n",
    "y_{toluene}& =\\frac{x_{toluene}×p_{toluene}^*(T)}{P}\\\\         \n",
    "&= \\frac{(1-0.50)×0.633bar}{1.013bar}\\\\\n",
    "& = 0.312\n",
    "    \\end{align*}\n",
    "    \n",
    "**Step 3**: check our result by adding up the $y_{i}$ and adjust the guess of temperature accordingly.\n",
    " $$\\sum_{i} y_{i}=0.835+0.312=1.147>1$$ \n",
    "So the guess for $T$ should be decreased for the next guess.    \n",
    "<br/>\n",
    "<br/>\n",
    "<br/>    \n",
    "    \n",
    "After several trials, we can prove that $T=363K$ is the bubble point temperature:    \n",
    "**Step 1**: calculate $p^*$ for both substances using the Antione Equation\n",
    "    \n",
    "\\begin{align*}\n",
    "log_{10}(p*) &=A-\\frac{B}{T+C}\\\\\n",
    "p^*& = 10^{A-\\frac{B}{T+C}}\\\\         \n",
    "p^*_{benzene}&= 10^{4.60362-\\frac{1701.073}{363+20.806}}= 1.484 bar\\\\\n",
    "p^*_{toluene}&=10^{4.07827-\\frac{1343.943}{363-53.773}}=0.633 bar=0.540bar    \n",
    "    \\end{align*}\n",
    "    \n",
    "**Step 2**: Calculate the $y_{i}$ for both substances using Roult's law:\n",
    "    \n",
    "\\begin{align*}\n",
    "y_{i}×P & =x_{i}×p_{i}^*(T)\\\\\n",
    "y_{benzene}& =\\frac{x_{benzene}×p_{benzene}^*(T)}{P}\\\\         \n",
    "&= \\frac{0.50×1.484bar}{1.013bar}= 0.732  \n",
    "\\end{align*}\n",
    "    \n",
    "\\begin{align*}\n",
    "y_{toluene}& =\\frac{x_{toluene}×p_{toluene}^*(T)}{P}\\\\         \n",
    "&= \\frac{(1-0.50)×0.540bar}{1.013bar}= 0.267  \n",
    "\\end{align*}    \n",
    "\n",
    "**Step 3**: Check our result:\n",
    "    $$\\sum_{i} y_{i}=0.732+0.267=0.999$$\n",
    "Because there are rounding errors involved in the calcuations, we can say that T=363K is our bubble point temperature (at least to +/- 1 K).\n",
    "    \n",
    "Therefore the molar fractions of the substances for the first vapor at the bubble point are $y_{benzene}=0.732$ and $y_{toluene}=0.267$. Note this matches what we see on the diagram.\n",
    "\n",
    "</div>    "
   ]
  },
  {
   "cell_type": "markdown",
   "metadata": {},
   "source": [
    "If we keep raising the temperature, the system will be in the **vapor-liquid equilibrium region**. We locate the point using the total mole fraction of benzene and the temperature of the system, so the x-coordinate is 0.5 no matter what phase the system is at. \n",
    "\n",
    "<p style=\"text-align:center;\">\n",
    "<img src=\"lecture 7-images/Capture-Txy process-3.PNG\" width=400>\n",
    "Imaga originally created</p>"
   ]
  },
  {
   "cell_type": "markdown",
   "metadata": {},
   "source": [
    "After we find the point, we draw a horizontal line (representing that the temperature of the liquid and vapor are equal under vapour-liquid equilibrium conditions), the line will hit both curves. The the x-coordinates of the points where the horizontal line hits the curves are the mole fraction of benzene, with the one on the boundary of the liquid region as the mole fraction in liquid phase and the other one as the mole fraction in vapor phase. \n",
    "\n",
    "> At vapor-liquid equilibrium, there is always more benzene in the vapor phase compared to benzene in the liquid phase. That is because benzene is the more \"volatile\" compound compared to toluene, which means it has weaker intermolecular interactions, therefore it's more likely to vaporize. A more volatile compound has a lower boiling point.\n",
    "\n",
    "\n",
    "<div style=\"background-color:rgba(75, 171, 215, 0.15)\"> \n",
    "<br/>Calculate the molar fraction of total liquid component ($\\frac{n_{liquid}}{n_{total}}$) in the system at the point shown above in the vapour-liquid region:\n",
    "    \n",
    "  We know that the total benzene in the system is from the sum of the benzene molecules from the liquid and vapor phase, which is equal to 0.5 (as we start with a half/half mixture):\n",
    "    $$x_{benzene}×n_{liquid}+y_{benzene}×n_{vapor}=0.5×n_{total}$$<br/>\n",
    "    $$x_{benzene}×\\frac{n_{liquid}}{n_{total}}+y_{benzene}×\\frac{n_{vapor}}{n_{total}}=0.5$$<br/>\n",
    "Because the system only contains liquid and vapor phase, we can sub in $\\frac{n_{vapor}}{n_{total}}=1-\\frac{n_{liquid}}{n_{total}}$ to make $\\frac{n_{liquid}}{n_{total}}$ the only variable in the equation:<br/><br/>\n",
    "    \n",
    "    TODO: expand how you get the equation above starting with a mole balance of n_vapour+n_liquid = n_total\n",
    "    \n",
    "    $$x_{benzene}×\\frac{n_{liquid}}{n_{total}}+y_{benzene}×(1-\\frac{n_{liquid}}{n_{total}})=0.5$$\n",
    "\n",
    "From reading the x-coordinates of the points on the curves, we can get: $x_{benzene}≈0.39,y_{benzene}≈0.62$<br/>\n",
    "\\begin{align*}\n",
    "0.39×\\frac{n_{liquid}}{n_{total}}+0.62×(1-\\frac{n_{liquid}}{n_{total}}) & =0.5\\\\\n",
    "(0.39-0.62)\\frac{n_{liquid}}{n_{total}}& = 0.5-0.62\\\\         \n",
    "\\frac{n_{liquid}}{n_{total}}&= \\frac{0.5-0.62}{0.39-0.62}\\\\\n",
    "& = 0.52 \n",
    "    \\end{align*}  \n",
    "\n",
    "Note this means we have roughly half vapour and half liquid. This is shown by our overall system point (red dot) being roughly between the two lines. Within the vapour-liquid region, the closer this point is to a certain line on the diagram the more of that phase will be in the system. Think back to our bubble point where our system was almost entirely liquid (and very close to the liquid line).\n",
    "</div>\n",
    "\n",
    "\n"
   ]
  },
  {
   "cell_type": "markdown",
   "metadata": {},
   "source": [
    "If we then keep heating up the system under the same pressure, the system will hit the second curve at a certain point. We call this point the **<font color=\"red\">dew point</font>**. At this point, the last drop of liquid turns into vapor. The composition of the last drop of liquid can be found on the curve on the boundry of the liquid region at the same temperature.\n",
    "\n",
    "> in the Txy graph, the line conneting all the dew points (vapour saturation line) is always higher than the line connecting all the bubble points (liquid saturation line), whether the slopes of the curves are positive or negative, because the system is more likely to be in the vapor phase when temperature is higher.\n",
    "\n",
    "<p style=\"text-align:center;\">\n",
    "<img src=\"lecture 7-images/Capture-Txy process-4.PNG\" width=400>\n",
    "Imaga originally created</p>"
   ]
  },
  {
   "cell_type": "markdown",
   "metadata": {},
   "source": [
    "<div style=\"background-color:rgba(215,192, 75, 0.15)\">\n",
    "<br/>\n",
    "Exercise:    Taking a similar approach as the bubble point, using Roult's law, calculate the $x_{benzene}$ and $x_{toluene}$ for the last drop of liquid at the dew point.\n",
    "    \n",
    "| substance | A | B | C |\n",
    "| :---: | :--: | :--: | :--: |\n",
    "|     benzene    | 4.60362 | 1701.073 | 20.806 |\n",
    "|     toluene     | 4.07827 | 1343.943 | -53.773 |\n"
   ]
  },
  {
   "cell_type": "markdown",
   "metadata": {},
   "source": [
    "<details>\n",
    "  <summary><font color='blue'>Click here to see the solution!</font></summary>\n",
    "<div style=\"background-color:rgba(0, 0, 0, 0.05)\"> \n",
    " \n",
    "**Solution**\n",
    "<br/>\n",
    "Roult's law states:    \n",
    "$$y_{i}×P=x_{i}×p_{i}^*(T)$$\n",
    "    \n",
    "We know that P = 1.013 bar for the system is kept constant, then we just need to calculate the $p^*$ at the temperature of the dew point, then substitute this into the Roult's law equation to calculate $x_{i}$. \n",
    "    \n",
    "Guess a temperature. Similar to the bubble point calculation, a safe place to start is the average of the boiling points of the pure substances T=368K. \n",
    "    \n",
    "**Step 1:** Calculate the $p^*_{i}$ for both substances:\n",
    "       \n",
    "\\begin{align*}\n",
    "log_{10}(p*) &=A-\\frac{B}{T+C}\\\\\n",
    "p*& = 10^{A-\\frac{B}{T+C}}\\\\         \n",
    "p*_{benzene}&= 10^{4.60362-\\frac{1701.073}{368+20.806}}= 1.692 bar \\\\\n",
    "p*_{toluene}&= 10^{4.07827-\\frac{1343.943}{368-53.773}}=0.633 bar   \n",
    "\\end{align*}    \n",
    "\n",
    "**Step 2:** Subsitute into the Roult's law equation to calculate $x_{i}$ for both substances: \n",
    "    \n",
    "Use $y_{benzene}=0.5$ because when there is only very little amount of liquid left in the system, we can approximate the mole fraction of benzene in the vapor to be equal to the total mole fraction of benzene in the system.   \n",
    "      \\begin{align*}\n",
    "y_{i}×P & =x_{i}×p_{i}^*(T)\\\\\n",
    "x_{benzene}& =\\frac{y_{benzene}×P}{p^*_{benzene}}\\\\         \n",
    "&= \\frac{0.5×1.013bar}{1.692bar}\\\\\n",
    "& = 0.299 \n",
    "    \\end{align*}\n",
    "    \n",
    "\\begin{align*}\n",
    "x_{toluene}& =\\frac{y_{toulene}×P}{p^*_{toluene}}\\\\         \n",
    "&= \\frac{0.5×1.013bar}{0.633bar}\\\\\n",
    "& = 0.800\n",
    "    \\end{align*}\n",
    "    \n",
    "**Step 3:** Calculated the sum of the liquid mole fractions, and adjust the temperature guess accordingly:\n",
    " $$\\sum_{i} x_{i}=0.299+0.800=1.099>1$$ \n",
    "The next guess for T should be higher so that the substances tend to condense less.\n",
    "<br/>\n",
    "<br/>\n",
    "<br/>    \n",
    "\n",
    "After several trials, we can prove that $T=371.2K$ is the bubble point temperature:    \n",
    "    \n",
    "**Step 1:** Calculate the $p^*_{i}$ for both substances:\n",
    "       \n",
    "\\begin{align*}\n",
    "log_{10}(p*) &=A-\\frac{B}{T+C}\\\\\n",
    "p*& = 10^{A-\\frac{B}{T+C}}\\\\         \n",
    "p*_{benzene}&= 10^{4.60362-\\frac{1701.073}{371.2+20.806}}= 1.837 bar \\\\\n",
    "p*_{toluene}&= 10^{4.07827-\\frac{1343.943}{371-53.773}}=0.699 bar   \n",
    "\\end{align*}    \n",
    "\n",
    "**Step 2:** Subsitute into the Roult's law equation to calculate $x_{i}$ for both substances: \n",
    "      \\begin{align*}\n",
    "y_{i}×P & =x_{i}×p_{i}^*(T)\\\\\n",
    "x_{benzene}& =\\frac{y_{benzene}×P}{p^*_{benzene}}\\\\         \n",
    "&= \\frac{0.5×1.013bar}{1.837bar}\\\\\n",
    "& = 0.276 \n",
    "    \\end{align*}\n",
    "    \n",
    "\\begin{align*}\n",
    "x_{toluene}& =\\frac{y_{toulene}×P}{p^*_{toluene}}\\\\         \n",
    "&= \\frac{0.5×1.013bar}{0.695bar}\\\\\n",
    "& = 0.725\n",
    "    \\end{align*}\n",
    "    \n",
    "**Step 3:** Calculated the sum of the liquid mole fractions, and adjust the temperature guess accordingly:\n",
    " $$\\sum_{i} x_{i}=0.276+0.725=1.001$$     \n",
    "Because there are rounding errors involved in the calcuations, we can say that T=371.2K is our bubble point temperature.\n",
    "    \n",
    "Therefore the molar fractions of ths substances in the last drop of liquid at the dew point are $x_{benzene}=0.276$ and $y_{toluene}=0.725$.    \n",
    "</div> \n",
    "    \n",
    "</details>"
   ]
  },
  {
   "cell_type": "markdown",
   "metadata": {},
   "source": [
    "If we keep raising the temperature above the dew point, the system will stay in fully vapor phase. The mole fraction of benzene will still be 0.5 since it is the ratio of total benzene molescules and total molecules in the system, regardless of the state.\n",
    "\n",
    "<p style=\"text-align:center;\">\n",
    "<img src=\"lecture 7-images/Capture-Txy process-5.PNG\" width=400>\n",
    "Imaga originally created</p>"
   ]
  },
  {
   "cell_type": "markdown",
   "metadata": {},
   "source": [
    "## Pxy diagram\n",
    "\n",
    "The following diagram is the Pxy diagram for a banzene-toluene mixture at constant temperature of 373K. They y-coordinates represents the pressure of the mixture and the x coordinates reads the mole fraction of benzene at liquid and vapor phases.\n",
    "\n",
    "<p style=\"text-align:center;\">\n",
    "<img src=\"lecture 7-images/Capture-benzene toluene Pxy.PNG\" width=400>\n",
    "Image originally created</p>"
   ]
  },
  {
   "cell_type": "markdown",
   "metadata": {},
   "source": [
    "Higher pressure forces molecules to be closer together, which makes the molecules more likely to condense from vapor to liquid. So from top to bottom, the regions are: liquid region, vapor-liquid equilibrium region, vapor region, which is the opposite from the Txy diagram:\n",
    "\n",
    "<p style=\"text-align:center;\">\n",
    "<img src=\"lecture 7-images/Capture-Pxy diagram regions.PNG\" width=400>\n",
    "Image originally created</p>\n"
   ]
  },
  {
   "cell_type": "markdown",
   "metadata": {},
   "source": [
    "Suppose we have a mixture with **0.5 mole fraction of benzene at pressure of 0.5 bar**, and we slowly raise the pressure while keeping the temperature constant at 373K.\n",
    "\n",
    "We can locate our starting point using the pressure and mole fraction of benzene:\n",
    "\n",
    "<p style=\"text-align:center;\">\n",
    "<img src=\"lecture 7-images/Capture-Pxy process-1.PNG\" width=400>\n",
    "Image originally created</p>\n",
    "\n",
    "The point is fully in the vapor region, which means the mixture of benzene and toluene is in vapor phase at pressure of 0.5 bar and temperature of 373K."
   ]
  },
  {
   "cell_type": "markdown",
   "metadata": {},
   "source": [
    "As we keep increasing the pressure, the point will hit the first curve on the boundary of the vapor region. This point is the <font color=\"red\">**dew point**</font> of the system. At the dew point, the first drop of liquid is being formed. The compositon of the first liquid can be found using the x-coordinate of the point on the other curve when the pressure is the same.\n",
    "\n",
    "<p style=\"text-align:center;\">\n",
    "<img src=\"lecture 7-images/Capture-Pxy process-2.PNG\" width=400>\n",
    "Image originally created</p>\n"
   ]
  },
  {
   "cell_type": "markdown",
   "metadata": {},
   "source": [
    "If we keep increasing the pressure while keeping the temperature constant at all time, the point will move up to the vapor-liquid equilibrium region. Similar to the Txy diagram, we can read the mole fraction of benzene by drawing a horzontal line through the point and reading the x-coordinate where the line hits the two curves.\n",
    "\n",
    "<p style=\"text-align:center;\">\n",
    "<img src=\"lecture 7-images/Capture-Pxy process-3.PNG\" width=400>\n",
    "Image originally created</p>\n"
   ]
  },
  {
   "cell_type": "markdown",
   "metadata": {},
   "source": [
    "As pressures goes up, the system will hit the bubble point, where the last drop of vapor condenses into liquid.\n",
    "\n",
    "<p style=\"text-align:center;\">\n",
    "<img src=\"lecture 7-images/Capture-Pxy process-4.PNG\" width=400>\n",
    "Image originally created</p>\n",
    "\n",
    "> We notice that the line connecting all the bubble points at different mole fraction of substances is the only linear line that separates the phase regions on the binary phase diagrams. This can be proves by the Roult's law:\n",
    ">\n",
    "> Starting with the total pressure is the sum of individual partial pressures, then replace each partial pressure with the liquid mole fraction and vapor pressure:\n",
    "> \\begin{align*}\n",
    "P=p_{1}+p_{2} & =x_{1}×p^*_{1}(T)+x_{2}×p^*_{2}(T)\\\\\n",
    "& =x_{1}×p^*_{1}(T)+(1-x_{1})×p^*_{2}(T)\\\\         \n",
    "&= x_{1}×[p^*_{1}(T)-p^*_{2}(T)]+p^*_{2}(T)  \n",
    "\\end{align*}\n",
    ">\n",
    ">This equation is in a linear form, where $[p^*_{1}(T)-p^*_{2}(T)]$ is the slope and $p^*_{2}(T)$ is the y-intercept. Because the Pxy diagrams assume constant temperature, the vapor pressures are constant.\n",
    "> > Why does this line represent the bubble points, not the dew points?\n",
    "> >\n",
    "> > This linear relationship is formed when we vary $x_{i}$. At bubble point, we can manipulate the composition of the liquid phase ($x_{i}$) because the vapor exists in a negligible amount, the mole fraction of the liquid is equal to the composition of substances we initially put in. In comparison, at dew point, we can manipulate the vapor mole fraction ($y_{i}$)."
   ]
  },
  {
   "cell_type": "markdown",
   "metadata": {},
   "source": [
    "When we raise the pressure of the system over the dew point, the system will stay fully in the liquid region. There will be only liquid in the system and the composition of the liquid is equal to the composition of molecules in the system.\n",
    "\n",
    "<p style=\"text-align:center;\">\n",
    "<img src=\"lecture 7-images/Capture-Pxy process-5.PNG\" width=400>\n",
    "Image originally created</p>"
   ]
  }
 ],
 "metadata": {
  "kernelspec": {
   "display_name": "Python 3",
   "language": "python",
   "name": "python3"
  },
  "language_info": {
   "codemirror_mode": {
    "name": "ipython",
    "version": 3
   },
   "file_extension": ".py",
   "mimetype": "text/x-python",
   "name": "python",
   "nbconvert_exporter": "python",
   "pygments_lexer": "ipython3",
   "version": "3.7.6"
  }
 },
 "nbformat": 4,
 "nbformat_minor": 4
}
