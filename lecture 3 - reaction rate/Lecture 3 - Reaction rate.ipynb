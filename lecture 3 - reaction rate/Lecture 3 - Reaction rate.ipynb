{
 "cells": [
  {
   "cell_type": "markdown",
   "metadata": {
    "colab_type": "text",
    "id": "_NQmCvCoBG-H"
   },
   "source": [
    "<!--NOTEBOOK_HEADER-->\n",
    "**Do we need to add this?**\n",
    "\n",
    "*This notebook contains course material from [CBE20255](https://jckantor.github.io/CBE20255)\n",
    "by Jeffrey Kantor (jeff at nd.edu); the content is available [on Github](https://github.com/jckantor/CBE20255.git).\n",
    "The text is released under the [CC-BY-NC-ND-4.0 license](https://creativecommons.org/licenses/by-nc-nd/4.0/legalcode),\n",
    "and code is released under the [MIT license](https://opensource.org/licenses/MIT).*"
   ]
  },
  {
   "cell_type": "markdown",
   "metadata": {
    "colab_type": "text",
    "id": "VjocRulUBG-J"
   },
   "source": [
    "# Lecture 3 - Reaction rates"
   ]
  },
  {
   "cell_type": "markdown",
   "metadata": {
    "colab_type": "text",
    "id": "nMF5VVHUBG-K"
   },
   "source": [
    "## Objectives\n",
    "   \n",
    "### Define:\n",
    "* reaction rate\n",
    "* reation rate law\n",
    "* reation rate constant (k)\n",
    "* reaction order\n",
    "* overall order\n",
    "\n",
    "### Calculation:\n",
    "* calculating reaction rate for the reaction and rate of formation of compounds\n",
    "* calculating reaction extent\n",
    "* determining reaction order and rate constant from kinetic data"
   ]
  },
  {
   "cell_type": "markdown",
   "metadata": {},
   "source": [
    "## Describing reaction rate"
   ]
  },
  {
   "cell_type": "markdown",
   "metadata": {},
   "source": [
    "Reaction rate shows the different rates of production of different species although we want an overall common rate to describe the system.\n",
    "\n",
    "Say we have reaction $$A + 2B → 3C + D$$\n",
    "\n",
    "Reaction rate can be calculated by:"
   ]
  },
  {
   "cell_type": "markdown",
   "metadata": {},
   "source": [
    "<p style=\"text-align:center;\">\n",
    "<img src=\"Capture-reaction rate equation.PNG\" width=700>\n",
    "</p>"
   ]
  },
  {
   "cell_type": "markdown",
   "metadata": {},
   "source": [
    "Reaction rate can also be found from the graph of concentration of components in the system vs. time:"
   ]
  },
  {
   "cell_type": "markdown",
   "metadata": {},
   "source": [
    "<p style=\"text-align:center;\">\n",
    "<img src=\"Capture-reaction rate from graph.PNG\" width=600>\n",
    "</p>"
   ]
  },
  {
   "cell_type": "markdown",
   "metadata": {},
   "source": [
    "### Example\n",
    "\n",
    "If we have the reaction \n",
    "\n",
    "$$ 2 NOBr_{(g)} ⇌ 2 NO_{(g)} + Br_{2(g)}$$\n",
    "\n",
    "and we measure that the rate of formation of NO is 1.6 mmol/(L·s), what is the reation rate and the rate of formation of $Br_{2}$ and $NOBr$?"
   ]
  },
  {
   "cell_type": "markdown",
   "metadata": {},
   "source": [
    "<details>\n",
    "  <summary><font color='blue'>Click here to see the solution!</font></summary>\n",
    "    \n",
    "\n",
    ">**Solution**\n",
    ">\n",
    "> **Step 1**: Determine the reaction rate from the rate of formation for NO. Rate of formation is already given in mmol/(L·s), so no need to convert. If given in mmol/s need to divide by volume.\n",
    ">\\begin{align*}\n",
    "r & = \\frac{1}{\\nu_{j}} \\frac{d[NO]}{dt} \\\\\n",
    "& = \\frac{1}{2} \\left( 1.6 \\frac{mmol}{L·s}\\right)\\\\\n",
    "& = 0.8\\frac{mmol}{L·s}\n",
    "\\end{align*}\n",
    ">\n",
    ">**Step 2**: Use the reacction rate to determine rate of formation for the other compounds\n",
    ">* rate of formation is positive for products and negative for reactants\n",
    ">\\begin{align*}\n",
    "\\frac{d[Br_{2}]}{dt}& = r \\\\\n",
    "& = 0.8\\frac{mmol}{L·s}\n",
    "\\end{align*}\n",
    ">\\begin{align*}\n",
    "\\frac{d[NOBr]}{dt}& = -2r \\\\\n",
    "& = -1.6\\frac{mmol}{L·s}\n",
    "\\end{align*}\n",
    "    \n",
    "</details>\n",
    "\n"
   ]
  },
  {
   "cell_type": "markdown",
   "metadata": {},
   "source": [
    "## Extent of reaction"
   ]
  },
  {
   "cell_type": "markdown",
   "metadata": {},
   "source": [
    "We use the extent of reaction ($\\xi$) to describe the change in an amount of a reacting speicies J."
   ]
  },
  {
   "cell_type": "markdown",
   "metadata": {},
   "source": [
    "<p style><font color='red',size=3>$$d n_{j} = \\nu_{j} d\\xi$$</font>\n",
    "    \n",
    "where:\n",
    ">$dn_{j}$     = change in the number of moles of a certain substance\n",
    ">\n",
    ">$\\nu_{j}$    = the stoichiometric corfficient\n",
    ">\n",
    ">$d\\xi$    = the extent of reaction"
   ]
  },
  {
   "cell_type": "markdown",
   "metadata": {},
   "source": [
    "We can get a relationship between the reaction extent and the rate of reaction when the volume is constant:\n",
    "\n",
    "<font color='red'>$$ r = \\frac{1}{V} \\frac{d\\xi}{dt}  = \\frac{1}{\\nu_{j}} \\frac{1}{V} \\frac{dn_{j}}{dt}$$</font>\n",
    "\n",
    "where:\n",
    ">$V$= volume"
   ]
  },
  {
   "cell_type": "markdown",
   "metadata": {
    "colab_type": "text",
    "id": "V7VnI3PuBG-L"
   },
   "source": [
    "## Reaction rate law"
   ]
  },
  {
   "cell_type": "markdown",
   "metadata": {
    "colab_type": "text",
    "id": "cddwopLXyPTP"
   },
   "source": [
    "**Definition:** The relationship between The rate of reaction and the concentration of reactants."
   ]
  },
  {
   "cell_type": "markdown",
   "metadata": {},
   "source": [
    "Rate law is generally found to be proportional to the concentrations of reactants raised to a power:\n",
    "\n",
    "The general form for reaction rate law is \n",
    "<font color='red'>$$r=k_{r}[A]^a[B]^b$$</font>\n",
    "\n",
    "For gas cases we can use patial pressure\n",
    "<font color='red'>$$r=k_{r}p_{A}^a p_{B}^b$$</font>\n",
    "\n",
    "The reaction constant $k_{r}$ is independent on concentration but dependent on temperature.  \n",
    "<br/><br/><br/>"
   ]
  },
  {
   "cell_type": "markdown",
   "metadata": {
    "colab_type": "text",
    "id": "CGLfVvo1BG-M"
   },
   "source": [
    "For example, the rate of the gas-phase decomposition of dinitrogen pentoxide,\n",
    "\n",
    "$$ 2 N_{2}O_{5} ⇌ 4 NO_{2} + O_{2}$$\n",
    "\n",
    "The rate law is found to be directly proportional to the concentration of $N_{2}O_{5}$:\n",
    "\n",
    "$$ r = k_{r} [N_{2}O_{5}]$$\n",
    "\n",
    "Reaction rate laws can be complicated and may tell us about the mechanism of the reactions. For example, the reaction between hydrogen and bromine:\n",
    "\n",
    "Simple stoichiometry: $ H_{2(g)} + Br_{2(g)} → 2 HBr_{(g)}$\n",
    "\n",
    "Complicated rate law: $$ r = \\frac{k_{a}[H_{2}][Br_{2}]^{3/2}}{[Br_{2}]+k_{b}[HBr]}$$"
   ]
  },
  {
   "cell_type": "markdown",
   "metadata": {},
   "source": [
    ">### Rate law vs. Equilibrium constant\n",
    "Care must be taken not to confuse equilibrium constant expressions with rate law expressions. The expression for  $K_{eq}$  can always be written by inspecting the **balanced** reaction equation and contains a term for each species of the reaction (raised to the power of its coefficient) whose concentration changes during the reaction. The equilibrium constant for the above reaction is given below:\n",
    ">\n",
    ">$$K_{eq}=\\frac{[NO_{2}]^4[O_{2}]}{[N_{2}O_{5}]^2}$$\n",
    ">\n",
    ">In contrast, the expression for the rate law generally bears no relation to the reaction equation, and must be determined experimentally."
   ]
  },
  {
   "cell_type": "markdown",
   "metadata": {},
   "source": [
    "## Reaction rate units"
   ]
  },
  {
   "cell_type": "markdown",
   "metadata": {},
   "source": [
    "Reaction rate(r) is always expressed in units of concentration over time.(e.g. <font size=3>$\\frac{mol}{L·s}$, $\\frac{kPa}{min}$, $\\frac{mol}{m^3·h}$ </font>)\n",
    "\n",
    "This means the rate constant $k_{r}$ needs to be such that r is expressed in units of concentration over time."
   ]
  },
  {
   "cell_type": "markdown",
   "metadata": {},
   "source": [
    "### Example\n",
    "\n",
    "For the following example, what are the units for the reaction rate constant ($k_{r}$)?\n",
    "\n",
    "$$r=k_{r}*p_{A}*p_{B}^2$$\n",
    "with unit for p as Pa and time in seconds"
   ]
  },
  {
   "cell_type": "markdown",
   "metadata": {},
   "source": [
    "<details>\n",
    "  <summary><font color='blue'>Click here to see the solution!</font></summary>\n",
    "    \n",
    "> **Solution**\n",
    ">\n",
    "> r is expressed in concentration over time, so the unit of r is $\\frac{Pa}{s}$.\n",
    ">\n",
    "> $$\\frac{Pa}{s} = k_{r}*Pa*Pa^2$$\n",
    ">$$k_{r}=\\frac{1}{Pa^2s} $$\n",
    "    \n",
    "</details>\n"
   ]
  },
  {
   "cell_type": "markdown",
   "metadata": {},
   "source": [
    "## Reaction order"
   ]
  },
  {
   "cell_type": "markdown",
   "metadata": {},
   "source": [
    "The dependence of the rate of reaction on the reactant concentrations can often be expressed as a direct proportionality, in which the concentrations may be raised to be the zeroth, first, or second power. The exponent is known as the order of the reaction with respect to that substance.\n",
    "\n",
    "The overall order of a reaction is the sum of the orders with respect to the sum of the exponents\n",
    "\n",
    "For example: $$r = k_{r}[A]^3[B]^{1/2}$$\n",
    "The reaction is\n",
    "\n",
    ">Third order in A\n",
    ">\n",
    ">One half order in B\n",
    ">\n",
    ">Three and a half order overall"
   ]
  },
  {
   "cell_type": "markdown",
   "metadata": {},
   "source": [
    "In the more complicated example for the reaction between hydrogen and bromine:\n",
    "\n",
    "$$ r = \\frac{k_{a}[H_{2}][Br_{2}]^{3/2}}{[Br_{2}]+k_{b}[HBr]}$$\n",
    "\n",
    "The reaction is \n",
    ">First order in $H_{2}$\n",
    ">\n",
    ">Indeterminate order in $Br_{2}$ (as it's not in a signle term)\n",
    ">\n",
    ">Indeterminate order in $HBr$ (as it cannot be isolated to a single term raised to a power)\n",
    ">\n",
    ">Indeterminate order overall (as some orders are indeterminate)"
   ]
  },
  {
   "cell_type": "markdown",
   "metadata": {},
   "source": [
    "### Isolation method determining rate law"
   ]
  },
  {
   "cell_type": "markdown",
   "metadata": {},
   "source": [
    "One of the simplest methods for determining the rate law is the isolation method. \n",
    "\n",
    "Say we have a reaction with two reactants, A and B. We'll put a large amount of B in our reactor compared to A, so much that the concentration barely changes.\n",
    "\n",
    "If the true rate law is: $r = k_{r}[A][B]^2$\n",
    "\n",
    "What we would observe is $r = k_{eff}[A]$, where $k_{eff}=k_{r}[B_{0}]^2$\n",
    ">$k_{eff}$ = the effective rate constant \n",
    ">\n",
    ">$[B]_{0}$ indicating the concentration of B at time 0 or also called B naught meaning nothing"
   ]
  },
  {
   "cell_type": "markdown",
   "metadata": {},
   "source": [
    "<p style=\"text-align:center;\">\n",
    "<img src=\"Capture-isolation method reaction order.PNG\" width=800>\n",
    "</p>"
   ]
  },
  {
   "cell_type": "markdown",
   "metadata": {},
   "source": [
    "With B in great excess: $r = k_{eff}[A]$ where $k_{eff}=k_{r}[B_{0}]^2$, reaction appears first order.\n",
    "\n",
    "With A in great excess: $r = k'_{eff}[A]$ where $k'_{eff}=k_{r}[A_{0}]^2$, reaction appears second order.\n",
    "\n",
    ">$k'_{eff}$ is read as k prime effective\n",
    "\n",
    "It is easier to analyse these effective rate laws than the more complex combined rate law."
   ]
  },
  {
   "cell_type": "markdown",
   "metadata": {},
   "source": [
    "### Method of initial rates\n",
    "\n",
    "The method of initial rates is commonly used in conjunction with the isolation methods to determine reaction order."
   ]
  },
  {
   "cell_type": "markdown",
   "metadata": {},
   "source": [
    "**Example**\n",
    "\n",
    "Say we have a reaction with two species, A and B. We put in a large excess of B into the reactor. The following as our initial rates are observed with different concentrations of A, what is th reaction order in A?\n",
    "\n",
    "| [A] (mol/L) | Initial rate(mol/L·s) |\n",
    "| :---: | :--: |\n",
    "|     1     | $1×10^{-2}$ |\n",
    "|     2     | $4×10^{-2}$ |"
   ]
  },
  {
   "cell_type": "markdown",
   "metadata": {},
   "source": [
    "<details>\n",
    "  <summary><font color='blue'>Click here to see the solution!</font></summary>\n",
    "    \n",
    "> **Solution**\n",
    ">\n",
    "> As the concentration of A doubles, the reaction rate quadruples    $$r_{0}=k_{eff}[A]^2$$\n",
    ">\n",
    "> So the reaction is second order in A. \n",
    "    \n",
    "</details>"
   ]
  },
  {
   "cell_type": "markdown",
   "metadata": {},
   "source": [
    "If we take the logarithm of the general equation, we can linearized the equation:\n",
    "\n",
    "\\begin{align*}\n",
    "r_{0} & = k_{eff}[A_{0}]^a \\\\\n",
    "log(r_{0})& = log(k_{eff}) + a*log([A_{0}])\\\\\n",
    "y & = intercept + slope * x\n",
    "\\end{align*}\n",
    "\n",
    "> Plot $log(r_{0})$ vs $log([A_{0}])$, where the slope is the reaction order in A; and y-intercept equals to  $log(k_{eff})$"
   ]
  },
  {
   "cell_type": "markdown",
   "metadata": {},
   "source": [
    "**Example**\n",
    "\n",
    "Sulfuryl chloride ($SO_{2}Cl_{2}$) decomposes to $SO_{2}$ and $Cl_{2}$ by the following reaction:\n",
    "\n",
    "$$SO_{2}Cl_{2(g)} → SO_{2(g)}+Cl_{2(g)}$$\n",
    "Data for the reaction at 320°C are listed in the following table. Calculate the reaction order with regard to sulfuryl chloride and determine the rate constant for the reaction.\n",
    "\n",
    "| Experiment |   $[SO_{2}Cl_{2}]_{0}$ (M)   | Initial rate(M·s) |\n",
    "| :---: | :--: | :--: |\n",
    "|     1     |   0.0050   |$1.10×10^{-7}$ |\n",
    "|     2     |   0.0075   |$1.65×10^{-7}$ |\n",
    "|     3     |   0.0100   |$2.20×10^{-7}$ |\n",
    "|     4     |   0.0125   |$2.75×10^{-7}$ |"
   ]
  },
  {
   "cell_type": "markdown",
   "metadata": {},
   "source": [
    "<details>\n",
    "  <summary><font color='blue'>Click here to see the solution!</font></summary>\n",
    "    \n",
    "> **Solution**\n",
    ">\n",
    ">**Step 1**: determine the reaction order with respect to nitrogen dioxide\n",
    ">\n",
    ">Comparing Experiments 1 and 3, for example, shows that doubling the concentration doubles the reaction rate \n",
    ">$(2.20×10^{-7}) ÷ (1.10×10^{-7}) = 2.0$, which means that the reaction rate is proportional to $[SO_{2}Cl_{2}]$.\n",
    ">    \n",
    ">The reaction is first order with respect to $SO_{2}Cl_{2}$. \n",
    ">\n",
    ">**Step 2**: calculate $k_{r}$\n",
    ">\n",
    ">We have $rate = k_{r}[SO_{2}Cl_{2}]$. We can calculate the rate constant ($k_{r}$) using data from any experiment in the table.\n",
    ">\\begin{align*}\n",
    "rate & = k_{r}[SO_{2}Cl_{2}] \\\\\n",
    "1.10×10^{-7} M/s& = k_{r}×0.0050M \\\\\n",
    "2.2×10^{-5}s^{-1} & = k_{r}\n",
    "\\end{align*}\n",
    ">\n",
    ">\n",
    ">**Method 2**\n",
    ">\n",
    "> The following graph is produced when plotting $log(r_{0})$ vs $log([A_{0}])$\n",
    "> <p style=\"text-align:center;\">\n",
    "><img src=\"Capture- reaction order example.PNG\" width=500>\n",
    "></p>    \n",
    ">From the line of best fit, we can see a=1, $log(k_{r})=-4.6576$\n",
    ">\n",
    ">Therefore the reaction is first order in $SO_{2}Cl_{2}$, $k_{r}=10^{-4.6576} = 2.2×10^{-5}s^{-1}$.     \n",
    "</details>"
   ]
  },
  {
   "cell_type": "markdown",
   "metadata": {},
   "source": [
    "**Example**\n",
    "\n",
    "At high temperatures, nitrogen dioxide decomposes to nitric oxide and oxygen.\n",
    "\n",
    "$$2NO_{2(g)}−→2NO_{(g)}+O_{2(g)}$$\n",
    "\n",
    "Experimental data for the reaction at 300°C and four initial concentrations of NO2 are listed in the following table:\n",
    "\n",
    "| Experiment |   $$[NO_{2}]_{0}$$(M) | Initial rate(M·s) |\n",
    "| :---:  |  :--:  | :--: |\n",
    "|     1     |    0.015    |$$1.22×10^{-4}$$  |\n",
    "|     2     |    0.010    |$$5.40×10^{-5}$$ |\n",
    "|     3     |    0.0080    |$$3.46×10^{-5}$$ |\n",
    "|     4     |    0.0050    |$$1.35×10^{-5}$$ |\n",
    "\n",
    "Determine the reaction order and the rate constant."
   ]
  },
  {
   "cell_type": "markdown",
   "metadata": {},
   "source": [
    "<details>\n",
    "<summary><font color='blue'>Click here to see the solution!</font></summary>\n",
    "    \n",
    "> **Solution**\n",
    ">\n",
    ">**Step 1**: determine the reaction order with respect to nitrogen dioxide\n",
    ">\n",
    ">Comparing Experiments 2 and 4, for example, shows that doubling the concentration quadruples the reaction rate \n",
    ">$(5.40 × 10^{−5}) ÷ (1.35 × 10^{−5}) = 4.0$, which means that the reaction rate is proportional to $[NO_{2}]^2$.\n",
    ">\n",
    ">Similarly, comparing Experiments 1 and 4 shows that tripling the concentration increases the reaction rate by a factor of 9, again indicating that the reaction rate is proportional to $[NO_{2}]^2$.\n",
    ">\n",
    ">Therefore, the reaction is second order with respect to nitrogen dioxide.\n",
    ">\n",
    ">**Step 2**: calculate $k_{r}$\n",
    ">\n",
    ">We have $rate = k_{r}[NO_{2}]^2$. We can calculate the rate constant ($k_{r}$) using data from any experiment in the table.\n",
    ">\\begin{align*}\n",
    "rate & = k_{r}[NO_{2}]^2 \\\\\n",
    "5.40×10^{-5} M/s& = k_{r}×(0.010M)^2\\\\\n",
    "0.54M^{-1}s^{-1} & = k_{r}\n",
    "\\end{align*}\n",
    ">    \n",
    ">\n",
    ">**method 2**\n",
    ">\n",
    "> The following graph is produced when plotting $log(r_{0})$ vs $log([A_{0}])$\n",
    "> <p style=\"text-align:center;\">\n",
    "><img src=\"Capture- reaction order example 2.PNG\" width=500>\n",
    "></p>    \n",
    ">From the line of best fit, we can see a=2, $log(k_{r})=-0.2602$\n",
    ">\n",
    ">Therefore the reaction is first order in $NO_{2}$, $k_{r}=10^{-0.2602} = 0.55 M^{-1}s^{-1}$.   \n",
    "</details>"
   ]
  },
  {
   "cell_type": "markdown",
   "metadata": {},
   "source": [
    "## Integrated rate laws "
   ]
  },
  {
   "cell_type": "markdown",
   "metadata": {},
   "source": [
    "Rate laws are differential equations can be integrated to find how the concentrations of reactants and products change with time. We can imagine a fairly complex system with multiple reactions described by\n",
    "\n",
    "$$𝑟_{1}=𝑘_{𝑟1}∗𝑓(𝐴,𝐵,...),   𝑟_{2}=𝑘_{𝑟2}∗𝑓(𝐴,𝐵,...),    𝑟_{3},   𝑟_{4}....$$\n",
    "\n",
    "Concentration of all components can be described by equations such as: $\\frac{𝑑[𝐴]}{𝑑𝑡}=−𝑟_{1}−2𝑟_{2}...$, we need to integrate these to find concentrations at a given time.\n",
    "\n",
    "Any of these rate laws can be solved numerically (you’ll learn about this in CHBE 230). But some simpler cases can also be solved analytically."
   ]
  },
  {
   "cell_type": "markdown",
   "metadata": {},
   "source": [
    "## Zeroth order reactions\n",
    "\n",
    "A zeroth-order reaction is one whose rate is independent of concentration; its differential rate law is\n",
    "\n",
    "$$r=-\\frac{d[A]}{dt}=k_{r}$$\n",
    "\n",
    "Integrating from t=0 we have $[A]_{0}$ to some time t where we have $[A]$\n",
    "\n",
    "$$\\int_{[A]_{0}}^{[A]} \\mathrm d[A] = \\int_{t_{0}=0}^{t} \\mathrm -k_{r}$$\n",
    "\n",
    "\n",
    "<p style=\"text-align:center;\"><font color='red'>$[A]-[A]_{0}=-k_{r}*t$</font> or <font color='red'>$[A]=[A]_{0}-k_{r}*t$</font>"
   ]
  },
  {
   "cell_type": "markdown",
   "metadata": {},
   "source": [
    "<p style=\"text-align:center;\">\n",
    "<img src=\"zeroth order reaction.PNG\" width=600>\n",
    "</p>"
   ]
  },
  {
   "cell_type": "markdown",
   "metadata": {},
   "source": [
    "## First order reactions\n",
    "\n",
    "Doing a similar approach as with the zeroth order reactions:\n",
    "\n",
    "$$r=-\\frac{d[A]}{dt}=k_{r}[A]$$\n",
    "\n",
    "$$\\int_{[A]_{0}}^{[A]} \\frac{d[A]}{[A]} = \\int_{t_{0}=0}^{t} \\mathrm-k_{r}$$\n",
    "\n",
    "\n",
    "<p style=\"text-align:center;\"> <font color='red',size=3>$ln[A]-ln[A]_{0}=-k_{r}*t$</font> or <font color='red',size=3>$[A]=[A]_{0}e^{-k_{r}*t}$</font>\n",
    "<br/><br/>"
   ]
  },
  {
   "cell_type": "markdown",
   "metadata": {},
   "source": [
    "<p style=\"text-align:center;\">\n",
    "<img src=\"first order reaction.PNG\" width=900>\n",
    "</p>"
   ]
  },
  {
   "cell_type": "markdown",
   "metadata": {},
   "source": [
    "Based on the equation we found, what is an expression for the time taken for half of A to be consumed (half-life)?\n",
    "\n",
    "$$ln[A]-ln[A]_{0}=-k_{r}*t$$\n",
    "\n",
    "\\begin{align*}\n",
    "k_{r}* t_{1/2} & = -ln \\frac{[A]}{[A]_{0}} \\\\\n",
    "& = -ln \\frac{\\frac{1}{2}[A]_{0}}{[A]_{0}} \\\\\n",
    "& =-ln(\\frac{1}{2}) \\\\\n",
    "& = ln(2)\n",
    "\\end{align*}\n",
    "\n",
    "<font color='red'>$$t_{1/2}=\\frac{ln(2)}{k_{r}}$$</font> \n",
    "<p style=\"text-align:center;\">Note that this half life does not depend on [A].\n",
    "    \n",
    "**Practice**: use $[A]=[A]_{0}e^{-k_{r}*t}$, you should get the same result."
   ]
  },
  {
   "cell_type": "markdown",
   "metadata": {},
   "source": [
    "<details>\n",
    "<summary><font color='blue'>Click here to see the solution!</font></summary>\n",
    "    \n",
    "> **Solution**\n",
    ">\\begin{align*}\n",
    "[A] & = [A]_{0}*e^{-k_{r}t_{1/2}} \\\\\n",
    "\\frac{[A]}{[A]_{0}}& = e^{-k_{r}t_{1/2}} \\\\\n",
    "\\frac{1}{2} & = e^{-k_{r}t_{1/2}} \\\\\n",
    "ln(\\frac{1}{2}) & = -k_{r}*t_{1/2}\n",
    "\\end{align*} \n",
    ">\n",
    "> $$t_{1/2} =-\\frac{ln(\\frac{1}{2})}{k_{r}} = \\frac{ln(2)}{k_{r}}$$\n",
    "    \n",
    "</details>"
   ]
  },
  {
   "cell_type": "markdown",
   "metadata": {},
   "source": [
    "## Second order reactions\n",
    "\n",
    "$$r=-\\frac{d[A]}{dt}=k_{r}[A]^2$$\n",
    "\n",
    "$$\\int_{[A]_{0}}^{[A]} \\frac{d[A]}{[A]^2} = \\int_{t_{0}=0}^{t} \\mathrm-k_{r}$$\n",
    "\n",
    "<p style=\"text-align:center;\"> <font color='red',size=4>$\\frac{1}{[A]}-\\frac{1}{[A]_{0}}=k_{r}*t$</font> or <font color='red',size=4>$[A]=\\frac{[A]_{0}}{1+k_{r}*t*[A]_{0}}$</font>\n",
    "   \n",
    "<p style>Using this to find half life, we find that: <font color='red',size=4> $t_{1/2}=\\frac{1}{k_{r}*[A]_{0}}$ </font>"
   ]
  },
  {
   "cell_type": "markdown",
   "metadata": {},
   "source": [
    "<p style=\"text-align:center;\">\n",
    "<img src=\"second order reaction.PNG\" width=800>\n",
    "</p>"
   ]
  },
  {
   "cell_type": "code",
   "execution_count": null,
   "metadata": {},
   "outputs": [],
   "source": []
  },
  {
   "cell_type": "code",
   "execution_count": null,
   "metadata": {},
   "outputs": [],
   "source": []
  },
  {
   "cell_type": "code",
   "execution_count": null,
   "metadata": {},
   "outputs": [],
   "source": []
  }
 ],
 "metadata": {
  "colab": {
   "name": "01.01-Units-and-Engineering-Calculations.ipynb",
   "provenance": []
  },
  "kernelspec": {
   "display_name": "Python 3",
   "language": "python",
   "name": "python3"
  },
  "language_info": {
   "codemirror_mode": {
    "name": "ipython",
    "version": 3
   },
   "file_extension": ".py",
   "mimetype": "text/x-python",
   "name": "python",
   "nbconvert_exporter": "python",
   "pygments_lexer": "ipython3",
   "version": "3.7.6"
  }
 },
 "nbformat": 4,
 "nbformat_minor": 1
}
