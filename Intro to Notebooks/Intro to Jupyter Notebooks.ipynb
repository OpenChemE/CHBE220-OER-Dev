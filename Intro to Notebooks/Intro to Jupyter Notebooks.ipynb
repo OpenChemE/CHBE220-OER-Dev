{
 "cells": [
  {
   "cell_type": "markdown",
   "metadata": {},
   "source": [
    "# Intro to Jupypter Notebooks"
   ]
  },
  {
   "cell_type": "markdown",
   "metadata": {},
   "source": [
    "### This notebook will introduce Jupyter notebooks and the basic components of Jupyter."
   ]
  },
  {
   "cell_type": "markdown",
   "metadata": {},
   "source": [
    "Jupyter Notebooks are interactive documents, like this one, that include text and code. The documents are ordinary files with a suffix .ipynb. They can be uploaded, downloaded, and shared like any other digital document. The notebooks are composed of individual cells containing either text, code, or the output of a calculation. The code cells be written in different programming languages such as Python, R, and Julia.\n",
    "\n",
    "\n",
    " [\n",
    "    <!--NOTEBOOK_HEADER-->*This paragraph is taken from course material from [CBE20255](https://jckantor.github.io/CBE20255),\n",
    "    \"by Jeffrey Kantor (jeff at nd.edu); the content is available [on Github](https://github.com/jckantor/CBE20255.git),\n",
    "    \"The text is released under the [CC-BY-NC-ND-4.0 license](https://creativecommons.org/licenses/by-nc-nd/4.0/legalcode),\n",
    "    \"and code is released under the [MIT license](https://opensource.org/licenses/MIT).*\"\n",
    "   ]\n",
    "  \n",
    "  \n"
   ]
  },
  {
   "cell_type": "markdown",
   "metadata": {},
   "source": [
    "1. Go to ubc.syzygy.ca and sign in using your CWL login"
   ]
  },
  {
   "cell_type": "markdown",
   "metadata": {},
   "source": [
    "2. Download the .ipynb notebook from Canvas (or other source)"
   ]
  },
  {
   "cell_type": "markdown",
   "metadata": {},
   "source": [
    "3. Click on the upload button in the Jupyter homepage\n",
    "<p style=\"text-align:center;\">\n",
    "<img src=\"Step3.png\" width=600>\n",
    "</p>"
   ]
  },
  {
   "cell_type": "markdown",
   "metadata": {},
   "source": [
    "4. Select the .ipynb file and upload"
   ]
  },
  {
   "cell_type": "markdown",
   "metadata": {},
   "source": [
    "5. The file should appear in your Jupyter files tab\n",
    "\n",
    "<p style=\"text-align:center;\">\n",
    "<img src=\"Step5.png\" width=600>\n",
    "</p>"
   ]
  },
  {
   "cell_type": "markdown",
   "metadata": {},
   "source": [
    "6. Click on the notebook you want to run"
   ]
  },
  {
   "cell_type": "markdown",
   "metadata": {},
   "source": [
    "7. This will open the notebook in a new tab:\n",
    "<p style=\"text-align:center;\">\n",
    "<img src=\"Step7.png\" width=600>\n",
    "</p>"
   ]
  },
  {
   "cell_type": "markdown",
   "metadata": {},
   "source": [
    "8. Click on the links in the cell to display details\n",
    "<p style=\"text-align:center;\">\n",
    "<img src=\"Step8-1.png\" width=600>\n",
    "</p>\n",
    "<p style=\"text-align:center;\">\n",
    "<img src=\"Step8-2.png\" width=600>\n",
    "</p>"
   ]
  },
  {
   "cell_type": "markdown",
   "metadata": {},
   "source": [
    "9. To exit the notebook, go to File > Close and Halt. This will shutdown the notebook and close the Jupyter tab.\n",
    "<p style=\"text-align:center;\">\n",
    "<img src=\"Step9.png\" width=200>\n",
    "</p>\n",
    "\n",
    "> If you accidentally double-click the cell, the raw code will be shown. In >that case, select the cell you want to run and click 'Run' on the top of the >page will get you pack to its output:\n",
    "<p style=\"text-align:center;\">\n",
    "<img src=\"Step9-2.png\" width=600>\n",
    "</p>"
   ]
  }
 ],
 "metadata": {
  "kernelspec": {
   "display_name": "Python 3",
   "language": "python",
   "name": "python3"
  },
  "language_info": {
   "codemirror_mode": {
    "name": "ipython",
    "version": 3
   },
   "file_extension": ".py",
   "mimetype": "text/x-python",
   "name": "python",
   "nbconvert_exporter": "python",
   "pygments_lexer": "ipython3",
   "version": "3.7.6"
  }
 },
 "nbformat": 4,
 "nbformat_minor": 4
}
