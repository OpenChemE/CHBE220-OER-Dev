{
 "cells": [
  {
   "cell_type": "markdown",
   "metadata": {},
   "source": [
    "# Lecture 19 - Process Safety 1 - an introduction"
   ]
  },
  {
   "cell_type": "markdown",
   "metadata": {},
   "source": [
    "## Objectives\n",
    "\n",
    "By the end of this class you will be able to:\n",
    "\n",
    "### List and describe  \n",
    "basic process safety terminology\n",
    "\n",
    "### Appreciate \n",
    "the need for process safety\n",
    "\n",
    "### Prioritize \n",
    "process safety changes based on inherently safer design strategies."
   ]
  },
  {
   "cell_type": "markdown",
   "metadata": {},
   "source": [
    "## Terminology \n",
    "\n",
    "<strong>Accident</strong> - the occurance of a sequence of events that prodece unintended injury, death of property damage\n",
    "\n",
    "<strong>Safety</strong> - strategy of sccident prevention\n",
    "\n",
    "<strong>Loss prevention</strong> - prevention of injury to people, damage to environment, loss of equipment, inventory, production, reputation or economic loss\n",
    "\n",
    "<strong>Hazard</strong> - a chemical or physical condition that has potential to cause an accident (example of significant chemical plant hazard: flammable, explosive, reactive & toxic hazards)\n",
    "\n",
    "<strong>Risk</strong> - probability of an accident occuring and consequence of it\n",
    "\n",
    "<strong>Incident</strong> - loss of control of material of energy (e.g. leak in a pipe)\n",
    "\n",
    "<strong>Scenario</strong> - a sequence of events causing the hazard to result in an accident\n",
    "\n",
    "<strong>Outcome/Consequence</strong> - physical manifestution of an accident"
   ]
  },
  {
   "cell_type": "markdown",
   "metadata": {},
   "source": [
    "## Safety Triangle\n",
    "\n",
    "The three essential aspects to achieve workplace safety:\n",
    "<p style=\"text-align:center;\">\n",
    "<img src=\"lecture 19-images/Capture - Safety Triangle.PNG\" width=400>\n",
    "</p>\n",
    "\n",
    "Examples for each aspect in the safety triangle:\n",
    "\n",
    "<strong>Technical</strong> - characterization and control of hazard\n",
    "\n",
    "<strong>Management</strong> - policies and procedures for safety\n",
    "\n",
    "<strong>Cultural</strong> - motivating people to do things safely"
   ]
  },
  {
   "cell_type": "markdown",
   "metadata": {},
   "source": [
    "## Statistics on incidents\n",
    "\n",
    "<strong>OSHA</strong> - Occupational Safety & Health Administration\n",
    "\\begin{align*}\n",
    "& \\text{incident rate} = \\text{incidents per 100 worker per year}\\\\\n",
    "& \\text{ every working year} = 2000 \\text{ hours}\\\\         \n",
    "&  \\text{incident rate} = \\text{incidents per 200,000 hours exposure}\n",
    "\\end{align*} \n",
    "<font color='red'> <p style=\"text-align:center;\">Need to define what incident means </font></p>\n",
    "\n",
    "<strong> FAR </strong> - Fatal Accident rate\n",
    "\\begin{align*}\n",
    "& \\text{fatalities per 1000 employee over their working life}\\\\\n",
    "& =10^8\\text{ hours of exposure} \\\\         \n",
    "& 50 \\text{ years pf exposure} × 2000 \\text{ hrs/yr} × 1000 \\text{ employees}\n",
    "\\end{align*} \n",
    "\n",
    "<strong> Fatality Rate </strong> - per person per year -<font color='red'> exposure poorly defined </font>\n",
    "\n",
    "### <font color='red'> For these statistics, smaller is better! </font>"
   ]
  },
  {
   "cell_type": "markdown",
   "metadata": {},
   "source": [
    "## Personal vs. Process Safety\n",
    "\n",
    "<p style=\"text-align:center;\">\n",
    "<img src=\"lecture 19-images/Capture - process versus personal safety.PNG\" width=400>\n",
    "</p>\n",
    "\n",
    "prcoess safety - low frequence, potentially higher consequence\n",
    "\n",
    "personal safety - higher frequency, generally lower consequence"
   ]
  },
  {
   "cell_type": "markdown",
   "metadata": {},
   "source": [
    "## Why does Accident Occur?\n",
    "\n",
    "We choose to handle dangerous process materials and energies to make value added products that can be very benefited. \n",
    "\n",
    "* If we handle these materials, there is a <strong>potential</strong> for accidents\n",
    "\n",
    "* Things can be done to reduce their <strong>likelihood</strong> and <strong>severity</strong> to negligible or tolerable levels\n"
   ]
  },
  {
   "cell_type": "markdown",
   "metadata": {},
   "source": [
    "## How do accidents occur?\n",
    "\n",
    "### Major Process Industry Inccidents and Their Properties\n",
    "\n",
    "\n",
    "<p style=\"text-align:center;\">\n",
    "<img src=\"lecture 19-images/Capture-common incidents.PNG\" width=600>\n",
    "</p>\n",
    "\n",
    "### The Hazard Pyramid\n",
    "<p style=\"text-align:center;\">\n",
    "<img src=\"lecture 19-images/Capture - hazard pyramid.PNG\" width=500>\n",
    "</p>\n",
    "\n",
    "The incidents that do not result in any damage (or near misses) are defined by when the event did not lead to harm but only because of happenstance or luck$^{[1]}$. It is importaned for us to report these incidents and learn from them. \n",
    "\n",
    "### Common Types of Process Industry Incidents\n",
    "<p style=\"text-align:center;\">\n",
    "<img src=\"lecture 19-images/Capture-major types of incidents.PNG\" width=400>\n",
    "</p>\n",
    "\n",
    "### One Way to Tackle Hazards\n",
    "<strong>Inherantly safer design</strong>: permanently and inseperably reduce or eliminate process hazards$\\rightarrow$ what we don't have in the process we don't need to control"
   ]
  },
  {
   "cell_type": "markdown",
   "metadata": {},
   "source": [
    "### Design Strategies to Enhance Safety\n",
    "\n",
    "For every risk assessment, ask:\n",
    "- What can go wrong & how ?\n",
    "- What are the chances ?\n",
    "- Consequences ?\n",
    "\n",
    "If the risk is not acceptable, modify the design and go through the risk assessment process again before proceeding to the next stage of the design process.\n",
    "\n",
    "<p style=\"text-align:center;\">\n",
    "<img src=\"lecture 19-images/Capture-risk based procedure.PNG\" width=500>\n",
    "</p>"
   ]
  },
  {
   "cell_type": "markdown",
   "metadata": {},
   "source": [
    "## Inherently Safer Design Strategies\n",
    "\n",
    "<p style=\"text-align:center;\">\n",
    "<img src=\"lecture 19-images/Capture -Safer design strategies.PNG\" width=700>\n",
    "</p>"
   ]
  },
  {
   "cell_type": "markdown",
   "metadata": {},
   "source": [
    "## When should we incorporate safety in the design process?\n",
    "\n",
    "<p style=\"text-align:center;\">\n",
    "<img src=\"lecture 19-images/Capture - cost vs time.PNG\" width=400>\n",
    "</p>"
   ]
  },
  {
   "cell_type": "markdown",
   "metadata": {},
   "source": [
    "## Links for Resources:\n",
    "\n",
    "<strong>Textbook for Safety</strong>:\n",
    "\n",
    "D. A. Crowl and J. F. Louvar *Chemical Process Safety: Fundamentals with Applications* Fourth Edition, 2019 or Third Edition, 2011 Available on Library Online Course Reserves on Canvas or through UBC Library: <a href=\"https://gw2jh3xr2c.search.serialssolutions.com/?sid=sersol&SS_jc=TC_034493313&title=Chemical%20Process%20Safety%3A%20Fundamentals%20with%20Applications%2C%20Fourth%20Edition\">Chemical Process Safety: Fundamentals with Applications - UBC library</a>\n",
    "\n",
    "Roy E. Sanders *Chemical Process Safety : Learning from Case Histories* Available on UBC Library: http://tinyurl.com/v232qe8\n",
    "\n",
    "J. Foster and B. Barnetson Health and Safety in Canadian Workplaces https://www.aupress.ca/books/120259-health-and-safety-in-canadian-workplaces/\n",
    "\n",
    "<strong>AICHE Certificate Program</strong>:\n",
    "\n",
    "Safety in Chemical Process Industries https://www.aiche.org/ccps/community/technological-communities/safety-and-chemical-engineering-education-sache\n",
    "\n",
    "<strong>Chemical Safety Hazard Investigation Board</strong>:https://www.csb.gov/\n",
    "\n",
    "<strong>AICHE Center for Chemical Process Safety</strong>: https://www.aiche.org/ccps"
   ]
  },
  {
   "cell_type": "markdown",
   "metadata": {},
   "source": [
    "## Significant Disasters\n",
    "\n",
    "### Flixborough, England, 1974 \n",
    "\n",
    "* rupture inadequately supported bypass pipe, 155 °C, 7.9 atm\n",
    "\n",
    "* vapor cloud 30 ton cyclohexane\n",
    "\n",
    "* explosion & fire inventories (10 days)\n",
    "\n",
    "* 28 killed, 36 + 53 injured, much damage\n",
    "\n",
    "Link to source:\n",
    "\n",
    "https://www.hse.gov.uk/comah/sragtech/caseflixboroug74.htm\n",
    "\n",
    "### Seveso, Italy, 1976\n",
    "\n",
    "* reactor out of control ( run away )\n",
    "\n",
    "* vapor cloud 2 kg dioxin\n",
    "\n",
    "* 700 affected, 730 evacuated\n",
    "\n",
    "* 252 km contaminated ( 40 factories ) \n",
    "\n",
    "Link to source:\n",
    "\n",
    "https://www.hse.gov.uk/comah/sragtech/caseseveso76.htm\n",
    "\n",
    "### Bhopal, India, 1984\n",
    "\n",
    "* not operating scrubber & flare system\n",
    "\n",
    "* vapor cloud 25 ton toxic MIC\n",
    "\n",
    "* 2000 killed, 20.000 injured, no damage\n",
    "\n",
    "Link to source: \n",
    "\n",
    "https://www.hse.gov.uk/comah/sragtech/caseuncarbide84.htm\n",
    "\n",
    "### Oppau, Germany, 1921\n",
    "\n",
    "* 4500 tonnes of ammonium sulfate and ammonium nitrate explosion\n",
    "\n",
    "* over 500 killed, over 2000 injured\n",
    "\n",
    "* forming a crator  125m long and 19m deep\n",
    "\n",
    "Link to source:\n",
    "\n",
    "https://h2g2.com/edited_entry/A11816697\n",
    "\n",
    "### Texas city, Texas, US, 1947\n",
    "\n",
    "* fire on cargo containing 2200 tonnes of ammonia nitrate, mishandled with steam\n",
    "\n",
    "* chain reaction of fire and explosion\n",
    "\n",
    "* over 581 killed\n",
    "\n",
    "* one of the largest non-nulear explosions in the history\n",
    "\n",
    "Link to source:\n",
    "\n",
    "http://www.local1259iaff.org/disaster.html"
   ]
  },
  {
   "cell_type": "markdown",
   "metadata": {},
   "source": [
    "### Reference\n",
    "\n",
    "[1] J. Foster and B. Barnetson, *Health and Safety in Canadian Workplaces*,  Athabasca University, Edmonton, AB, Canada, 2016.\n",
    "\n",
    "Some texts anf figures are adopted from:  D. A. Crowl and J. F. Louvar *Chemical Process Safety: Fundamentals with Applications* Fourth Edition, 2019"
   ]
  }
 ],
 "metadata": {
  "kernelspec": {
   "display_name": "Python 3",
   "language": "python",
   "name": "python3"
  },
  "language_info": {
   "codemirror_mode": {
    "name": "ipython",
    "version": 3
   },
   "file_extension": ".py",
   "mimetype": "text/x-python",
   "name": "python",
   "nbconvert_exporter": "python",
   "pygments_lexer": "ipython3",
   "version": "3.7.6"
  }
 },
 "nbformat": 4,
 "nbformat_minor": 4
}
