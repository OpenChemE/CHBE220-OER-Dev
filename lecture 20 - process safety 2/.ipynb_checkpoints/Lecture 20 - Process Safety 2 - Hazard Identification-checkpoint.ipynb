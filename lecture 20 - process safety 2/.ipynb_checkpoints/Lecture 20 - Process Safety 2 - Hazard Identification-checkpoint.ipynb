{
 "cells": [
  {
   "cell_type": "markdown",
   "metadata": {},
   "source": [
    "# Lecture 20 - Process Safety 2 - hazard indentification"
   ]
  },
  {
   "cell_type": "markdown",
   "metadata": {},
   "source": [
    "## Objectives\n",
    "\n",
    "By the end of this class you will be able to:\n",
    "\n",
    "### List and describe\n",
    "process hazard analysis techniques\n",
    "\n",
    "### Apply the following process hazard analysis methods\n",
    "\n",
    "What-if analysis\n",
    "\n",
    "Cheklist / checklist combined with what-if analysis\n",
    "\n",
    "Failure modes and effect analysis (FMEA)\n",
    "\n",
    "Fault-tree analysis"
   ]
  },
  {
   "cell_type": "markdown",
   "metadata": {},
   "source": [
    "## PHA - Process Hazard Analysis\n",
    "\n",
    "### Two Major Categories:\n",
    "\n",
    "1. Non-scenario based methods - depends on experties of the team\n",
    "\n",
    "2. Senario based methods - predict accident senarios\n",
    "\n",
    "### Before Starting PHA, Need:\n",
    "\n",
    "* Extent of hazards - the strength or magnitude of the hazard (e.g the area affected by a flood, the strength of an earthquake described by the Richter Scale)\n",
    "\n",
    "* Number of people potentially affected\n",
    "\n",
    "* Age of process\n",
    "\n",
    "* Operating history - process changes, failures, past incidents\n",
    "\n",
    "* Generally reviewing PHA at least every 5 years\n",
    "\n",
    "### Preparing for PHA Meetings\n",
    "\n",
    "* Selecting team \n",
    ">Generally want diversity- Engineering and process operations expertise,\n",
    "design, operations, maintenance…\n",
    ">\n",
    "> One team member with process experience\n",
    ">\n",
    "> One team member knowledgeable in PHA\n",
    "methodology\n",
    "\n",
    "\n",
    "* Develop schedule\n",
    "\n",
    "* Gather and distribute information to be analyzed\n",
    "\n",
    "* Meeting anf team roles ( leader, scribe, etc.)"
   ]
  },
  {
   "cell_type": "markdown",
   "metadata": {},
   "source": [
    "### Before PHA\n",
    " \n",
    "* Site walk through\n",
    "> Observe layout, verify information, obtain mental picture\n",
    ">\n",
    ">Key contacts at facility for background, questions, etc\n",
    ">\n",
    ">Whole team should participate\n",
    "* Verify key information in documents\n",
    "\n",
    "### Information Required for PHA\n",
    "\n",
    "* PFDs with material balances\n",
    "* MSDS\n",
    "* Relevant standards \n",
    "> e.g. American Society of Mechanical Engineers (ASME) \n",
    "* Plant layout, equipment arrangement\n",
    "* Equipment design bases - temperature and pressure that the equipment is designed for ( how much temperature / pressure the equipment can withstand)\n",
    "\n",
    "* Operating procedures\n",
    "\n",
    "* Relief valve, flare / scrubber systems\n",
    "\n",
    "* Critical alarms and shutdown\n",
    "* previous incidents"
   ]
  },
  {
   "cell_type": "markdown",
   "metadata": {},
   "source": [
    "## What-if Analysis\n",
    "\n",
    "* Identifies problems but doesn't specify likelihood\n",
    "\n",
    "* Result in a list of potential problem occur and suggest mitigation method\n",
    "\n",
    "* Create a list of \"what-if\" questions that could potentially leads to process failure of safety hazards\n",
    "\n",
    "* Can include questions on buildings, power systems, raw materials, products, storage, material handling, in-plant environment, operating procedures, work practices, management practices, plant security, etc.\n",
    "> <strong>Typical what-if questions:</strong>\n",
    ">\n",
    "> What if the inlet stream is blocked?\n",
    ">\n",
    "> What if the pipe leaks?\n",
    ">\n",
    "> What if the temperature transmitter stops working?\n",
    ">\n",
    "> What if the valve fails open / fails closed? \n",
    ">\n",
    ">>Note: when we are talking about valves, a common language we use is that the valve \"fails open\". It means the valve breaks down while it is open and does not close anymore when it should. Similarly, valve \"fails closed\" means the valve fails when it is closed and will not open.\n",
    "\n",
    "\n",
    "* For each \"what-if\" scenario, identify the direct consequences, then suggest recommendations to mitigate the hazards\n",
    "\n",
    "Suppose we focus on analysis a reheater in the system:\n",
    "\n",
    "\n",
    "<p style=\"text-align:center;\">\n",
    "<img src=\"lecture 20-images/Capture-what-if reheater.PNG\" width=600>\n",
    "</p>\n",
    "\n",
    "<p style=\"text-align:center;\">\n",
    "<img src=\"lecture 20-images/Capture-what-if reheater analysis.PNG\" width=400>\n",
    "</p>"
   ]
  },
  {
   "cell_type": "markdown",
   "metadata": {},
   "source": [
    "<div style=\"background-color:rgba(215,192, 75, 0.15)\"> \n",
    "<br/.\n"
   ]
  },
  {
   "cell_type": "markdown",
   "metadata": {},
   "source": [
    "<div style=\"background-color:rgba(215,192, 75, 0.15)\"> \n",
    "<br/>\n",
    "    \n",
    "**Example: Reheater What-if Analysis**    \n",
    "    \n",
    "For the same reheater system, what is the most important consequences if the temperature transmitter stops working and keeps reporting a low temperature? What is a recommendation to mitigate safety hazard?   \n",
    "<p style=\"text-align:center;\">\n",
    "<img src=\"lecture 20-images/Capture-what-if reheater.PNG\" width=600>\n",
    "</p>\n",
    "    </div>"
   ]
  },
  {
   "cell_type": "markdown",
   "metadata": {},
   "source": [
    "<details>\n",
    "<summary><font color='blue'>Click here to see the solution!</font></summary>\n",
    "<div style=\"background-color:rgba(0, 0, 0, 0.05)\">    \n",
    "<p style>\n",
    "    \n",
    "**Solution**\n",
    "<br/>\n",
    "    \n",
    "**Identify the direct consequences:**\n",
    "    \n",
    "If the temperature transmitter keeps reporting a low temperature, the valve will always be open to allow more steam to flow into the reheater trying to heat up the process steam. This will cause the process steam to overheat, leading to pressure build-up in the process stream.     \n",
    "    \n",
    "**Recommendations:**\n",
    "    \n",
    "A pressure relief valve should be installed on the process stream in case of pressure build-up.\n",
    "    \n",
    "</p>\n",
    "</div>        \n",
    "</details>"
   ]
  },
  {
   "cell_type": "markdown",
   "metadata": {},
   "source": [
    "<div style=\"background-color:rgba(215,192, 75, 0.15)\"> \n",
    "<br/>\n",
    "    \n",
    "**Example: Distillation Column What-if Analysis**    \n",
    "\n",
    "<p style=\"text-align:center;\">\n",
    "<img src=\"lecture 20-images/Capture-what-if distillation column.PNG\" width=500>\n",
    "</p>\n",
    "    \n",
    "For the distillation column shown above, perform what-if analyses for the following questions:\n",
    "    \n",
    "a) What if stream 2 is blocked?\n",
    "    \n",
    "b) What if V-102 fails open?    \n",
    "    </div>"
   ]
  },
  {
   "cell_type": "markdown",
   "metadata": {},
   "source": [
    "<details>\n",
    "<summary><font color='blue'>Click here to see the solution!</font></summary>\n",
    "<div style=\"background-color:rgba(0, 0, 0, 0.05)\">    \n",
    "<p style>\n",
    "    \n",
    "**Solution**\n",
    "<br/>\n",
    "    \n",
    "<strong> If stream 2 is blocked:</strong>\n",
    "    \n",
    "If stream is blocked, the outflow of the vapor component will be stopped. This will cause the pressure to build up in the distillation column.\n",
    "    \n",
    "A pressure relief valve should be installed in the distillation column in case of potential explosion due to pressure build-up.\n",
    "  \n",
    "<strong> If V-102 fails open:</strong>    \n",
    "\n",
    "If V-102 fails open, it will cause free flow of the condensate out of the distillation column. None of the condensate will be vapourized by the reboiler and go back to the distillation column. This will shift the vapour-liquid equilibrium in the distillation column, decreasing the efficiency of separation.\n",
    "\n",
    "No significant safety hazard associated with the risk of V-102 fails open. No recommendation needed.\n",
    "    \n",
    "</p>\n",
    "</div>        \n",
    "</details>"
   ]
  },
  {
   "cell_type": "markdown",
   "metadata": {},
   "source": [
    "## Checklist analysis\n",
    "* Create a list of common hazards in the system\n",
    "* Used from design to the end of life for the plant\n",
    "* Can be combined with what-if technique: go through checklist first and then apply what-if analysis"
   ]
  },
  {
   "cell_type": "markdown",
   "metadata": {},
   "source": [
    "## Failure Modes and Effect Analysis (FMEA)\n",
    "\n",
    "* Tabulation of plant equipment, failure modes, and the effects of the failures\n",
    "* Identify failure modes (what causes an equipment to fail), analyze result of single failure\n",
    "> Sample failure mode of an equipment:\n",
    "> <p style=\"text-align:center;\">\n",
    "<img src=\"lecture 20-images/Capture-FMEA pump example.PNG\" width=600>\n",
    "</p>\n",
    "* Not useful for combination of failures\n",
    "* Add criticality analysis to look at severity of failure (analyzing severity of the effects of failure and the likelihood of occurrence)\n",
    "* Need 2 or more experienced analysts to analyze equipment\n",
    "\n",
    "<p style=\"text-align:center;\">\n",
    "<img src=\"lecture 20-images/Capture-sample FMEA table filled.PNG\" width=500>\n",
    "</p>"
   ]
  },
  {
   "cell_type": "markdown",
   "metadata": {},
   "source": [
    "## Fault-tree Analysis\n",
    "* Analysis everything that could lead to one particulat incident\n",
    "* Identifies failure pathways leading to an incident\n",
    "* Used from design to the end of life \n",
    "* Use logic diagrams\n",
    "Common symbols used in the logic diagrams:\n",
    "<p style=\"text-align:center;\">\n",
    "<img src=\"lecture 20-images/Capture-fault tree logical diagram-1.PNG\" width=600>\n",
    "<img src=\"lecture 20-images/Capture-fault tree logical diagram-2.PNG\" width=600>\n",
    "</p>"
   ]
  },
  {
   "cell_type": "markdown",
   "metadata": {},
   "source": [
    "<div style=\"background-color:rgba(75, 171, 215, 0.15)\"> \n",
    "<br/>\n",
    "<strong> Example</strong> \n",
    "Calculate the frequencies of all the intermediate events:   \n",
    "    \n",
    "<p style=\"text-align:center;\">\n",
    "<img src=\"lecture 20-images/Capture-fault tree analysis example.PNG\" width=550>\n",
    "</p>    \n",
    "    \n",
    "<strong> Solution </strong>  \n",
    "We start with the intermediate event that has known frequencies for all of its input events and work our way up.\n",
    "    \n",
    "<strong> Step 1:</strong> Calcuate the frequency of \"tube rupture due to over pressurization\":\n",
    "The intermediate event is connected to the input events by an \"and\" gate, so we multiply the frequencies.     \n",
    "$$0.0010×0.065=0.0065$$  \n",
    "    \n",
    "<strong> Step 2:</strong> Calcuate the frequency of \"leaks between process fluids\":\n",
    "The intermediate event is connected to the input events by an \"or\" gate, so we add the frequencies.     \n",
    "$$0.054+0.0065=0.0605$$      \n",
    "    \n",
    "<strong> Step 3:</strong> Calcuate the frequency of \"heat exchanger fails to isolate and contaminates other equipment\":\n",
    "The intermediate event is connected to the input events by an \"and\" gate, so we multiply the frequencies.  \n",
    "$$0.0605×0.0702=0.004356$$      \n",
    "So in general, the resulting frequencies are:    \n",
    "<p style=\"text-align:center;\">\n",
    "<img src=\"lecture 20-images/Capture-fault tree analysis example answer.PNG\" width=550>\n",
    "</p>       "
   ]
  }
 ],
 "metadata": {
  "kernelspec": {
   "display_name": "Python 3",
   "language": "python",
   "name": "python3"
  },
  "language_info": {
   "codemirror_mode": {
    "name": "ipython",
    "version": 3
   },
   "file_extension": ".py",
   "mimetype": "text/x-python",
   "name": "python",
   "nbconvert_exporter": "python",
   "pygments_lexer": "ipython3",
   "version": "3.7.6"
  }
 },
 "nbformat": 4,
 "nbformat_minor": 4
}
