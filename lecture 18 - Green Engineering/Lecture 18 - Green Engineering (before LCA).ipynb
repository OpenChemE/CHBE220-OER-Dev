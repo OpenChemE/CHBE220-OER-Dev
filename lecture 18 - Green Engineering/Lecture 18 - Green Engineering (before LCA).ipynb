{
 "cells": [
  {
   "cell_type": "markdown",
   "metadata": {},
   "source": [
    "# Lecture 18 - Green Engineering - An Introduction"
   ]
  },
  {
   "cell_type": "markdown",
   "metadata": {},
   "source": [
    "## Learning Objectives\n",
    "\n",
    "By the end of this class you will be able to:\n",
    "\n",
    "## Characterize \n",
    "green engineering developments\n",
    "\n",
    "## Assess \n",
    "physical properties of substances in order to determine their environmental fate if released\n",
    "\n",
    "## Understand \n",
    "steps involved in life cycle assessment (LCA)\n",
    "\n",
    "## Interpret \n",
    "LCA results critically\n"
   ]
  },
  {
   "cell_type": "markdown",
   "metadata": {},
   "source": [
    "## Green Engineering Definition\n",
    "\n",
    "Green engineering is the design, commercialization, and use of processes and products in a way that reduces pollution, promotes sustainability, and minimizes risk to human health and the environment without sacrificing economic viability and efficiency.$^{[1]}$\n",
    "\n",
    "### Examples of Oppotunities in Green Engineering\n",
    "\n",
    "• Clean fuels\n",
    "\n",
    "• Sustainable, or even better regenerative development\n",
    "\n",
    "• Waste reduction\n",
    "\n",
    "• Not having to deal with byproducts, or finding a value in these"
   ]
  },
  {
   "cell_type": "markdown",
   "metadata": {},
   "source": [
    "## Basic Ideas Used in Green Engineering\n",
    "\n",
    "1. Substitution (the most desired) - remove the need for harful materials or choosing other process pathway to elimination the production of harmful products \n",
    "\n",
    "2. Waste reduction/ process optimization - using less harmful materials, or optimize the process to reduce the formation rate of harmful by-products \n",
    "\n",
    "3. Recycling - putting energy bank into use"
   ]
  },
  {
   "cell_type": "markdown",
   "metadata": {},
   "source": [
    "All of the concepts in green engineering processes generally translate to economic, environmental and social benefits. Processes meeting these three aims will generally thrive in the long term.\n",
    "\n",
    "<p style=\"text-align:center;\">\n",
    "<img src=\"Lecture18-Images/Capture - sustainable triangle.PNG\" width=400>"
   ]
  },
  {
   "cell_type": "markdown",
   "metadata": {},
   "source": [
    "## Environmental Regulations \n",
    "In each country a variety of environmental regulations will generally determine how companies must act as a minimum. These will dictate:\n",
    "\n",
    "• Human safety, ensuring people aren't exposed to harmful substances \n",
    "\n",
    "• Pollution control measures that must be reported\n",
    "\n",
    "• Emission limits\n",
    "\n",
    "Over time, limits generally get more restrictive → means that the most efficient processes will be the ones that succeed in the longer term.\n",
    "\n",
    "The environmental restrictions of chemicals in Canada can be found on the site of <a href=\"https://www.canada.ca/en/health-canada/services/chemical-substances/canada-approach-chemicals.html\">Government of Canada</a>."
   ]
  },
  {
   "cell_type": "markdown",
   "metadata": {},
   "source": [
    "## Waste Management Hierarchy\n",
    "\n",
    "<p style=\"text-align:center;\">\n",
    "<img src=\"Lecture18-Images/Capture - Waste management hierarchy.PNG\" width=700>"
   ]
  },
  {
   "cell_type": "markdown",
   "metadata": {},
   "source": [
    "## Environmental Fate of Contaminants\n",
    "\n",
    "Environmental fate of contaminants describes where would the substance go after it is released to the environment.\n",
    "\n",
    "### Group Contribution Method\n",
    "\n",
    "We may use our knowledge of chemical structures to predict the physical properties of the substances.\n",
    "\n",
    "Taking common chemical groups from a molecule, we can use the interactions from these to predict the properties the molecule will have based on parameters regressed from known molecules.\n",
    "\n",
    "This is an example of how physical chemistry simulation and modelling can be used to predict important properties.\n",
    "\n",
    "These properties can inform us of how a substance will act when dispersed in the environment.\n",
    "\n",
    "For the majority of organic compounds, we can analyse them from aspects of atoms, bondings and functional groups and sum up the interactions. Carbon, oxygen, hydrogen, nitrogen, halogens are the most common atoms in organic structures; bonding types include single, double and triple bonds; and functional groups are common reappearing arrangement of atoms that have predictable propertries. This way we can greatly reduce the number of meansurements by measuring the properties of a few dozens or hundreds of groups and use them for predicting the properties of any compounds. \n",
    "\n",
    "<div style=\"background-color:rgba(75, 171, 215, 0.15)\"> \n",
    "<br/>\n",
    "    \n",
    "Solubility of a substance is an important property for us to predict the way it migrates in the environment after released. As a simple example, if we have the following 3 compounds being released in a body of water:\n",
    "    \n",
    "Ethanol- a fuel commonly produced from biomass, also used as an industrial solvant for organic chemicals.     \n",
    "    \n",
    "Nonane - a flammable liquid produced from petroleum distillate fraction.\n",
    "    \n",
    "1-nonanol - a compound commonly found in oils of citrus fruits and industrially used in namufacturing of artificial lemon oil.\n",
    "    \n",
    "The structure of the 3 elements are shown below:\n",
    "    \n",
    "<p style=\"text-align:center;\">\n",
    "<img src=\"Lecture18-Images/Capture - group contribution example.PNG\" width=400>    \n",
    "    \n",
    "The -OH functional group is polar, which given the substance the property to be able to desolve in water. The long chain of alkane is nonpolar and will decrease the compound's solubility in water. From the gourp contribution analysis, ethanol will have high solubility in water due to the large portion of its structure being polar. 1-nonanol will be slightly soluable by adding up the effect of alcohol group and large carbon chain, and nonane can be considered insoluble.\n",
    "    \n",
    "<blockquote>\n",
    "The experimental data proves the analysis above:\n",
    "<br/>    \n",
    "    \n",
    "Ethanol is miscible in water, which means it can dissolve with water of any proportions.\n",
    "    \n",
    "1-nonanol has a solubility of 0.13g/L.\n",
    "    \n",
    "Nonane has a solubility of 0.00002g/L.    \n",
    "    \n",
    "</blockquote>\n",
    "    \n",
    "We can conclude that if the three substances are released in a water body, ethanol will migrate a lot faster than the other two substances, have larger effect on the aquatic ecosystem, and be more difficult to be collected for treatment.    \n",
    "    \n",
    "</div>    "
   ]
  },
  {
   "cell_type": "markdown",
   "metadata": {},
   "source": [
    "We use softwares that calculates physical properties. One physical property estimator from the US EPA (EPI WIN– Estimation Program Interface) can be downloaded from https://www.epa.gov/tsca-screening-tools/epi-suitetm-estimation-program-interface \n",
    "\n",
    "\n",
    "\n",
    "<div style=\"background-color:rgba(0,0,0,0.05)\"> \n",
    "<br/>\n",
    "    <strong> Finding Chemical Properties Using EPA</strong>\n",
    "    \n",
    "1. Input the CAS number of the molecule of interest in the \"Input CAS #\" field and click \"Search CAS\". EPI suite will find the structure based on the CAS Number. To find the CAS number, we can search the compound on <a href=\"https://webbook.nist.gov/chemistry/\">NIST</a>, and the CAS number can be found on the general session on top of the page for the substance.\n",
    "    \n",
    "2.  Click \"calculate\" to calculate the physical properties. \n",
    "    \n",
    "3. The propertiea data will be shown in the pop-up window or at the bottom of the EPI suite window. We can scroll between tabs to see subsets of results    \n",
    " \n",
    " </div>   "
   ]
  },
  {
   "attachments": {},
   "cell_type": "markdown",
   "metadata": {},
   "source": [
    "<div style=\"background-color:rgba(75, 171, 215, 0.15)\"> \n",
    "<br/>\n",
    "   \n",
    "<strong>Example: Predict the environmental fate of substances using physical perperty data </strong>   \n",
    "    \n",
    "Naphathalene, toluene and methylene chloride are common hazardous materials used in metal production industry. The following data is gathered on the EPI software:\n",
    "    \n",
    "|   Property |  Naphathlene |  Toluene  |  Mathyl Chloride |\n",
    "| :---  |  :--:  |  :---:  |  :--:  | \n",
    "| Boiling point (°C)     |   217.9    |  110.6 | 40 |\n",
    "| $log_{10}$ of octanol/water partition coefficient    |  3.30   |  2.73 | 1.25 |\n",
    "| Water Solubility(mg/L) | 31 | 526 | $$1.3×10^4$$ |   \n",
    "| Henry's Law coefficient in water (atm·m3/mol)     |    $$4.40×10^{-4}$$    |  $$6.64×10^{-3}$$   | $$3.25×10^{3}$$ | \n",
    "| $log_{10}$ of soil adsorption coefficient    |  3.189   |  2.369 | 1.337 |     \n",
    "    \n",
    "Based on the physical property data:\n",
    "    \n",
    "a. Which substance is the most likely to be transported in the water?\n",
    "  \n",
    "b. Which substance is the most likely to contaminate the soil?\n"
   ]
  },
  {
   "cell_type": "markdown",
   "metadata": {},
   "source": [
    "    \n",
    "<details>\n",
    "  <summary><font color='blue'>Click here to see the solution!</font></summary>\n",
    "<div style=\"background-color:rgba(0, 0, 0, 0.05)\"> \n",
    "<strong>Solution</strong>\n",
    "<br/>\n",
    "\n",
    "<strong>a. </strong> Methylene chloride is the most likely to be transported in the water because of its much higher solubility comparing to the other two substances.\n",
    "    \n",
    "<strong>b. </strong>  Naphathlene is the most likely to contaminate the soil because it has the highest soil absorption coefficient.\n",
    "\n",
    "</div>\n",
    "</details>\n"
   ]
  },
  {
   "cell_type": "markdown",
   "metadata": {},
   "source": [
    "<div style=\"background-color:rgba(0,0,0,0.05)\"> \n",
    "<br/>\n",
    "    \n",
    "What is octanol/water partition coefficient ($K_{ow}$)?\n",
    "    \n",
    "   \n",
    "Octanol/water partition coefficient($K_{ow}$) can be measured by disolving the substance in a container with n-octanol(a common non-polar solvant) and water(a common polar solvant). N-octanol is not soluable in water, so they will form separate layers, allowing us to measures the solubility of substance in both layers. \n",
    "    \n",
    "<p style=\"text-align:center;\">\n",
    "    <img src=\"Lecture18-Images/Capture-Kow.PNG\" width=400> </p>   \n",
    "        \n",
    "$K_{ow}$ is the ratio of the concentration of a substance dissolved in n-octanol and in water. The higher the $K_{ow}$, the less likely it is for the substance to dissolve in water. $K_{ow}$ is used in predicting the distribution of the substance when released into the environment.         \n",
    "</div>    "
   ]
  },
  {
   "cell_type": "markdown",
   "metadata": {},
   "source": [
    "### Reference\n",
    "\n",
    "[1] “About Green Engineering,” EPA, 18-Mar-2019. [Online]. Available: https://www.epa.gov/green-engineering/about-green-engineering#:~:text=Green engineering is the design,sacrificing economic viability and efficiency. [Accessed: 17-Jun-2020]."
   ]
  }
 ],
 "metadata": {
  "kernelspec": {
   "display_name": "Python 3",
   "language": "python",
   "name": "python3"
  },
  "language_info": {
   "codemirror_mode": {
    "name": "ipython",
    "version": 3
   },
   "file_extension": ".py",
   "mimetype": "text/x-python",
   "name": "python",
   "nbconvert_exporter": "python",
   "pygments_lexer": "ipython3",
   "version": "3.7.6"
  }
 },
 "nbformat": 4,
 "nbformat_minor": 4
}
