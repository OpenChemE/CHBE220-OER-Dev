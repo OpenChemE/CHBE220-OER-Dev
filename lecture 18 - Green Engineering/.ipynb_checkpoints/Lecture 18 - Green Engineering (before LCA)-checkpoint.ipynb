{
 "cells": [
  {
   "cell_type": "markdown",
   "metadata": {},
   "source": [
    "# Lecture 18 - Green Engineering - An Introduction"
   ]
  },
  {
   "cell_type": "markdown",
   "metadata": {},
   "source": [
    "## Learning Objectives\n",
    "\n",
    "By the end of this class you will be able to:\n",
    "\n",
    "## Characterize \n",
    "green engineering developments\n",
    "\n",
    "## Assess \n",
    "physical properties of substances in order to determine their environmental fate if released\n",
    "\n",
    "## Understand \n",
    "steps involved in life cycle assessment (LCA)\n",
    "\n",
    "## Interpret \n",
    "LCA results critically\n"
   ]
  },
  {
   "cell_type": "markdown",
   "metadata": {},
   "source": [
    "## Green Engineering Definition\n",
    "\n",
    "Green engineering is the design, commercialization, and use of processes and products in a way that reduces pollution, promotes sustainability, and minimizes risks to human health and the environment without sacrificing economic viability and efficiency.$^{[1]}$\n",
    "\n",
    "### Examples of Opportunities in Green Engineering\n",
    "\n",
    "• Clean fuels\n",
    "\n",
    "• Sustainable, or even better regenerative development\n",
    "\n",
    "• Waste reduction\n",
    "\n",
    "• Not having to deal with byproducts, or finding a value use for byproducts"
   ]
  },
  {
   "cell_type": "markdown",
   "metadata": {},
   "source": [
    "## Basic Ideas Used in Green Engineering\n",
    "\n",
    "Within green engineering, we can think about ways to improve processes and generally see that some of these may be more effective than others. Examples of a few means of process improvement listed in order of most effective to least effective follow.\n",
    "\n",
    "1. Elimination - remove the need for harmful materials or choosing other process pathways to eliminate the production of harmful products \n",
    "\n",
    "2. Substitution (also known as waste reduction or process optimization) - using less harmful materials, or optimizing the process to reduce the formation rate of harmful by-products \n",
    "\n",
    "3. Recycling - putting energy or materials back into use"
   ]
  },
  {
   "cell_type": "markdown",
   "metadata": {},
   "source": [
    "Concepts in green engineering processes generally translate to economic, environmental and social benefits. Processes meeting these three aims will generally thrive in the long term.\n",
    "\n",
    "<p style=\"text-align:center;\">\n",
    "<img src=\"Lecture18-Images/Capture - sustainable triangle.PNG\" width=400>"
   ]
  },
  {
   "cell_type": "markdown",
   "metadata": {},
   "source": [
    "## Environmental Regulations \n",
    "\n",
    "Environmental regulations generally determine how companies must act as a minimum. The standards may vary in each country. These will dictate:\n",
    "\n",
    "• Human safety, ensuring people aren't exposed to harmful substances \n",
    "\n",
    "• Pollution control measures that must be reported\n",
    "\n",
    "• Emission limits\n",
    "\n",
    "Over time, limits generally get more restrictive → means that the most efficient processes will be the ones that succeed in the longer term.\n",
    "\n",
    "As an example, environmental restrictions of chemicals in Canada can be found on the site of  <a href=\"https://www.canada.ca/en/health-canada/services/chemical-substances/canada-approach-chemicals.html\">Health Canada from the Government of Canada</a>."
   ]
  },
  {
   "cell_type": "markdown",
   "metadata": {},
   "source": [
    "## Waste Management Hierarchy\n",
    "\n",
    "The waste management hierarchy shows certain methods of process improvements and lists them from least to most effective. The most effective process improvements generally require more detailed engineering as they are more complex, however they also can create much more efficient processes.\n",
    "\n",
    "<p style=\"text-align:center;\">\n",
    "<img src=\"Lecture18-Images/Capture - Waste management hierarchy.PNG\" width=700>"
   ]
  },
  {
   "cell_type": "markdown",
   "metadata": {},
   "source": [
    "## Environmental Fate of Contaminants\n",
    "\n",
    "Environmental fate of contaminants describes where substances will go when released into the environment.\n",
    "\n",
    "### Group Contribution Method\n",
    "\n",
    "We may use our knowledge of chemical structures to predict the physical properties of the chemical substances.\n",
    "\n",
    "Taking common chemical groups from a molecule, we can use the interactions from these groups to predict the properties the molecule will have based on parameters regressed from known molecules.\n",
    "\n",
    "This is an example of how physical chemistry simulation and modelling can be used to predict important properties.\n",
    "\n",
    "These properties can inform us of how a substance will act when dispersed in the environment.\n",
    "\n",
    "\n",
    "\n",
    "<div style=\"background-color:rgba(75, 171, 215, 0.15)\"> \n",
    "<br/>\n",
    "    \n",
    "Solubility of a substance is an important property for us to predict the way it migrates in the environment after released. As a simple example, imagine we have the following 3 compounds being released in a body of water:\n",
    "    \n",
    "Ethanol- a fuel commonly produced from biomass, also used as an industrial solvant for organic chemicals.     \n",
    "    \n",
    "Nonane - a flammable liquid produced from petroleum.\n",
    "    \n",
    "1-nonanol - a compound commonly found in oils of citrus fruits and industrially used in manufacturing of artificial lemon oil.\n",
    "    \n",
    "The chemical structures of the 3 compounds are shown below:\n",
    "    \n",
    "<p style=\"text-align:center;\">\n",
    "<img src=\"Lecture18-Images/Capture - group contribution example.PNG\" width=400>    \n",
    "    \n",
    "The -OH functional group is polar, which helps a compound to interact with and dissolve in water (a polar solvent). The long chain of alkanes are nonpolar and will decrease a compound's solubility in water.\n",
    "    \n",
    "Using the group contribution analysis principle, ethanol will have the highest solubility in water due to a significant portion of its structure being polar (the -OH functional group). 1-nonanol will be less soluble owing to the larger carbon chain as opposed to ethanol. Nonane will be the least soluble as there is no polar groups in the molecule. There are group contribution correlations that allow us to calculate estimates of physical properties (solubility, boiling point, etc.) based on chemical sturcture however will not cover these methods in this course.\n",
    "    \n",
    "<blockquote>\n",
    "Experimental data for solubility of each compound is shown below, you'll see this supports our rough analysis using the group contribution principles above:\n",
    "<br/>    \n",
    "    \n",
    "Ethanol is miscible in water, which means it can dissolve with water of any proportions.\n",
    "    \n",
    "1-nonanol has a solubility of 0.13g/L in water.\n",
    "    \n",
    "Nonane has a solubility of 0.00002g/L in water.    \n",
    "    \n",
    "</blockquote>\n",
    "    \n",
    "We can conclude that if the three substances are released in a water body, ethanol will migrate much faster and will likely be more difficult to collect for treatment.    \n",
    "    \n",
    "</div>    "
   ]
  },
  {
   "cell_type": "markdown",
   "metadata": {},
   "source": [
    "We can also use software to calculate physical properties. One such software is from the US EPA and is called EPI Suite – Estimation Program Interface Suite. It is only available to be run on windows and can be downloaded from https://www.epa.gov/tsca-screening-tools/epi-suitetm-estimation-program-interface.\n",
    "\n",
    "\n",
    "\n",
    "<div style=\"background-color:rgba(0,0,0,0.05)\"> \n",
    "<br/>\n",
    "    <strong> Finding Chemical Properties Using EPI Suite</strong>\n",
    "    \n",
    "1. Input the CAS number of the molecule of interest in the \"Input CAS #\" field and click \"Search CAS\". EPI Suite will find the structure based on the CAS Number. To find the CAS number, we can search for the compound on <a href=\"https://webbook.nist.gov/chemistry/\">NIST</a>, and the CAS number can be found on the general session on top of the page for the substance.\n",
    "    \n",
    "2.  Click \"calculate\" to calculate the physical properties. \n",
    "    \n",
    "3. The calculated properties will be shown in the pop-up window or on the bottom of the EPI suite window. We can scroll between tabs to see subsets of result. \n",
    " \n",
    " </div>   "
   ]
  },
  {
   "cell_type": "markdown",
   "metadata": {},
   "source": [
    "<div style=\"background-color:rgba(75, 171, 215, 0.15)\"> \n",
    "<br/>\n",
    "   \n",
    "<strong>Example: Predict the environmental fate of substances using physical property data </strong>   \n",
    "    \n",
    "Naphthalene, toluene and methylene chloride are common hazardous materials used in the metal production industry. The following data is gathered from the EPI Suite software:\n",
    "    \n",
    "|   Property |  naphthalene |  toluene  |  methylene chloride |\n",
    "| :---  |  :--:  |  :---:  |  :--:  | \n",
    "| Boiling point (°C)     |   217.9    |  110.6 | 40 |\n",
    "| $log_{10}$ of octanol/water partition coefficient    |  3.30   |  2.73 | 1.25 |\n",
    "| Water solubility(mg/L) | 31 | 526 | $$1.3×10^4$$ |   \n",
    "| Henry's law coefficient in water (atm·m3/mol)     |    $$4.40×10^{-4}$$    |  $$6.64×10^{-3}$$   | $$3.25×10^{-3}$$ | \n",
    "| $log_{10}$ of soil adsorption coefficient    |  3.189   |  2.369 | 1.337 |     \n",
    "    \n",
    "Say a mixture of these three substances is accentally released into soil with some groundwater. Based on the physical property data:\n",
    "    \n",
    "a. Which substance is the most likely to be transported in the groundwater?\n",
    "  \n",
    "b. Which substance is the most likely to contaminate the soil?\n"
   ]
  },
  {
   "cell_type": "markdown",
   "metadata": {},
   "source": [
    "    \n",
    "<details>\n",
    "  <summary><font color='blue'>Click here to see the solution!</font></summary>\n",
    "<div style=\"background-color:rgba(0, 0, 0, 0.05)\"> \n",
    "<strong>Solution</strong>\n",
    "<br/>\n",
    "\n",
    "<strong>a. </strong> Methylene chloride is the most likely to be transported in the water because of its much higher solubility compared to the other two substances.\n",
    "    \n",
    "<strong>b. </strong>  Naphthalene is the most likely to contaminate the soil because it has the highest soil adsorption coefficient.\n",
    "\n",
    "</div>\n",
    "</details>\n"
   ]
  },
  {
   "cell_type": "markdown",
   "metadata": {},
   "source": [
    "<div style=\"background-color:rgba(0,0,0,0.05)\"> \n",
    "<br/>\n",
    "    \n",
    "What is the octanol/water partition coefficient ($K_{ow}$)?\n",
    "    \n",
    "   \n",
    "The octanol/water partition coefficient($K_{ow}$) can be measured by disolving a substance in a container with n-octanol(a common non-polar solvant) and water(a common polar solvant). N-octanol is not soluble in water, so water and n-octanol will form separate phases. This allows us to measure the distribution of a third substance between water (a polar phase) and n-octanol (a non-polar phase).\n",
    "    \n",
    "<p style=\"text-align:center;\">\n",
    "    <img src=\"Lecture18-Images/Capture-Kow.PNG\" width=400> </p>   \n",
    "        \n",
    "$K_{ow}$ is the ratio of the concentration of a substance dissolved in n-octanol and in water. The higher the $K_{ow}$, the less likely it is for the substance to dissolve in water. $K_{ow}$ is used in predicting the distribution of the substance when released into the environment if it is exposed to different solvents (such as water or oils).  \n",
    "    $$K_{ow}=\\frac{\\text{concentration of the substance in n-octanol}}{\\text{concentration of the substance in water}}$$\n",
    "    \n",
    "We often express the partition coefficient in the form of $log_{10}(K_{ow})$.\n",
    "    \n",
    "In general the process of dissolving one substance in another is called <strong>absorption</strong>\n",
    "</div>    "
   ]
  },
  {
   "cell_type": "markdown",
   "metadata": {},
   "source": [
    "<div style=\"background-color:rgba(75, 171, 215, 0.15)\"> \n",
    "<br/>\n",
    "\n",
    "<strong> Example: Using the property of $K_{ow}$ to select a pollution control method </strong>    \n",
    "      \n",
    "We will continue with the previous example with naphthalene, toluene and methylene chloride. Their properties predicted by EPI Suite are shown below:\n",
    "    \n",
    "|   Property |  naphthalene |  toluene  |  methylene chloride |\n",
    "| :---  |  :--:  |  :---:  |  :--:  | \n",
    "| Boiling point (°C)     |   217.9    |  110.6 | 40 |\n",
    "| $log_{10}$ of octanol/water partition coefficient    |  3.30   |  2.73 | 1.25 |\n",
    "| Water solubility(mg/L) | 31 | 526 | $$1.3×10^4$$ |   \n",
    "| Henry's law coefficient in water (atm·m3/mol)     |    $$4.40×10^{-4}$$    |  $$6.64×10^{-3}$$   | $$3.25×10^{-3}$$ | \n",
    "| $log_{10}$ of soil adsorption coefficient    |  3.189   |  2.369 | 1.337 |     \n",
    "    \n",
    "a. Say each of these substances is present in a waste water stream at a steel manufacturing plant in equal concentrations. And say we were to try to remove these substances by contacting them with a non-polar solvent that has similar properties to n-octanol (and leaving this for sufficient time). Which substance will have the lowest concentration in the waste water stream after this contact?    \n",
    "    \n",
    "b. Suppose the steel-manufacturing plant produces $1×10^{6}L$ of waste water per day containing naphthalene at a concentration of $1.0×10^{-3}mol/L$. This waste water is sent to a waste water treatment plant, where the waste water produced in one day is gathered and put in contract with 5000L of a non-polar solvent that has similar properties to n-octanol. What is the concentration of naphthalene in the water after this treatment? You can assume there is sufficient contact time for the solvent to absorb the napthanlene.\n",
    "    "
   ]
  },
  {
   "cell_type": "markdown",
   "metadata": {},
   "source": [
    "    \n",
    "<details>\n",
    "  <summary><font color='blue'>Click here to see the solution!</font></summary>\n",
    "<div style=\"background-color:rgba(0, 0, 0, 0.05)\"> \n",
    "<strong>Solution</strong>\n",
    "<br/>\n",
    "\n",
    "<strong>a. </strong>  Naphthalene will end up with the lowest concentration in the waste water because it has the highest $K_{ow}$. This means out of the three substances napthalene will have the largest proportion absorbed by the non-polar solvent.\n",
    "    \n",
    "<strong>b. </strong> \n",
    " \n",
    "<strong> Step 1: </strong> Calculate the total moles of naphthalene:\n",
    "    $$n=1.0×10^{-3}mol/L×1×10^{6}L=1000mol$$\n",
    "    \n",
    "<strong> Step 2: </strong> Calculate the moles of naphthalene still dissolved in the water after the absorption process:\n",
    "    \n",
    "We can set the number of moles of naphthalene remaining in the water to be x mol, then the number of moles of naphthalene entering the non-polar solvent can be espressed as (1000-x)mol.\n",
    "    \n",
    "\\begin{align*}\n",
    "\\frac{\\text{concentration of the substance in nonpolar solvent}}{\\text{concentration of the substance in water}}& = K_{ow} \\\\       \n",
    "\\frac{\\frac{1000-x}{5000}}{\\frac{x}{1×10^{6}}}& = 10^{3.30} \\\\\n",
    "\\end{align*}\n",
    "\n",
    "We can solve the equation using excel solver or a graphing calculator to find: $x=91.1 mol$.\n",
    "    \n",
    "<strong> Step 3: </strong> Calculate the final concentration of naphthalene:\n",
    "$$\\frac{91.1mol}{1×10^{6}L}=9.11×10^{-5}mol/L$$\n",
    "    \n",
    "    \n",
    "\n",
    "</div>\n",
    "</details>"
   ]
  },
  {
   "cell_type": "markdown",
   "metadata": {},
   "source": [
    "### Reference\n",
    "\n",
    "[1] “About Green Engineering,” EPA, 18-Mar-2019. [Online]. Available: https://www.epa.gov/green-engineering/about-green-engineering#:~:text=Green engineering is the design,sacrificing economic viability and efficiency. [Accessed: 17-Jun-2020]."
   ]
  }
 ],
 "metadata": {
  "kernelspec": {
   "display_name": "Python 3",
   "language": "python",
   "name": "python3"
  },
  "language_info": {
   "codemirror_mode": {
    "name": "ipython",
    "version": 3
   },
   "file_extension": ".py",
   "mimetype": "text/x-python",
   "name": "python",
   "nbconvert_exporter": "python",
   "pygments_lexer": "ipython3",
   "version": "3.7.6"
  }
 },
 "nbformat": 4,
 "nbformat_minor": 4
}
